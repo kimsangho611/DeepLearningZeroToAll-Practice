{
  "nbformat": 4,
  "nbformat_minor": 0,
  "metadata": {
    "colab": {
      "name": "모두의 딥러닝.ipynb",
      "provenance": [],
      "collapsed_sections": [],
      "authorship_tag": "ABX9TyM5p6kl5IhGqWKm5GOFe/H0",
      "include_colab_link": true
    },
    "kernelspec": {
      "name": "python3",
      "display_name": "Python 3"
    }
  },
  "cells": [
    {
      "cell_type": "markdown",
      "metadata": {
        "id": "view-in-github",
        "colab_type": "text"
      },
      "source": [
        "<a href=\"https://colab.research.google.com/github/kimsangho611/DeepLearningZeroToAll-Practice/blob/main/%EB%AA%A8%EB%91%90%EC%9D%98_%EB%94%A5%EB%9F%AC%EB%8B%9D.ipynb\" target=\"_parent\"><img src=\"https://colab.research.google.com/assets/colab-badge.svg\" alt=\"Open In Colab\"/></a>"
      ]
    },
    {
      "cell_type": "code",
      "metadata": {
        "id": "i8jVK5IUTjaG",
        "colab": {
          "base_uri": "https://localhost:8080/"
        },
        "outputId": "e9acbca8-d526-4396-ee1a-58b7786e885d"
      },
      "source": [
        "!pip uninstall tensorflow"
      ],
      "execution_count": 1,
      "outputs": [
        {
          "output_type": "stream",
          "text": [
            "Uninstalling tensorflow-2.4.0:\n",
            "  Would remove:\n",
            "    /usr/local/bin/estimator_ckpt_converter\n",
            "    /usr/local/bin/import_pb_to_tensorboard\n",
            "    /usr/local/bin/saved_model_cli\n",
            "    /usr/local/bin/tensorboard\n",
            "    /usr/local/bin/tf_upgrade_v2\n",
            "    /usr/local/bin/tflite_convert\n",
            "    /usr/local/bin/toco\n",
            "    /usr/local/bin/toco_from_protos\n",
            "    /usr/local/lib/python3.6/dist-packages/tensorflow-2.4.0.dist-info/*\n",
            "    /usr/local/lib/python3.6/dist-packages/tensorflow/*\n",
            "Proceed (y/n)? y\n",
            "y\n",
            "  Successfully uninstalled tensorflow-2.4.0\n"
          ],
          "name": "stdout"
        }
      ]
    },
    {
      "cell_type": "code",
      "metadata": {
        "id": "0EIia-YhTKd2"
      },
      "source": [
        "!pip install tensorflow==1.15 # 1.15 버전 Tensorflow 설치"
      ],
      "execution_count": null,
      "outputs": []
    },
    {
      "cell_type": "code",
      "metadata": {
        "colab": {
          "base_uri": "https://localhost:8080/",
          "height": 35
        },
        "id": "rd1xit4uMbtj",
        "outputId": "3ea085f6-2177-49d3-dbfb-159ed60efd1a"
      },
      "source": [
        "import tensorflow as tf\r\n",
        "tf.__version__"
      ],
      "execution_count": 3,
      "outputs": [
        {
          "output_type": "execute_result",
          "data": {
            "application/vnd.google.colaboratory.intrinsic+json": {
              "type": "string"
            },
            "text/plain": [
              "'1.15.0'"
            ]
          },
          "metadata": {
            "tags": []
          },
          "execution_count": 3
        }
      ]
    },
    {
      "cell_type": "markdown",
      "metadata": {
        "id": "_0M2LzoVig4G"
      },
      "source": [
        "# Hello TensorFlow!"
      ]
    },
    {
      "cell_type": "code",
      "metadata": {
        "colab": {
          "base_uri": "https://localhost:8080/"
        },
        "id": "n8QAxEE4Seg9",
        "outputId": "158470e8-5a60-4ed9-fc5c-07f0da80df37"
      },
      "source": [
        "# Create a constant op\r\n",
        "# This op is added as a node to the default graph\r\n",
        "hello = tf.constant(\"Hello, Tensorflow!\")\r\n",
        "\r\n",
        "# start a TF session\r\n",
        "sess = tf.Session()\r\n",
        "\r\n",
        "# run the op and get result\r\n",
        "print(sess.run(hello)) # b' is indicates bytes literals"
      ],
      "execution_count": null,
      "outputs": [
        {
          "output_type": "stream",
          "text": [
            "b'Hello, Tensorflow!'\n"
          ],
          "name": "stdout"
        }
      ]
    },
    {
      "cell_type": "markdown",
      "metadata": {
        "id": "y-XNNkhsibC2"
      },
      "source": [
        "# Tensors Shape"
      ]
    },
    {
      "cell_type": "code",
      "metadata": {
        "colab": {
          "base_uri": "https://localhost:8080/"
        },
        "id": "u_gUCnl3TDBd",
        "outputId": "25a13751-4ea2-458e-f712-d110625c6358"
      },
      "source": [
        "a = 3 # a rank 0 tensor : this is a scalar with shape []\r\n",
        "b = [1., 2., 3.] # rank 1 [3]\r\n",
        "c = [[1., 2., 3.], [4., 5., 6.]] # rank 2 (2,3)\r\n",
        "d = [[[1., 2., 3.]], [[7., 8., 9.]]] # rank 3 (2, 1, 3)\r\n",
        "\r\n",
        "print(\"the shape of a : \", tf.shape(a))\r\n",
        "print(\"the shape of b : \", tf.shape(b))\r\n",
        "print(\"the shape of c : \", tf.shape(c))\r\n",
        "print(\"the shape of d : \", tf.shape(d))"
      ],
      "execution_count": 6,
      "outputs": [
        {
          "output_type": "stream",
          "text": [
            "the shape of a :  Tensor(\"Shape_1:0\", shape=(0,), dtype=int32)\n",
            "the shape of b :  Tensor(\"Shape_2:0\", shape=(1,), dtype=int32)\n",
            "the shape of c :  Tensor(\"Shape_3:0\", shape=(2,), dtype=int32)\n",
            "the shape of d :  Tensor(\"Shape_4:0\", shape=(3,), dtype=int32)\n"
          ],
          "name": "stdout"
        }
      ]
    },
    {
      "cell_type": "markdown",
      "metadata": {
        "id": "5W_4dYm3iWfW"
      },
      "source": [
        "# Comoutational Graph"
      ]
    },
    {
      "cell_type": "code",
      "metadata": {
        "id": "pP8N3CeqgvqN"
      },
      "source": [
        "node1 = tf.constant(3.0, tf.float32)\r\n",
        "node2 = tf.constant(4.0) # also tf.float32 implicitly\r\n",
        "node3 = tf.add(node1, node2)"
      ],
      "execution_count": null,
      "outputs": []
    },
    {
      "cell_type": "code",
      "metadata": {
        "colab": {
          "base_uri": "https://localhost:8080/"
        },
        "id": "bBtOebiJhkdH",
        "outputId": "1ee558ec-4c45-4799-eb5e-52119be2bf69"
      },
      "source": [
        "print(\"node1 : \", node1, \"node2 : \", node2) # 그래프의 한 요소임을 알려줌\r\n",
        "print(\"node3 : \", node3)"
      ],
      "execution_count": null,
      "outputs": [
        {
          "output_type": "stream",
          "text": [
            "node1 :  Tensor(\"Const_6:0\", shape=(), dtype=float32) node2 :  Tensor(\"Const_7:0\", shape=(), dtype=float32)\n",
            "node3 :  Tensor(\"Add_3:0\", shape=(), dtype=float32)\n"
          ],
          "name": "stdout"
        }
      ]
    },
    {
      "cell_type": "code",
      "metadata": {
        "colab": {
          "base_uri": "https://localhost:8080/"
        },
        "id": "ikgBDrE_kUan",
        "outputId": "45c62ca2-8eb7-498d-dcdd-5f0c0ed37261"
      },
      "source": [
        "sess = tf.Session() # node를 실행하기 위해서 \r\n",
        "print(\"sess.run(node1, node2) : \", sess.run([node1, node2]))\r\n",
        "print(\"sess.run(node3) : \", sess.run(node3))"
      ],
      "execution_count": null,
      "outputs": [
        {
          "output_type": "stream",
          "text": [
            "sess.run(node1, node2) :  [3.0, 4.0]\n",
            "sess.run(node3) :  7.0\n"
          ],
          "name": "stdout"
        }
      ]
    },
    {
      "cell_type": "markdown",
      "metadata": {
        "id": "ZD1BhZ5Gk6zG"
      },
      "source": [
        "# PlaceHolder"
      ]
    },
    {
      "cell_type": "code",
      "metadata": {
        "colab": {
          "base_uri": "https://localhost:8080/"
        },
        "id": "Q4_Njnpokssm",
        "outputId": "94354bad-3376-4996-87e9-31d9fb3949df"
      },
      "source": [
        "a = tf.placeholder(tf.float32)\r\n",
        "b = tf.placeholder(tf.float32)\r\n",
        "adder_node = a + b # + provide a shortcut for tf.add(a,b)\r\n",
        "\r\n",
        "print(sess.run(adder_node, feed_dict = {a:3, b:4.5}))\r\n",
        "print(sess.run(adder_node, feed_dict = {a: [1, 3], b: [2,4]}))"
      ],
      "execution_count": null,
      "outputs": [
        {
          "output_type": "stream",
          "text": [
            "7.5\n",
            "[3. 7.]\n"
          ],
          "name": "stdout"
        }
      ]
    },
    {
      "cell_type": "code",
      "metadata": {
        "colab": {
          "base_uri": "https://localhost:8080/"
        },
        "id": "Rpo3DHmDldYv",
        "outputId": "eb00b545-6fd9-4396-fc4a-4986923efaff"
      },
      "source": [
        "add_and_triple = adder_node * 3\r\n",
        "print(sess.run(add_and_triple, feed_dict={a:3, b:4.5}))"
      ],
      "execution_count": null,
      "outputs": [
        {
          "output_type": "stream",
          "text": [
            "22.5\n"
          ],
          "name": "stdout"
        }
      ]
    },
    {
      "cell_type": "markdown",
      "metadata": {
        "id": "vshO7zHGopJm"
      },
      "source": [
        "======================================================================================================="
      ]
    },
    {
      "cell_type": "markdown",
      "metadata": {
        "id": "usGq3WY-qNhe"
      },
      "source": [
        "![image.png](data:image/png;base64,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)\r\n",
        "![image.png](data:image/png;base64,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)"
      ]
    },
    {
      "cell_type": "code",
      "metadata": {
        "id": "wCbzF6uOlscm"
      },
      "source": [
        "tf.set_random_seed(777)"
      ],
      "execution_count": null,
      "outputs": []
    },
    {
      "cell_type": "code",
      "metadata": {
        "id": "f3OHP7lfqcjo"
      },
      "source": [
        "# X and Y data\r\n",
        "x_train = [1, 2, 3]\r\n",
        "y_train = [1, 2, 3]"
      ],
      "execution_count": null,
      "outputs": []
    },
    {
      "cell_type": "code",
      "metadata": {
        "id": "tDdg2MOkqvwH"
      },
      "source": [
        "# TensorFlow variable (trainable variable)\r\n",
        "W = tf.Variable(tf.random_normal([1]), name = \"weight\")\r\n",
        "b = tf.Variable(tf.random_normal([1]), name = \"bias\")\r\n",
        "\r\n",
        "# Our Hypothesis H(x) = W * X + b\r\n",
        "hypothesis = W * x_train + b"
      ],
      "execution_count": null,
      "outputs": []
    },
    {
      "cell_type": "code",
      "metadata": {
        "id": "HsYGT7MiuggP"
      },
      "source": [
        "# cost/loss function\r\n",
        "cost = tf.reduce_mean(tf.square(hypothesis - y_train)) # reduce_mean 함수는 평균을 구해주는 함수\r\n",
        "\r\n",
        "# optimizer\r\n",
        "train = tf.train.GradientDescentOptimizer(learning_rate = 0.01).minimize(cost)"
      ],
      "execution_count": null,
      "outputs": []
    },
    {
      "cell_type": "code",
      "metadata": {
        "colab": {
          "base_uri": "https://localhost:8080/"
        },
        "id": "DLLjfvsuuyL9",
        "outputId": "ec901628-5ede-4f36-883d-be9f7327d7ba"
      },
      "source": [
        "# Lanch the graph in a session\r\n",
        "with tf.Session() as sess : \r\n",
        "    # Initialize global variable in the graph \r\n",
        "    sess.run(tf.global_variables_initializer()) # TensorFlow variable을 쓸 때는 반드시 초기화를 해야함\r\n",
        "\r\n",
        "    # Fit in line\r\n",
        "    for step in range(2001):\r\n",
        "        _, cost_val, W_val, b_val = sess.run([train, cost, W, b])\r\n",
        "\r\n",
        "        if step % 100 == 0:\r\n",
        "            print(step, cost_val, W_val, b_val)"
      ],
      "execution_count": null,
      "outputs": [
        {
          "output_type": "stream",
          "text": [
            "0 39.759842 [-1.7834473] [0.4365785]\n",
            "100 0.17252481 [0.51872665] [1.0940013]\n",
            "200 0.10660986 [0.62168866] [0.8599906]\n",
            "300 0.06587847 [0.7026127] [0.6760312]\n",
            "400 0.040708877 [0.7662266] [0.53142214]\n",
            "500 0.025155613 [0.8162327] [0.41774613]\n",
            "600 0.015544671 [0.85554206] [0.32838663]\n",
            "700 0.009605657 [0.8864429] [0.25814193]\n",
            "800 0.0059357085 [0.9107338] [0.20292306]\n",
            "900 0.0036679066 [0.9298286] [0.15951604]\n",
            "1000 0.0022665514 [0.9448388] [0.12539423]\n",
            "1100 0.0014005932 [0.9566383] [0.0985713]\n",
            "1200 0.00086547906 [0.9659138] [0.07748596]\n",
            "1300 0.0005348128 [0.97320515] [0.06091099]\n",
            "1400 0.00033048334 [0.97893685] [0.04788166]\n",
            "1500 0.0002042174 [0.98344237] [0.0376393]\n",
            "1600 0.00012619342 [0.9869842] [0.02958794]\n",
            "1700 7.798051e-05 [0.98976845] [0.02325888]\n",
            "1800 4.818587e-05 [0.9919571] [0.01828338]\n",
            "1900 2.977675e-05 [0.99367756] [0.01437239]\n",
            "2000 1.8400391e-05 [0.9950299] [0.01129812]\n"
          ],
          "name": "stdout"
        }
      ]
    },
    {
      "cell_type": "markdown",
      "metadata": {
        "id": "5kqZ6P8UvrbX"
      },
      "source": [
        "## Linear regression Using placeholder"
      ]
    },
    {
      "cell_type": "code",
      "metadata": {
        "id": "qO8AJN8Hvga9"
      },
      "source": [
        "import tensorflow as tf\r\n",
        "tf.set_random_seed(777)"
      ],
      "execution_count": null,
      "outputs": []
    },
    {
      "cell_type": "code",
      "metadata": {
        "id": "bq_3pdpkwC_1"
      },
      "source": [
        "# Try to find values for W and b to compute y\r\n",
        "W = tf.Variable(tf.random_normal([1]), name = \"weight\")\r\n",
        "b = tf.Variable(tf.random_normal([1]), name = \"bias\")\r\n",
        "\r\n",
        "# Set placeholder\r\n",
        "X = tf.placeholder(tf.float32, shape = [None])\r\n",
        "Y = tf.placeholder(tf.float32, shape = [None])\r\n",
        "\r\n",
        "# Our Hypothesis\r\n",
        "hypothesis = X * W + b"
      ],
      "execution_count": null,
      "outputs": []
    },
    {
      "cell_type": "code",
      "metadata": {
        "id": "y7-NOKlPwxgN"
      },
      "source": [
        "# cost/lost function\r\n",
        "cost = tf.reduce_mean(tf.square(hypothesis - Y))\r\n",
        "\r\n",
        "# Optimizer\r\n",
        "train = tf.train.GradientDescentOptimizer(learning_rate=0.01).minimize(cost)"
      ],
      "execution_count": null,
      "outputs": []
    },
    {
      "cell_type": "code",
      "metadata": {
        "id": "7L0Jyj5mxMR1"
      },
      "source": [
        "# Lanch the graph in a session\r\n",
        "with tf.Session() as sess:\r\n",
        "    sess.run(tf.global_variables_initializer())\r\n",
        "\r\n",
        "    # Fit in line\r\n",
        "    for step in range(2001):\r\n",
        "        _, cost_val, W_val, b_val = sess.run([train, cost, W, b], feed_dict={X: [1, 2, 3], Y:[1, 2, 3]})\r\n",
        "\r\n",
        "        if step % 100 == 0:\r\n",
        "            print(step, cost_val, W_val, b_val)\r\n",
        "\r\n",
        "    print(\"====================================================\")\r\n",
        "    # Test out model\r\n",
        "    print(sess.run(hypothesis, feed_dict={X: [5]}))\r\n",
        "    print(sess.run(hypothesis, feed_dict = {X: [2.5]}))\r\n",
        "    print(sess.run(hypothesis, feed_dict = {X: [1.5, 3.5]}))\r\n",
        "\r\n",
        "    print(\"====================================================\")\r\n",
        "    for step in range(2001):\r\n",
        "        _, cost_val, W_val, b_val = sess.run([train, cost, W, b], feed_dict={X: [1,2,3,4,5], Y: [2.1, 3.1, 4.1, 5.1, 6.1]})\r\n",
        "\r\n",
        "        if step % 100 == 0: print(step, cost_val, W_val, b_val)\r\n",
        "\r\n",
        "    print(\"====================================================\")\r\n",
        "    print(sess.run(hypothesis, feed_dict={X: [5]}))\r\n",
        "    print(sess.run(hypothesis, feed_dict = {X: [2.5]}))\r\n",
        "    print(sess.run(hypothesis, feed_dict = {X: [1.5, 3.5]}))"
      ],
      "execution_count": null,
      "outputs": []
    },
    {
      "cell_type": "markdown",
      "metadata": {
        "id": "e2z3ZyAz4e5G"
      },
      "source": [
        "======================================================================================================="
      ]
    },
    {
      "cell_type": "markdown",
      "metadata": {
        "id": "P6mNLQFP-EQl"
      },
      "source": [
        "# Minimize cost using gradient decent algorithm"
      ]
    },
    {
      "cell_type": "code",
      "metadata": {
        "id": "plZoN9ZnyI2O"
      },
      "source": [
        "import tensorflow as tf\r\n",
        "import matplotlib.pyplot as plt"
      ],
      "execution_count": null,
      "outputs": []
    },
    {
      "cell_type": "code",
      "metadata": {
        "id": "R48MNncT489u"
      },
      "source": [
        "X = [1, 2, 3]\r\n",
        "Y = [1, 2, 3]\r\n",
        "\r\n",
        "W = tf.placeholder(tf.float32)\r\n",
        "\r\n",
        "# Our hypothesis for ilnear model X * W\r\n",
        "hypothesis = W * X\r\n",
        "\r\n",
        "# cost/lost function\r\n",
        "cost = tf.reduce_mean(tf.square(hypothesis - Y))\r\n",
        "\r\n",
        "# Variable for plotting cost function\r\n",
        "W_history = []\r\n",
        "cost_history = []"
      ],
      "execution_count": null,
      "outputs": []
    },
    {
      "cell_type": "code",
      "metadata": {
        "id": "WswHIwyv82tD"
      },
      "source": [
        "# Lanch the graph in a session\r\n",
        "with tf.Session() as sess:\r\n",
        "    for i in range(-30, 50):\r\n",
        "        curr_w = i * 0.1 # -3 ~ 5까지 0.1만큼 움직이면서\r\n",
        "        curr_cost = sess.run(cost, feed_dict={W: curr_w})\r\n",
        "\r\n",
        "        W_history.append(curr_w)\r\n",
        "        cost_history.append(curr_cost)"
      ],
      "execution_count": null,
      "outputs": []
    },
    {
      "cell_type": "code",
      "metadata": {
        "colab": {
          "base_uri": "https://localhost:8080/",
          "height": 279
        },
        "id": "rhZi1_f39hG8",
        "outputId": "e390806a-a839-4965-d390-a3559e902f9a"
      },
      "source": [
        "plt.plot(W_history, cost_history) # Cost function 그림\r\n",
        "plt.xlabel(\"Weight\")\r\n",
        "plt.ylabel(\"Cost\")\r\n",
        "plt.show()"
      ],
      "execution_count": null,
      "outputs": [
        {
          "output_type": "display_data",
          "data": {
            "image/png": "[encoded data removed]",
            "text/plain": [
              "<Figure size 432x288 with 1 Axes>"
            ]
          },
          "metadata": {
            "tags": [],
            "needs_background": "light"
          }
        }
      ]
    },
    {
      "cell_type": "code",
      "metadata": {
        "id": "iiOcRsh49oiM"
      },
      "source": [
        "import tensorflow as tf\r\n",
        "tf.set_random_seed(777)"
      ],
      "execution_count": null,
      "outputs": []
    },
    {
      "cell_type": "code",
      "metadata": {
        "id": "_xLNsxI5-QqM"
      },
      "source": [
        "x_data = [1, 2, 3]\r\n",
        "y_data = [1, 2, 3]\r\n",
        "\r\n",
        "# weight\r\n",
        "W = tf.Variable(tf.random_normal([1]), name = \"weight\")\r\n",
        "\r\n",
        "X = tf.placeholder(tf.float32)\r\n",
        "Y = tf.placeholder(tf.float32)\r\n",
        "\r\n",
        "# Our hypothesis\r\n",
        "hypothesis = W * X\r\n",
        "\r\n",
        "# cost/lost function\r\n",
        "cost = tf.reduce_mean(tf.square(hypothesis - Y))"
      ],
      "execution_count": null,
      "outputs": []
    },
    {
      "cell_type": "code",
      "metadata": {
        "id": "Y3PBnlRl-_rz"
      },
      "source": [
        "# minimize : Gradient Desent using derivarive\r\n",
        "learning_rate = 0.1 # Set 알파\r\n",
        "gradient = tf.reduce_mean((W * X - Y) * X) # get 미분 값 \r\n",
        "descent = W - learning_rate * gradient # Calculate gradient\r\n",
        "update = W.assign(descent) # update weight"
      ],
      "execution_count": null,
      "outputs": []
    },
    {
      "cell_type": "code",
      "metadata": {
        "id": "lZ82dkVS_tic"
      },
      "source": [
        "with tf.Session() as sess: # open session\r\n",
        "    sess.run(tf.global_variables_initializer())\r\n",
        "\r\n",
        "    for step in range(30) :\r\n",
        "        _, cost_val, W_val = sess.run([update, cost, W], feed_dict={X:x_data, Y:y_data})\r\n",
        "        print(step, cost_val, W_val)"
      ],
      "execution_count": null,
      "outputs": []
    },
    {
      "cell_type": "markdown",
      "metadata": {
        "id": "FVzmiLmLFOx3"
      },
      "source": [
        "======================================================================================================="
      ]
    },
    {
      "cell_type": "markdown",
      "metadata": {
        "id": "OP1IXgX-FUwD"
      },
      "source": [
        "# Multivariable linear regression"
      ]
    },
    {
      "cell_type": "code",
      "metadata": {
        "id": "UiBq89R2AQfu"
      },
      "source": [
        "import tensorflow as tf\r\n",
        "tf.set_random_seed(777)\r\n",
        "\r\n",
        "x1_data = [73., 93., 89., 96., 73.]\r\n",
        "x2_data = [80., 88., 91., 98., 66.]\r\n",
        "x3_data = [75., 93., 90., 100., 70.]\r\n",
        "\r\n",
        "y_data = [152., 185., 180., 196., 142.]\r\n",
        "\r\n",
        "# placeholders for a tensor that will be always fed.\r\n",
        "x1 = tf.placeholder(tf.float32)\r\n",
        "x2 = tf.placeholder(tf.float32)\r\n",
        "x3 = tf.placeholder(tf.float32)\r\n",
        "\r\n",
        "Y = tf.placeholder(tf.float32)\r\n",
        "\r\n",
        "w1 = tf.Variable(tf.random_normal([1]), name='weight1')\r\n",
        "w2 = tf.Variable(tf.random_normal([1]), name='weight2')\r\n",
        "w3 = tf.Variable(tf.random_normal([1]), name='weight3')\r\n",
        "b = tf.Variable(tf.random_normal([1]), name='bias')\r\n",
        "\r\n",
        "hypothesis = x1 * w1 + x2 * w2 + x3 * w3 + b"
      ],
      "execution_count": null,
      "outputs": []
    },
    {
      "cell_type": "code",
      "metadata": {
        "id": "ZzrNs0mFGvYM"
      },
      "source": [
        "# cost/lost function\r\n",
        "cost = tf.reduce_mean(tf.square(hypothesis - Y))\r\n",
        "\r\n",
        "# Minimize\r\n",
        "train = tf.train.GradientDescentOptimizer(learning_rate=1e-5).minimize(cost)"
      ],
      "execution_count": null,
      "outputs": []
    },
    {
      "cell_type": "code",
      "metadata": {
        "id": "Alnj4XVdJWfj"
      },
      "source": [
        "sess = tf.Session()\r\n",
        "sess.run(tf.global_variables_initializer())\r\n",
        "\r\n",
        "for step in range(4001):\r\n",
        "    cost_val, hy_val, _ = sess.run([cost, hypothesis, train], feed_dict={x1: x1_data, x2: x2_data, x3: x3_data, Y:y_data})\r\n",
        "    if step % 200 == 0: print(step, \"Cost : \", cost_val, \"\\nPrediction : \\n\", hy_val)"
      ],
      "execution_count": null,
      "outputs": []
    },
    {
      "cell_type": "markdown",
      "metadata": {
        "id": "6dmfKM97K_xe"
      },
      "source": [
        "# Multivariable linear regerssion using matrix"
      ]
    },
    {
      "cell_type": "code",
      "metadata": {
        "id": "tA-7JflQJ4BW"
      },
      "source": [
        "import tensorflow as tf\r\n",
        "tf.set_random_seed(777)  # for reproducibility\r\n",
        "\r\n",
        "x_data = [[73., 80., 75.],\r\n",
        "          [93., 88., 93.],\r\n",
        "          [89., 91., 90.],\r\n",
        "          [96., 98., 100.],\r\n",
        "          [73., 66., 70.]]\r\n",
        "y_data = [[152.],\r\n",
        "          [185.],\r\n",
        "          [180.],\r\n",
        "          [196.],\r\n",
        "          [142.]]\r\n",
        "\r\n",
        "X = tf.placeholder(tf.float32, shape = [None, 3]) # the shape of X is (n, 3)\r\n",
        "Y = tf.placeholder(tf.float32, shape = [None, 1]) # the shape of Y is (n. 1)\r\n",
        "\r\n",
        "W = tf.Variable(tf.random_normal([3, 1]), name = 'weight')\r\n",
        "b = tf.Variable(tf.random_normal([1]), name = \"bias\")\r\n",
        "\r\n",
        "hypothesis = tf.matmul(X, W) + b"
      ],
      "execution_count": null,
      "outputs": []
    },
    {
      "cell_type": "code",
      "metadata": {
        "id": "E4JY23lzLvMj"
      },
      "source": [
        "# cost/lost function\r\n",
        "cost = tf.reduce_mean(tf.square(hypothesis - Y))\r\n",
        "\r\n",
        "train = tf.train.GradientDescentOptimizer(learning_rate=1e-5).minimize(cost)"
      ],
      "execution_count": null,
      "outputs": []
    },
    {
      "cell_type": "code",
      "metadata": {
        "id": "S7rjmb2hL_vT"
      },
      "source": [
        "sess = tf.Session()\r\n",
        "sess.run(tf.global_variables_initializer())\r\n",
        "\r\n",
        "for step in range(2001):\r\n",
        "    cost_val, hy_val, _ = sess.run([cost, hypothesis, train], feed_dict={X: x_data, Y:y_data})\r\n",
        "    if step % 100 == 0: print(step, \"Cost : \", cost_val, \"\\nPrediction : \\n\", hy_val)"
      ],
      "execution_count": null,
      "outputs": []
    },
    {
      "cell_type": "markdown",
      "metadata": {
        "id": "hQRea0WJN2cs"
      },
      "source": [
        "# Multivariable linear regerssion using file data"
      ]
    },
    {
      "cell_type": "code",
      "metadata": {
        "id": "RCp99Y6SMiGL"
      },
      "source": [
        "import tensorflow as tf\r\n",
        "import numpy as np\r\n",
        "import pandas as pd\r\n",
        "from google.colab import drive, files\r\n",
        "tf.set_random_seed(777)"
      ],
      "execution_count": 106,
      "outputs": []
    },
    {
      "cell_type": "code",
      "metadata": {
        "colab": {
          "resources": {
            "http://localhost:8080/nbextensions/google.colab/files.js": {
              "data": "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",
              "ok": true,
              "headers": [
                [
                  "content-type",
                  "application/javascript"
                ]
              ],
              "status": 200,
              "status_text": ""
            }
          },
          "base_uri": "https://localhost:8080/",
          "height": 76
        },
        "id": "FYwAr2SrVTZb",
        "outputId": "6b878483-94c5-4b67-bcfb-428a7617725a"
      },
      "source": [
        "uploaded = files.upload()"
      ],
      "execution_count": 107,
      "outputs": [
        {
          "output_type": "display_data",
          "data": {
            "text/html": [
              "\n",
              "     <input type=\"file\" id=\"files-4097d7c1-07ad-4471-a96d-d12a7996d2c8\" name=\"files[]\" multiple disabled\n",
              "        style=\"border:none\" />\n",
              "     <output id=\"result-4097d7c1-07ad-4471-a96d-d12a7996d2c8\">\n",
              "      Upload widget is only available when the cell has been executed in the\n",
              "      current browser session. Please rerun this cell to enable.\n",
              "      </output>\n",
              "      <script src=\"/nbextensions/google.colab/files.js\"></script> "
            ],
            "text/plain": [
              "<IPython.core.display.HTML object>"
            ]
          },
          "metadata": {
            "tags": []
          }
        },
        {
          "output_type": "stream",
          "text": [
            "Saving data_01_test_score.csv to data_01_test_score.csv\n"
          ],
          "name": "stdout"
        }
      ]
    },
    {
      "cell_type": "code",
      "metadata": {
        "colab": {
          "base_uri": "https://localhost:8080/"
        },
        "id": "kd3zKW_wTbiM",
        "outputId": "053a041b-0937-4454-d2d6-ac39a33f4864"
      },
      "source": [
        "drive.mount('/content/drive')"
      ],
      "execution_count": 109,
      "outputs": [
        {
          "output_type": "stream",
          "text": [
            "Drive already mounted at /content/drive; to attempt to forcibly remount, call drive.mount(\"/content/drive\", force_remount=True).\n"
          ],
          "name": "stdout"
        }
      ]
    },
    {
      "cell_type": "code",
      "metadata": {
        "id": "QwYXf8eiOAFc"
      },
      "source": [
        "xy = np.loadtxt('/content/drive/My Drive/모두의 딥러닝/data_01_test_score.csv', delimiter=',', dtype = np.float32)"
      ],
      "execution_count": 110,
      "outputs": []
    },
    {
      "cell_type": "code",
      "metadata": {
        "id": "1FGMnJB9T8Yj"
      },
      "source": [
        "x_data = xy[:, 0:-1]\r\n",
        "y_data = xy[:, [-1]]\r\n",
        "\r\n",
        "print(x_data, \"\\nx_data shape : \", x_data.shape)\r\n",
        "print(y_data, \"\\ny_data shape : \", y_data.shape)"
      ],
      "execution_count": null,
      "outputs": []
    },
    {
      "cell_type": "code",
      "metadata": {
        "id": "WT-U0pHUUYiB"
      },
      "source": [
        "X = tf.placeholder(tf.float32, shape = [None, 3])\r\n",
        "Y = tf.placeholder(tf.float32, shape = [None, 1])\r\n",
        "\r\n",
        "W = tf.Variable(tf.random_normal([3, 1]), name = 'weight')\r\n",
        "b = tf.Variable(tf.random_normal([1]), name = 'bias')\r\n",
        "\r\n",
        "hypothesis = tf.matmul(X, W) + b\r\n",
        "\r\n",
        "# cost/lost function\r\n",
        "cost = tf.reduce_mean(tf.square(hypothesis - Y))\r\n",
        "\r\n",
        "train = tf.train.GradientDescentOptimizer(learning_rate=1e-5).minimize(cost)"
      ],
      "execution_count": 118,
      "outputs": []
    },
    {
      "cell_type": "code",
      "metadata": {
        "id": "tBGm9hysWYZu"
      },
      "source": [
        "sess = tf.Session()\r\n",
        "sess.run(tf.global_variables_initializer())\r\n",
        "\r\n",
        "for step in range(2001):\r\n",
        "    cost_val, hy_val, _  = sess.run([cost, hypothesis, train], feed_dict={X:x_data, Y:y_data})\r\n",
        "    if step % 1000 == 0 : print(step, \"Cost : \", cost_val, \"\\nPrediction\\n\", hy_val)"
      ],
      "execution_count": null,
      "outputs": []
    },
    {
      "cell_type": "code",
      "metadata": {
        "colab": {
          "base_uri": "https://localhost:8080/"
        },
        "id": "91hlvJ-UXeJz",
        "outputId": "77a9386b-dbaa-462a-86cb-eaea4cd4d1e0"
      },
      "source": [
        "print('Your score will be ', sess.run(hypothesis, feed_dict={X: [[100, 70, 101]]}))\r\n",
        "print('Other score will be ', sess.run(hypothesis, feed_dict={X: [[60, 70, 110], [90,100,80]]}))"
      ],
      "execution_count": 125,
      "outputs": [
        {
          "output_type": "stream",
          "text": [
            "Your score will be  [[179.6284]]\n",
            "Other score will be  [[187.34651]\n",
            " [176.60081]]\n"
          ],
          "name": "stdout"
        }
      ]
    },
    {
      "cell_type": "markdown",
      "metadata": {
        "id": "Je7VSyrMXYn0"
      },
      "source": [
        "# Multivariable linear regerssion using Queue runners"
      ]
    },
    {
      "cell_type": "code",
      "metadata": {
        "colab": {
          "base_uri": "https://localhost:8080/"
        },
        "id": "HEZzWFnlW_ab",
        "outputId": "52262218-07ba-4a63-c54f-5b985c6eb2d2"
      },
      "source": [
        "import tensorflow as tf\r\n",
        "tf.set_random_seed(777)\r\n",
        "\r\n",
        "filename_queue = tf.train.string_input_producer(\r\n",
        "    ['data_01_test_score.csv'], shuffle = False, name = 'filename_queue')\r\n",
        "\r\n",
        "reader = tf.TextLineReader()\r\n",
        "key, value = reader.read(filename_queue)"
      ],
      "execution_count": 126,
      "outputs": [
        {
          "output_type": "stream",
          "text": [
            "WARNING:tensorflow:From <ipython-input-126-90781db72672>:5: string_input_producer (from tensorflow.python.training.input) is deprecated and will be removed in a future version.\n",
            "Instructions for updating:\n",
            "Queue-based input pipelines have been replaced by `tf.data`. Use `tf.data.Dataset.from_tensor_slices(string_tensor).shuffle(tf.shape(input_tensor, out_type=tf.int64)[0]).repeat(num_epochs)`. If `shuffle=False`, omit the `.shuffle(...)`.\n",
            "WARNING:tensorflow:From /usr/local/lib/python3.6/dist-packages/tensorflow_core/python/training/input.py:277: input_producer (from tensorflow.python.training.input) is deprecated and will be removed in a future version.\n",
            "Instructions for updating:\n",
            "Queue-based input pipelines have been replaced by `tf.data`. Use `tf.data.Dataset.from_tensor_slices(input_tensor).shuffle(tf.shape(input_tensor, out_type=tf.int64)[0]).repeat(num_epochs)`. If `shuffle=False`, omit the `.shuffle(...)`.\n",
            "WARNING:tensorflow:From /usr/local/lib/python3.6/dist-packages/tensorflow_core/python/training/input.py:189: limit_epochs (from tensorflow.python.training.input) is deprecated and will be removed in a future version.\n",
            "Instructions for updating:\n",
            "Queue-based input pipelines have been replaced by `tf.data`. Use `tf.data.Dataset.from_tensors(tensor).repeat(num_epochs)`.\n",
            "WARNING:tensorflow:From /usr/local/lib/python3.6/dist-packages/tensorflow_core/python/training/input.py:198: QueueRunner.__init__ (from tensorflow.python.training.queue_runner_impl) is deprecated and will be removed in a future version.\n",
            "Instructions for updating:\n",
            "To construct input pipelines, use the `tf.data` module.\n",
            "WARNING:tensorflow:From /usr/local/lib/python3.6/dist-packages/tensorflow_core/python/training/input.py:198: add_queue_runner (from tensorflow.python.training.queue_runner_impl) is deprecated and will be removed in a future version.\n",
            "Instructions for updating:\n",
            "To construct input pipelines, use the `tf.data` module.\n",
            "WARNING:tensorflow:From <ipython-input-126-90781db72672>:7: TextLineReader.__init__ (from tensorflow.python.ops.io_ops) is deprecated and will be removed in a future version.\n",
            "Instructions for updating:\n",
            "Queue-based input pipelines have been replaced by `tf.data`. Use `tf.data.TextLineDataset`.\n"
          ],
          "name": "stdout"
        }
      ]
    },
    {
      "cell_type": "code",
      "metadata": {
        "id": "Mdkd7dBaaGDt"
      },
      "source": [
        "record_defaults = [[0.], [0.], [0.], [0.]]\r\n",
        "xy = tf.decode_csv(value, record_defaults=record_defaults)"
      ],
      "execution_count": 127,
      "outputs": []
    },
    {
      "cell_type": "code",
      "metadata": {
        "colab": {
          "base_uri": "https://localhost:8080/"
        },
        "id": "Q0zbzK20aSke",
        "outputId": "6dc6a3f7-c3a4-4306-85c2-093cc821305a"
      },
      "source": [
        "train_x_batch, train_y_batch = tf.train.batch([xy[0:-1], xy[-1:]], batch_size=10)"
      ],
      "execution_count": 129,
      "outputs": [
        {
          "output_type": "stream",
          "text": [
            "WARNING:tensorflow:From <ipython-input-129-0b0cfd580cd5>:1: batch (from tensorflow.python.training.input) is deprecated and will be removed in a future version.\n",
            "Instructions for updating:\n",
            "Queue-based input pipelines have been replaced by `tf.data`. Use `tf.data.Dataset.batch(batch_size)` (or `padded_batch(...)` if `dynamic_pad=True`).\n"
          ],
          "name": "stdout"
        }
      ]
    },
    {
      "cell_type": "code",
      "metadata": {
        "id": "-gWvkfJUafaS"
      },
      "source": [
        "X = tf.placeholder(tf.float32, shape = [None, 3])\r\n",
        "Y = tf.placeholder(tf.float32, shape = [None, 1])\r\n",
        "\r\n",
        "W = tf.Variable(tf.random_normal([3, 1]), name = 'weight')\r\n",
        "b = tf.Variable(tf.random_normal([1]), name = 'bias')\r\n",
        "\r\n",
        "hypothesis = tf.matmul(X, W) + b\r\n",
        "\r\n",
        "cost = tf.reduce_mean(tf.square(hypothesis - Y))\r\n",
        "train = tf.train.GradientDescentOptimizer(learning_rate=1e-5).minimize(cost)"
      ],
      "execution_count": 130,
      "outputs": []
    },
    {
      "cell_type": "code",
      "metadata": {
        "id": "dSBP0cYbbXDq"
      },
      "source": [
        "sess = tf.Session()\r\n",
        "sess.run(tf.global_variables_initializer())\r\n",
        "\r\n",
        "coord = tf.train.Coordinator()\r\n",
        "threads = tf.train.start_queue_runners(sess = sess, coord = coord)\r\n",
        "\r\n",
        "for step in range(2001):\r\n",
        "    x_batch, y_batch = sess.run([train_x_batch, train_y_batch])\r\n",
        "    cost_val, hy_val, _ = sess.run([cost, hypothesis, train], feed_dict={X:x_batch, Y:y_batch})\r\n",
        "    if step % 1000 == 0:\r\n",
        "        print(step, \"Cost: \", cost_val, \"\\nPrediction:\\n\", hy_val)\r\n",
        "    \r\n",
        "coord.request_stop()\r\n",
        "coord.join(threads)"
      ],
      "execution_count": null,
      "outputs": []
    },
    {
      "cell_type": "code",
      "metadata": {
        "colab": {
          "base_uri": "https://localhost:8080/"
        },
        "id": "Boieq3b7cLm6",
        "outputId": "e17adbfa-183b-4621-c51a-8245cb2d244c"
      },
      "source": [
        "print(\"Your score will be \",\r\n",
        "      sess.run(hypothesis, feed_dict={X: [[100, 70, 101]]}))\r\n",
        "\r\n",
        "print(\"Other scores will be \",\r\n",
        "      sess.run(hypothesis, feed_dict={X: [[60, 70, 110], [90, 100, 80]]}))"
      ],
      "execution_count": 133,
      "outputs": [
        {
          "output_type": "stream",
          "text": [
            "Your score will be  [[188.83708]]\n",
            "Other scores will be  [[185.41235]\n",
            " [173.48064]]\n"
          ],
          "name": "stdout"
        }
      ]
    },
    {
      "cell_type": "markdown",
      "metadata": {
        "id": "418Fwek-ml8c"
      },
      "source": [
        "======================================================================================================="
      ]
    },
    {
      "cell_type": "markdown",
      "metadata": {
        "id": "0Fflw7Vrmn3K"
      },
      "source": [
        "# Logistic regression"
      ]
    },
    {
      "cell_type": "code",
      "metadata": {
        "id": "2tjZuKoNc5Pr"
      },
      "source": [
        "import tensorflow as tf\r\n",
        "tf.set_random_seed(777)  # for reproducibility\r\n",
        "\r\n",
        "x_data = [[1, 2],\r\n",
        "          [2, 3],\r\n",
        "          [3, 1],\r\n",
        "          [4, 3],\r\n",
        "          [5, 3],\r\n",
        "          [6, 2]]\r\n",
        "y_data = [[0],\r\n",
        "          [0],\r\n",
        "          [0],\r\n",
        "          [1],\r\n",
        "          [1],\r\n",
        "          [1]]\r\n",
        "\r\n",
        "# placeholders for a tensor that will be always fed.\r\n",
        "X = tf.placeholder(tf.float32, shape=[None, 2])\r\n",
        "Y = tf.placeholder(tf.float32, shape=[None, 1])\r\n",
        "\r\n",
        "W = tf.Variable(tf.random_normal([2, 1]), name='weight')\r\n",
        "b = tf.Variable(tf.random_normal([1]), name='bias')\r\n",
        "\r\n",
        "# Hypothesis using sigmoid: tf.div(1., 1. + tf.exp(tf.matmul(X, W)))\r\n",
        "hypothesis = tf.sigmoid(tf.matmul(X, W) + b)"
      ],
      "execution_count": 134,
      "outputs": []
    },
    {
      "cell_type": "code",
      "metadata": {
        "id": "oGsShtnbqigE"
      },
      "source": [
        "cost = -tf.reduce_mean(Y * tf.log(hypothesis) + (1 - Y) * tf.log(1 - hypothesis))\r\n",
        "train = tf.train.GradientDescentOptimizer(learning_rate=0.03).minimize(cost)"
      ],
      "execution_count": 141,
      "outputs": []
    },
    {
      "cell_type": "code",
      "metadata": {
        "id": "tQfPJxl4q4UL"
      },
      "source": [
        "predicted = tf.cast(hypothesis >= 0.5, dtype = tf.float32) # cast란 값을 dtype으로 변수의 type을 변경해줌\r\n",
        "accuracy = tf.reduce_mean(tf.cast(tf.equal(predicted, Y), dtype = tf.float32))"
      ],
      "execution_count": 142,
      "outputs": []
    },
    {
      "cell_type": "code",
      "metadata": {
        "id": "Lpz_wJmfrV6S"
      },
      "source": [
        "with tf.Session() as sess:\r\n",
        "    sess.run(tf.global_variables_initializer())\r\n",
        "\r\n",
        "    for step in range(10001) :\r\n",
        "        cost_val, _ = sess.run([cost, train], feed_dict={X: x_data, Y: y_data})\r\n",
        "        if step % 200 == 0:\r\n",
        "            print(step, cost_val)\r\n",
        "    print('=================================================')\r\n",
        "    h, c, a = sess.run([hypothesis, predicted, accuracy], feed_dict={X: x_data, Y:y_data})\r\n",
        "    print(\"\\nHypothesis : \", h, \"\\nCorrect : \", c, \"\\nAccuracy : \", a)"
      ],
      "execution_count": null,
      "outputs": []
    },
    {
      "cell_type": "markdown",
      "metadata": {
        "id": "WCshjEm4svkc"
      },
      "source": [
        "# Logistic regression using diabetes data"
      ]
    },
    {
      "cell_type": "code",
      "metadata": {
        "colab": {
          "resources": {
            "http://localhost:8080/nbextensions/google.colab/files.js": {
              "data": "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",
              "ok": true,
              "headers": [
                [
                  "content-type",
                  "application/javascript"
                ]
              ],
              "status": 200,
              "status_text": ""
            }
          },
          "base_uri": "https://localhost:8080/",
          "height": 114
        },
        "id": "cBbnYhkms8oK",
        "outputId": "53048bd5-d761-46c2-c81a-51ebd0776c48"
      },
      "source": [
        "files.upload()"
      ],
      "execution_count": 146,
      "outputs": [
        {
          "output_type": "display_data",
          "data": {
            "text/html": [
              "\n",
              "     <input type=\"file\" id=\"files-d9b02a3b-bad9-4b12-9101-c01f83b22cb4\" name=\"files[]\" multiple disabled\n",
              "        style=\"border:none\" />\n",
              "     <output id=\"result-d9b02a3b-bad9-4b12-9101-c01f83b22cb4\">\n",
              "      Upload widget is only available when the cell has been executed in the\n",
              "      current browser session. Please rerun this cell to enable.\n",
              "      </output>\n",
              "      <script src=\"/nbextensions/google.colab/files.js\"></script> "
            ],
            "text/plain": [
              "<IPython.core.display.HTML object>"
            ]
          },
          "metadata": {
            "tags": []
          }
        },
        {
          "output_type": "stream",
          "text": [
            "Saving data_03_diabetes.csv to data_03_diabetes.csv\n"
          ],
          "name": "stdout"
        },
        {
          "output_type": "execute_result",
          "data": {
            "text/plain": [
              "{'data_03_diabetes.csv': b'-0.294118,0.487437,0.180328,-0.292929,0,0.00149028,-0.53117,-0.0333333,0\\r\\n-0.882353,-0.145729,0.0819672,-0.414141,0,-0.207153,-0.766866,-0.666667,1\\r\\n-0.0588235,0.839196,0.0491803,0,0,-0.305514,-0.492741,-0.633333,0\\r\\n-0.882353,-0.105528,0.0819672,-0.535354,-0.777778,-0.162444,-0.923997,0,1\\r\\n0,0.376884,-0.344262,-0.292929,-0.602837,0.28465,0.887276,-0.6,0\\r\\n-0.411765,0.165829,0.213115,0,0,-0.23696,-0.894962,-0.7,1\\r\\n-0.647059,-0.21608,-0.180328,-0.353535,-0.791962,-0.0760059,-0.854825,-0.833333,0\\r\\n0.176471,0.155779,0,0,0,0.052161,-0.952178,-0.733333,1\\r\\n-0.764706,0.979899,0.147541,-0.0909091,0.283688,-0.0909091,-0.931682,0.0666667,0\\r\\n-0.0588235,0.256281,0.57377,0,0,0,-0.868488,0.1,0\\r\\n-0.529412,0.105528,0.508197,0,0,0.120715,-0.903501,-0.7,1\\r\\n0.176471,0.688442,0.213115,0,0,0.132638,-0.608027,-0.566667,0\\r\\n0.176471,0.396985,0.311475,0,0,-0.19225,0.163962,0.2,1\\r\\n-0.882353,0.899497,-0.0163934,-0.535354,1,-0.102832,-0.726729,0.266667,0\\r\\n-0.176471,0.00502513,0,0,0,-0.105812,-0.653288,-0.633333,0\\r\\n0,0.18593,0.377049,-0.0505051,-0.456265,0.365127,-0.596072,-0.666667,0\\r\\n-0.176471,0.0753769,0.213115,0,0,-0.117735,-0.849701,-0.666667,0\\r\\n-0.882353,0.0351759,-0.508197,-0.232323,-0.803783,0.290611,-0.910333,-0.6,1\\r\\n-0.882353,0.155779,0.147541,-0.393939,-0.77305,0.0312965,-0.614859,-0.633333,0\\r\\n-0.647059,0.266332,0.442623,-0.171717,-0.444444,0.171386,-0.465414,-0.8,1\\r\\n-0.0588235,-0.00502513,0.377049,0,0,0.0551417,-0.735269,-0.0333333,1\\r\\n-0.176471,0.969849,0.47541,0,0,0.186289,-0.681469,-0.333333,0\\r\\n0.0588235,0.19598,0.311475,-0.292929,0,-0.135618,-0.842015,-0.733333,0\\r\\n0.176471,0.256281,0.147541,-0.474747,-0.728132,-0.0730253,-0.891546,-0.333333,0\\r\\n-0.176471,0.477387,0.245902,0,0,0.174367,-0.847139,-0.266667,0\\r\\n-0.882353,-0.0251256,0.0819672,-0.69697,-0.669031,-0.308495,-0.650726,-0.966667,1\\r\\n0.529412,0.457286,0.344262,-0.616162,-0.739953,-0.338301,-0.857387,0.2,1\\r\\n-0.411765,0.175879,0.508197,0,0,0.0163934,-0.778822,-0.433333,1\\r\\n-0.411765,0.0954774,0.229508,-0.474747,0,0.0730254,-0.600342,0.3,1\\r\\n-0.647059,0.58794,0.245902,-0.272727,-0.420804,-0.0581222,-0.33988,-0.766667,0\\r\\n-0.647059,-0.115578,-0.0491803,-0.777778,-0.87234,-0.260805,-0.838599,-0.966667,1\\r\\n-0.294118,-0.0753769,0.508197,0,0,-0.406855,-0.906063,-0.766667,1\\r\\n0.176471,0.226131,0.278689,-0.373737,0,-0.177347,-0.629377,-0.2,1\\r\\n-0.529412,0.0351759,-0.0163934,-0.333333,-0.546099,-0.28465,-0.241674,-0.6,1\\r\\n0.294118,0.386935,0.245902,0,0,-0.0104321,-0.707942,-0.533333,1\\r\\n0.0588235,0.0251256,0.245902,-0.252525,0,-0.019374,-0.498719,-0.166667,0\\r\\n-0.764706,-0.0954774,0.114754,-0.151515,0,0.138599,-0.637062,-0.8,0\\r\\n-0.529412,0.115578,0.180328,-0.0505051,-0.510638,0.105812,0.12041,0.166667,0\\r\\n-0.647059,0.809045,0.0491803,-0.494949,-0.834515,0.0134128,-0.835184,-0.833333,1\\r\\n-0.176471,0.336683,0.377049,0,0,0.198212,-0.472246,-0.466667,1\\r\\n-0.176471,0.0653266,0.508197,-0.636364,0,-0.323398,-0.865927,-0.1,1\\r\\n0.0588235,0.718593,0.803279,-0.515152,-0.432624,0.353204,-0.450897,0.1,0\\r\\n-0.176471,0.59799,0.0491803,0,0,-0.183308,-0.815542,-0.366667,1\\r\\n0,0.809045,0.0819672,-0.212121,0,0.251863,0.549957,-0.866667,0\\r\\n-0.882353,0.467337,-0.0819672,0,0,-0.114754,-0.58497,-0.733333,1\\r\\n-0.764706,-0.286432,0.147541,-0.454545,0,-0.165425,-0.566183,-0.966667,1\\r\\n-0.176471,0.0351759,0.0819672,-0.353535,0,0.165425,-0.772844,-0.666667,0\\r\\n-0.176471,0.0552764,0,0,0,0,-0.806149,-0.9,1\\r\\n-0.882353,0.0351759,0.311475,-0.777778,-0.806147,-0.421759,-0.64731,-0.966667,1\\r\\n-0.882353,0.0150754,-0.180328,-0.69697,-0.914894,-0.278688,-0.617421,-0.833333,1\\r\\n-0.411765,-0.115578,0.0819672,-0.575758,-0.945626,-0.272727,-0.774552,-0.7,1\\r\\n-0.0588235,0.768844,0.47541,-0.313131,-0.29078,0.004471,-0.667805,0.233333,0\\r\\n-0.176471,0.507538,0.0819672,-0.151515,-0.191489,0.0342773,-0.453459,-0.3,1\\r\\n-0.882353,-0.266332,-0.180328,-0.79798,0,-0.314456,-0.854825,0,1\\r\\n-0.176471,0.879397,0.114754,-0.212121,-0.281324,0.123696,-0.849701,-0.333333,0\\r\\n0,0.00502513,0.442623,0.212121,-0.739953,0.394933,-0.24509,-0.666667,1\\r\\n0,0.467337,0.344262,0,0,0.207154,0.454313,-0.233333,1\\r\\n0,0.0552764,0.0491803,-0.171717,-0.664303,0.23696,-0.918873,-0.966667,1\\r\\n-0.764706,-0.155779,0,0,0,0,-0.807003,0,1\\r\\n-0.0588235,0.336683,0.180328,0,0,-0.019374,-0.836038,-0.4,0\\r\\n-0.411765,-0.557789,0.0163934,0,0,-0.254843,-0.565329,-0.5,1\\r\\n-0.764706,0.417085,-0.0491803,-0.313131,-0.6974,-0.242921,-0.469684,-0.9,1\\r\\n-0.176471,0.145729,0.0819672,0,0,-0.0223547,-0.846285,-0.3,0\\r\\n-0.411765,-0.00502513,0.213115,-0.454545,0,-0.135618,-0.893254,-0.633333,1\\r\\n0,0.0954774,0.442623,-0.393939,0,-0.0312965,-0.336465,-0.433333,0\\r\\n-0.764706,0.0954774,0.508197,0,0,0.272727,-0.345004,0.1,1\\r\\n-0.882353,-0.0452261,0.0819672,-0.737374,-0.910165,-0.415797,-0.781383,-0.866667,1\\r\\n-0.529412,0.467337,0.393443,-0.454545,-0.763593,-0.138599,-0.905209,-0.8,1\\r\\n-0.764706,0.00502513,0.0819672,-0.59596,-0.787234,-0.019374,-0.326217,-0.766667,0\\r\\n-0.411765,0.396985,0.0491803,-0.292929,-0.669031,-0.147541,-0.715628,-0.833333,1\\r\\n0.529412,0.266332,0.47541,0,0,0.293592,-0.568745,-0.3,0\\r\\n-0.529412,0.296482,0.409836,-0.59596,-0.361702,0.0461997,-0.869342,-0.933333,1\\r\\n-0.882353,-0.20603,0.229508,-0.393939,0,-0.0461997,-0.728437,-0.966667,1\\r\\n-0.882353,0,-0.213115,-0.59596,0,-0.263785,-0.947054,-0.966667,1\\r\\n-0.176471,-0.376884,0.278689,0,0,-0.028316,-0.732707,-0.333333,1\\r\\n-0.411765,-0.0452261,0.180328,-0.333333,0,0.123696,-0.75064,-0.8,1\\r\\n0,0.316583,0,0,0,0.28763,-0.836038,-0.833333,0\\r\\n-0.764706,0.125628,0.0819672,-0.555556,0,-0.254843,-0.804441,-0.9,1\\r\\n-0.647059,0.135678,-0.278689,-0.737374,0,-0.33234,-0.947054,-0.966667,1\\r\\n-0.764706,-0.256281,0,0,0,0,-0.979505,-0.966667,1\\r\\n-0.176471,-0.165829,0.278689,-0.474747,-0.832151,-0.126677,-0.411614,-0.5,1\\r\\n0,0.0150754,0.0655738,-0.434343,0,-0.266766,-0.864219,-0.966667,1\\r\\n-0.411765,0.376884,0.770492,0,0,0.454545,-0.872758,-0.466667,0\\r\\n-0.764706,0.105528,0.213115,-0.414141,-0.704492,-0.0342771,-0.470538,-0.8,1\\r\\n0.529412,0.0653266,0.180328,0.0909091,0,0.0909091,-0.914603,-0.2,1\\r\\n-0.764706,0.00502513,0.114754,-0.494949,-0.832151,0.147541,-0.789923,-0.833333,1\\r\\n0.764706,0.366834,0.147541,-0.353535,-0.739953,0.105812,-0.935952,-0.266667,0\\r\\n-0.882353,0.0753769,0.114754,-0.616162,0,-0.210134,-0.925705,-0.9,1\\r\\n-0.882353,-0.19598,-0.0983607,0,0,-0.4307,-0.846285,0,1\\r\\n-0.529412,0.236181,0.311475,-0.69697,-0.583924,-0.0461997,-0.688301,-0.566667,1\\r\\n-0.176471,-0.18593,0.278689,-0.191919,-0.886525,0.391952,-0.843723,-0.3,1\\r\\n-0.529412,0.346734,0.180328,0,0,-0.290611,-0.83006,0.3,0\\r\\n-0.764706,0.427136,0.344262,-0.636364,-0.8487,-0.263785,-0.416738,0,1\\r\\n-0.294118,0.447236,0.180328,-0.454545,-0.460993,0.0104323,-0.848847,-0.366667,1\\r\\n-0.764706,-0.0753769,0.0163934,-0.434343,0,-0.0581222,-0.955594,-0.9,1\\r\\n-0.882353,-0.286432,-0.213115,-0.636364,-0.820331,-0.391952,-0.790777,-0.966667,1\\r\\n-0.294118,-0.0653266,-0.180328,-0.393939,-0.8487,-0.14456,-0.762596,-0.933333,1\\r\\n-0.882353,0.226131,0.47541,0.030303,-0.479905,0.481371,-0.789069,-0.666667,0\\r\\n-0.882353,0.638191,0.180328,0,0,0.162444,-0.0230572,-0.6,0\\r\\n-0.882353,0.517588,-0.0163934,0,0,-0.222057,-0.913749,-0.966667,1\\r\\n0,0.256281,0.57377,0,0,-0.329359,-0.842869,0,1\\r\\n-0.882353,-0.18593,0.180328,-0.636364,-0.905437,-0.207153,-0.824936,-0.9,1\\r\\n-0.764706,-0.145729,0.0655738,0,0,0.180328,-0.272417,-0.8,1\\r\\n-0.882353,0.266332,-0.0819672,-0.414141,-0.640662,-0.14456,-0.382579,0,1\\r\\n-0.882353,-0.0351759,1,0,0,-0.33234,-0.889838,-0.8,1\\r\\n-0.529412,0.447236,-0.0491803,-0.434343,-0.669031,-0.120715,-0.82152,-0.466667,1\\r\\n-0.647059,-0.165829,-0.0491803,-0.373737,-0.957447,0.0223547,-0.779675,-0.866667,1\\r\\n0,-0.0452261,0.393443,-0.494949,-0.914894,0.114754,-0.855679,-0.9,0\\r\\n-0.647059,0.718593,0.180328,-0.333333,-0.680851,-0.00745157,-0.89667,-0.9,0\\r\\n-0.0588235,0.557789,0.0163934,-0.474747,0.170213,0.0134128,-0.602904,-0.166667,0\\r\\n-0.882353,-0.105528,0.245902,-0.313131,-0.91253,-0.0700447,-0.902647,-0.933333,1\\r\\n-0.529412,-0.236181,0.0163934,0,0,0.0134128,-0.732707,-0.866667,1\\r\\n-0.176471,0.60804,-0.114754,-0.353535,-0.586288,-0.0909091,-0.564475,-0.4,0\\r\\n-0.529412,0.467337,0.508197,0,0,-0.0700447,-0.606319,0.333333,0\\r\\n-0.411765,0.246231,0.213115,0,0,0.0134128,-0.878736,-0.433333,0\\r\\n-0.411765,-0.21608,-0.213115,0,0,0.004471,-0.508113,-0.866667,1\\r\\n-0.529412,-0.0251256,-0.0163934,-0.535354,0,-0.159463,-0.688301,-0.966667,1\\r\\n-0.529412,-0.00502513,0.245902,-0.69697,-0.879433,-0.308495,-0.876174,0,1\\r\\n0,0.628141,0.245902,0.131313,-0.763593,0.585693,-0.418446,-0.866667,0\\r\\n-0.294118,0.115578,0.0491803,-0.212121,0,0.0193741,-0.844577,-0.9,1\\r\\n-0.764706,0.0753769,0.213115,-0.393939,-0.763593,0.00149028,-0.721605,-0.933333,1\\r\\n-0.411765,0.326633,0.311475,0,0,-0.201192,-0.907771,0.6,1\\r\\n0,0.135678,0.245902,0,0,-0.00745157,-0.829206,-0.933333,0\\r\\n-0.882353,-0.115578,-0.508197,-0.151515,-0.765957,0.639344,-0.64304,-0.833333,0\\r\\n-0.647059,0.20603,0.147541,-0.393939,-0.680851,0.278689,-0.680615,-0.7,1\\r\\n-0.882353,0.18593,-0.0491803,-0.272727,-0.777778,-0.00745157,-0.843723,-0.933333,1\\r\\n-0.882353,0.175879,0.442623,-0.515152,-0.65721,0.028316,-0.722459,-0.366667,0\\r\\n0,0.0552764,0.377049,0,0,-0.168405,-0.433817,0.366667,0\\r\\n-0.529412,0.738693,0.147541,-0.717172,-0.602837,-0.114754,-0.758326,-0.6,0\\r\\n0.0588235,0.226131,-0.0819672,0,0,-0.00745157,-0.115286,-0.6,0\\r\\n-0.647059,0.708543,0.0491803,-0.252525,-0.468085,0.028316,-0.762596,-0.7,0\\r\\n-0.0588235,-0.155779,0.213115,-0.373737,0,0.14158,-0.676345,-0.4,1\\r\\n-0.764706,-0.0351759,0.114754,-0.737374,-0.884161,-0.371088,-0.514091,-0.833333,1\\r\\n-0.764706,0.256281,-0.0163934,-0.59596,-0.669031,0.00745157,-0.99146,-0.666667,1\\r\\n0,0.00502513,0.147541,-0.474747,-0.881797,-0.0819672,-0.556789,0,1\\r\\n0,-0.0653266,-0.0163934,-0.494949,-0.782506,-0.14456,-0.612297,-0.966667,1\\r\\n0,0.296482,0.311475,0,0,-0.0700447,-0.466268,-0.733333,1\\r\\n-0.411765,0.0552764,0.180328,-0.414141,-0.231678,0.0998511,-0.930828,-0.766667,1\\r\\n-0.647059,0.286432,0.278689,0,0,-0.371088,-0.837746,0.133333,1\\r\\n-0.411765,0.0653266,0.344262,-0.393939,0,0.177347,-0.822374,-0.433333,1\\r\\n-0.764706,0.0854271,-0.147541,-0.474747,-0.851064,-0.0312965,-0.795047,-0.966667,1\\r\\n0.176471,0.0854271,0.0819672,0,0,-0.0342771,-0.83433,-0.3,0\\r\\n-0.529412,0.547739,0.0163934,-0.373737,-0.328605,-0.0223547,-0.864219,-0.933333,1\\r\\n0,0.0251256,0.229508,-0.535354,0,0,-0.578138,0,1\\r\\n0.0588235,-0.427136,0.311475,-0.252525,0,-0.0223547,-0.984629,-0.333333,1\\r\\n-0.764706,0.0653266,0.0491803,-0.292929,-0.718676,-0.0909091,0.12895,-0.566667,1\\r\\n-0.411765,0.477387,0.278689,0,0,0.004471,-0.880444,0.466667,1\\r\\n-0.764706,-0.0954774,0.147541,-0.656566,0,-0.186289,-0.994022,-0.966667,1\\r\\n-0.882353,0.366834,0.213115,0.010101,-0.51773,0.114754,-0.725875,-0.9,1\\r\\n-0.529412,0.145729,0.0655738,0,0,-0.347243,-0.697694,-0.466667,1\\r\\n0.0588235,0.567839,0.409836,-0.434343,-0.63357,0.0223547,-0.0512383,-0.3,0\\r\\n-0.882353,0.537688,0.344262,-0.151515,0.146572,0.210134,-0.479932,-0.933333,1\\r\\n-0.0588235,0.889447,0.278689,0,0,0.42772,-0.949616,-0.266667,0\\r\\n-0.176471,0.527638,0.442623,-0.111111,0,0.490313,-0.778822,-0.5,0\\r\\n-0.764706,-0.00502513,-0.147541,-0.69697,-0.777778,-0.266766,-0.52263,0,1\\r\\n-0.882353,0.0954774,-0.0819672,-0.575758,-0.680851,-0.248882,-0.355252,-0.933333,1\\r\\n-0.764706,-0.115578,0.213115,-0.616162,-0.874704,-0.135618,-0.87105,-0.966667,1\\r\\n1,0.638191,0.180328,-0.171717,-0.730496,0.219076,-0.368915,-0.133333,0\\r\\n-0.529412,0.517588,0.47541,-0.232323,0,-0.114754,-0.815542,-0.5,1\\r\\n-0.176471,0.0251256,0.213115,-0.191919,-0.751773,0.108793,-0.8924,-0.2,1\\r\\n0,0.145729,0.311475,-0.313131,-0.326241,0.317437,-0.923997,-0.8,1\\r\\n-0.764706,0.00502513,0.0491803,-0.535354,0,-0.114754,-0.752348,0,1\\r\\n0,0.316583,0.442623,0,0,-0.0581222,-0.432109,-0.633333,0\\r\\n-0.294118,0.0452261,0.213115,-0.636364,-0.631206,-0.108793,-0.450043,-0.333333,0\\r\\n-0.647059,0.487437,0.0819672,-0.494949,0,-0.0312965,-0.847993,-0.966667,1\\r\\n-0.529412,0.20603,0.114754,0,0,-0.117735,-0.461144,-0.566667,1\\r\\n-0.529412,0.105528,0.0819672,0,0,-0.0491803,-0.664389,-0.733333,1\\r\\n-0.647059,0.115578,0.47541,-0.757576,-0.815603,-0.153502,-0.643894,-0.733333,1\\r\\n-0.294118,0.0251256,0.344262,0,0,-0.0819672,-0.912895,-0.5,0\\r\\n-0.294118,0.346734,0.147541,-0.535354,-0.692671,0.0551417,-0.603757,-0.733333,0\\r\\n-0.764706,-0.125628,0,-0.535354,0,-0.138599,-0.40649,-0.866667,1\\r\\n-0.882353,-0.20603,-0.0163934,-0.151515,-0.886525,0.296572,-0.487617,-0.933333,1\\r\\n-0.764706,-0.246231,0.0491803,-0.515152,-0.869976,-0.114754,-0.75064,-0.6,1\\r\\n-0.0588235,0.798995,0.180328,-0.151515,-0.692671,-0.0253353,-0.452605,-0.5,0\\r\\n-0.294118,-0.145729,0.278689,0,0,-0.0700447,-0.740393,-0.3,1\\r\\n0,0.296482,0.803279,-0.0707071,-0.692671,1,-0.794193,-0.833333,0\\r\\n-0.411765,0.437186,0.278689,0,0,0.341282,-0.904355,-0.133333,1\\r\\n-0.411765,0.306533,0.344262,0,0,0.165425,-0.250213,-0.466667,0\\r\\n-0.294118,-0.125628,0.311475,0,0,-0.308495,-0.994876,-0.633333,1\\r\\n0,0.19598,0.0491803,-0.636364,-0.782506,0.0402385,-0.447481,-0.933333,1\\r\\n-0.882353,0,0.213115,-0.59596,-0.945626,-0.174367,-0.811272,0,1\\r\\n-0.411765,-0.266332,-0.0163934,0,0,-0.201192,-0.837746,-0.8,1\\r\\n-0.529412,0.417085,0.213115,0,0,-0.177347,-0.858241,-0.366667,1\\r\\n-0.176471,0.949749,0.114754,-0.434343,0,0.0700448,-0.430401,-0.333333,0\\r\\n-0.0588235,0.819095,0.114754,-0.272727,0.170213,-0.102832,-0.541418,0.3,0\\r\\n-0.882353,0.286432,0.606557,-0.171717,-0.862884,-0.0461997,0.0614859,-0.6,0\\r\\n-0.0588235,0.0954774,0.245902,-0.212121,-0.730496,-0.168405,-0.520068,-0.666667,0\\r\\n-0.411765,0.396985,0.311475,-0.292929,-0.621749,-0.0581222,-0.758326,-0.866667,0\\r\\n-0.647059,0.115578,0.0163934,0,0,-0.326379,-0.945346,0,1\\r\\n0.0588235,0.236181,0.147541,-0.111111,-0.777778,-0.0134128,-0.747225,-0.366667,1\\r\\n-0.176471,0.59799,0.0819672,0,0,-0.0938897,-0.739539,-0.5,0\\r\\n0.294118,0.356784,0,0,0,0.558867,-0.573015,-0.366667,0\\r\\n-0.0588235,-0.145729,-0.0983607,-0.59596,0,-0.272727,-0.95047,-0.3,1\\r\\n-0.411765,0.58794,0.377049,-0.171717,-0.503546,0.174367,-0.729291,-0.733333,0\\r\\n-0.882353,0.0552764,-0.0491803,0,0,-0.275708,-0.906917,0,1\\r\\n-0.647059,0.0753769,0.0163934,-0.737374,-0.886525,-0.317437,-0.487617,-0.933333,0\\r\\n-0.529412,0.0954774,0.0491803,-0.111111,-0.765957,0.0372578,-0.293766,-0.833333,0\\r\\n-0.529412,0.487437,-0.0163934,-0.454545,-0.248227,-0.0789866,-0.938514,-0.733333,0\\r\\n0,0.135678,0.311475,-0.676768,0,-0.0760059,-0.320239,0,1\\r\\n-0.882353,0.386935,0.344262,0,0,0.195231,-0.865073,-0.766667,1\\r\\n0,0.0854271,0.114754,-0.59596,0,-0.186289,-0.394535,-0.633333,1\\r\\n-0.764706,-0.00502513,0.147541,-0.676768,-0.895981,-0.391952,-0.865927,-0.8,1\\r\\n-0.294118,0.0351759,0.180328,-0.353535,-0.550827,0.123696,-0.789923,0.133333,1\\r\\n-0.411765,0.115578,0.180328,-0.434343,0,-0.28763,-0.719044,-0.8,1\\r\\n-0.0588235,0.969849,0.245902,-0.414141,-0.338061,0.117735,-0.549957,0.2,0\\r\\n-0.411765,0.628141,0.704918,0,0,0.123696,-0.93766,0.0333333,0\\r\\n-0.882353,-0.0351759,0.0491803,-0.454545,-0.794326,-0.0104321,-0.819812,0,1\\r\\n-0.176471,0.849246,0.377049,-0.333333,0,0.0581222,-0.76345,-0.333333,0\\r\\n-0.764706,-0.18593,-0.0163934,-0.555556,0,-0.174367,-0.818958,-0.866667,1\\r\\n0,0.477387,0.393443,0.0909091,0,0.275708,-0.746371,-0.9,1\\r\\n-0.176471,0.798995,0.557377,-0.373737,0,0.0193741,-0.926558,0.3,1\\r\\n0,0.407035,0.0655738,-0.474747,-0.692671,0.269747,-0.698548,-0.9,0\\r\\n0.0588235,0.125628,0.344262,-0.353535,-0.586288,0.0193741,-0.844577,-0.5,0\\r\\n0.411765,0.517588,0.147541,-0.191919,-0.359338,0.245902,-0.432963,-0.433333,0\\r\\n-0.411765,0.0954774,0.0163934,-0.171717,-0.695035,0.0670641,-0.627669,-0.866667,0\\r\\n-0.294118,0.256281,0.114754,-0.393939,-0.716312,-0.105812,-0.670367,-0.633333,1\\r\\n-0.411765,-0.145729,0.213115,-0.555556,0,-0.135618,-0.0213493,-0.633333,0\\r\\n-0.411765,0.125628,0.0819672,0,0,0.126677,-0.843723,-0.333333,0\\r\\n0,0.778894,-0.0163934,-0.414141,0.130024,0.0312965,-0.151153,0,0\\r\\n-0.764706,0.58794,0.47541,0,0,-0.0581222,-0.379163,0.5,0\\r\\n-0.176471,0.19598,0,0,0,-0.248882,-0.88813,-0.466667,1\\r\\n-0.176471,0.427136,-0.0163934,-0.333333,-0.550827,-0.14158,-0.479932,0.333333,1\\r\\n-0.882353,0.00502513,0.0819672,-0.69697,-0.867612,-0.296572,-0.497865,-0.833333,1\\r\\n-0.882353,-0.125628,0.278689,-0.454545,-0.92435,0.0312965,-0.980359,-0.966667,1\\r\\n0,0.0150754,0.245902,0,0,0.0640835,-0.897523,-0.833333,1\\r\\n-0.647059,0.628141,-0.147541,-0.232323,0,0.108793,-0.509821,-0.9,0\\r\\n-0.529412,0.979899,0.147541,-0.212121,0.758865,0.0938898,0.922289,-0.666667,1\\r\\n0,0.175879,0.311475,-0.373737,-0.874704,0.347243,-0.990606,-0.9,1\\r\\n-0.529412,0.427136,0.409836,0,0,0.311475,-0.515798,-0.966667,0\\r\\n-0.294118,0.346734,0.311475,-0.252525,-0.125296,0.377049,-0.863365,-0.166667,0\\r\\n-0.882353,-0.20603,0.311475,-0.494949,-0.91253,-0.242921,-0.568745,-0.966667,1\\r\\n-0.529412,0.226131,0.114754,0,0,0.0432191,-0.730145,-0.733333,1\\r\\n-0.647059,-0.256281,0.114754,-0.434343,-0.893617,-0.114754,-0.816396,-0.933333,1\\r\\n-0.529412,0.718593,0.180328,0,0,0.299553,-0.657558,-0.833333,0\\r\\n0,0.798995,0.47541,-0.454545,0,0.314456,-0.480786,-0.933333,0\\r\\n0.0588235,0.648241,0.377049,-0.575758,0,-0.0819672,-0.35696,-0.633333,0\\r\\n0,0.0452261,0.245902,0,0,-0.451565,-0.569599,-0.8,1\\r\\n-0.882353,-0.0854271,0.0491803,-0.515152,0,-0.129657,-0.902647,0,1\\r\\n-0.529412,-0.0854271,0.147541,-0.353535,-0.791962,-0.0134128,-0.685739,-0.966667,1\\r\\n-0.647059,0.396985,-0.114754,0,0,-0.23696,-0.723313,-0.966667,0\\r\\n-0.294118,0.19598,-0.180328,-0.555556,-0.583924,-0.19225,0.058924,-0.6,0\\r\\n-0.764706,0.467337,0.245902,-0.292929,-0.541371,0.138599,-0.785653,-0.733333,1\\r\\n0.0588235,0.849246,0.393443,-0.69697,0,-0.105812,-0.030743,-0.0666667,0\\r\\n0.176471,0.226131,0.114754,0,0,-0.0700447,-0.846285,-0.333333,1\\r\\n0,0.658291,0.47541,-0.333333,0.607565,0.558867,-0.701964,-0.933333,1\\r\\n0.0588235,0.246231,0.147541,-0.333333,-0.0496454,0.0551417,-0.82579,-0.566667,1\\r\\n-0.882353,0.115578,0.409836,-0.616162,0,-0.102832,-0.944492,-0.933333,1\\r\\n0.0588235,0.0653266,-0.147541,0,0,-0.0700447,-0.742101,-0.3,1\\r\\n-0.764706,0.296482,0.377049,0,0,-0.165425,-0.824082,-0.8,1\\r\\n-0.764706,-0.0954774,0.311475,-0.717172,-0.869976,-0.272727,-0.853971,-0.9,1\\r\\n0,-0.135678,0.114754,-0.353535,0,0.0670641,-0.863365,-0.866667,1\\r\\n0.411765,-0.0753769,0.0163934,-0.858586,-0.390071,-0.177347,-0.275833,-0.233333,0\\r\\n-0.882353,0.135678,0.0491803,-0.292929,0,0.00149028,-0.602904,0,0\\r\\n-0.647059,0.115578,-0.0819672,-0.212121,0,-0.102832,-0.590948,-0.7,1\\r\\n-0.764706,0.145729,0.114754,-0.555556,0,-0.14456,-0.988044,-0.866667,1\\r\\n-0.882353,0.939698,-0.180328,-0.676768,-0.113475,-0.228018,-0.507259,-0.9,1\\r\\n-0.647059,0.919598,0.114754,-0.69697,-0.692671,-0.0789866,-0.811272,-0.566667,1\\r\\n-0.647059,0.417085,0,0,0,-0.105812,-0.416738,-0.8,0\\r\\n-0.529412,-0.0452261,0.147541,-0.353535,0,-0.0432191,-0.54398,-0.9,1\\r\\n-0.647059,0.427136,0.311475,-0.69697,0,-0.0342771,-0.895816,0.4,1\\r\\n-0.529412,0.236181,0.0163934,0,0,-0.0461997,-0.873612,-0.533333,0\\r\\n-0.411765,-0.0351759,0.213115,-0.636364,-0.841608,0.00149028,-0.215201,-0.266667,1\\r\\n0,0.386935,0,0,0,0.0819672,-0.269855,-0.866667,0\\r\\n-0.764706,0.286432,0.0491803,-0.151515,0,0.19225,-0.126388,-0.9,1\\r\\n0,0.0251256,-0.147541,0,0,-0.251863,0,0,1\\r\\n-0.764706,0.467337,0,0,0,-0.180328,-0.861657,-0.766667,0\\r\\n0.176471,0.0150754,0.409836,-0.252525,0,0.359165,-0.0964987,-0.433333,0\\r\\n-0.764706,0.0854271,0.0163934,-0.353535,-0.867612,-0.248882,-0.957301,0,1\\r\\n-0.647059,0.226131,0.278689,0,0,-0.314456,-0.849701,-0.366667,1\\r\\n-0.882353,-0.286432,0.278689,0.010101,-0.893617,-0.0104321,-0.706234,0,1\\r\\n0.529412,0.0653266,0.147541,0,0,0.0193741,-0.852263,0.0333333,1\\r\\n-0.764706,0.00502513,0.147541,0.0505051,-0.865248,0.207154,-0.488471,-0.866667,1\\r\\n-0.176471,0.0653266,-0.0163934,-0.515152,0,-0.210134,-0.813834,-0.733333,0\\r\\n0,0.0452261,0.0491803,-0.535354,-0.725768,-0.171386,-0.678907,-0.933333,1\\r\\n-0.411765,0.145729,0.213115,0,0,-0.257824,-0.431255,0.2,1\\r\\n-0.764706,0.0854271,0.0163934,-0.79798,-0.34279,-0.245902,-0.314261,-0.966667,1\\r\\n0,0.467337,0.147541,0,0,0.129657,-0.781383,-0.766667,0\\r\\n0.176471,0.296482,0.245902,-0.434343,-0.711584,0.0700448,-0.827498,-0.4,1\\r\\n-0.176471,0.336683,0.442623,-0.69697,-0.63357,-0.0342771,-0.842869,-0.466667,1\\r\\n-0.176471,0.61809,0.409836,0,0,-0.0938897,-0.925705,-0.133333,0\\r\\n-0.764706,0.0854271,0.311475,0,0,-0.195231,-0.845431,0.0333333,0\\r\\n-0.411765,0.557789,0.377049,-0.111111,0.288416,0.153502,-0.538002,-0.566667,1\\r\\n-0.882353,0.19598,0.409836,-0.212121,-0.479905,0.359165,-0.376601,-0.733333,0\\r\\n-0.529412,-0.0351759,-0.0819672,-0.656566,-0.884161,-0.38003,-0.77626,-0.833333,1\\r\\n-0.411765,0.0854271,0.180328,-0.131313,-0.822695,0.0760059,-0.842015,-0.6,1\\r\\n0,-0.21608,0.442623,-0.414141,-0.905437,0.0998511,-0.695986,0,1\\r\\n0,0.0753769,0.0163934,-0.393939,-0.825059,0.0909091,-0.420154,-0.866667,0\\r\\n-0.764706,0.286432,0.278689,-0.252525,-0.56974,0.290611,-0.0213493,-0.666667,0\\r\\n-0.882353,0.286432,-0.213115,-0.0909091,-0.541371,0.207154,-0.543126,-0.9,0\\r\\n0,0.61809,-0.180328,0,0,-0.347243,-0.849701,0.466667,1\\r\\n-0.294118,0.517588,0.0163934,-0.373737,-0.716312,0.0581222,-0.475662,-0.766667,1\\r\\n-0.764706,0.467337,0.147541,-0.232323,-0.148936,-0.165425,-0.778822,-0.733333,0\\r\\n0,0.266332,0.377049,-0.414141,-0.491726,-0.0849478,-0.622545,-0.9,1\\r\\n0.647059,0.00502513,0.278689,-0.494949,-0.565012,0.0909091,-0.714774,-0.166667,0\\r\\n-0.0588235,0.125628,0.180328,0,0,-0.296572,-0.349274,0.233333,1\\r\\n0,0.678392,0,0,0,-0.0372578,-0.350128,-0.7,0\\r\\n-0.764706,0.447236,-0.0491803,-0.333333,-0.680851,-0.0581222,-0.706234,-0.866667,0\\r\\n-0.411765,-0.226131,0.344262,-0.171717,-0.900709,0.0670641,-0.93339,-0.533333,1\\r\\n-0.411765,0.155779,0.606557,0,0,0.576751,-0.88813,-0.766667,0\\r\\n-0.647059,0.507538,0.245902,0,0,-0.374069,-0.889838,-0.466667,1\\r\\n-0.764706,0.20603,0.245902,-0.252525,-0.751773,0.183309,-0.883006,-0.733333,1\\r\\n0.176471,0.61809,0.114754,-0.535354,-0.687943,-0.23994,-0.788215,-0.133333,0\\r\\n0,0.376884,0.114754,-0.717172,-0.650118,-0.260805,-0.944492,0,1\\r\\n0,0.286432,0.114754,-0.616162,-0.574468,-0.0909091,0.121264,-0.866667,0\\r\\n-0.764706,0.246231,0.114754,-0.434343,-0.515366,-0.019374,-0.319385,-0.7,0\\r\\n-0.294118,-0.19598,0.0819672,-0.393939,0,-0.219076,-0.799317,-0.333333,1\\r\\n0,0.0653266,0.147541,-0.252525,-0.650118,0.174367,-0.549957,-0.966667,1\\r\\n-0.764706,0.557789,0.213115,-0.656566,-0.77305,-0.207153,-0.69684,-0.8,0\\r\\n-0.647059,0.135678,-0.180328,-0.79798,-0.799054,-0.120715,-0.532024,-0.866667,1\\r\\n-0.176471,0.0954774,0.311475,-0.373737,0,0.0700448,-0.104184,-0.266667,0\\r\\n-0.764706,0.125628,0.114754,-0.555556,-0.777778,0.0163934,-0.797609,-0.833333,1\\r\\n-0.647059,-0.00502513,0.311475,-0.777778,-0.8487,-0.424739,-0.824082,-0.7,1\\r\\n-0.647059,0.829146,0.213115,0,0,-0.0909091,-0.77199,-0.733333,0\\r\\n-0.647059,0.155779,0.0819672,-0.212121,-0.669031,0.135618,-0.938514,-0.766667,1\\r\\n-0.294118,0.949749,0.278689,0,0,-0.299553,-0.956447,0.266667,0\\r\\n-0.529412,0.296482,-0.0163934,-0.757576,-0.453901,-0.180328,-0.616567,-0.666667,1\\r\\n-0.647059,0.125628,0.213115,-0.393939,0,-0.0581222,-0.898377,-0.866667,0\\r\\n0,0.246231,0.147541,-0.59596,0,-0.183308,-0.849701,-0.5,0\\r\\n0.529412,0.527638,0.47541,-0.333333,-0.931442,-0.201192,-0.442357,-0.266667,0\\r\\n-0.764706,0.125628,0.229508,-0.353535,0,0.0640835,-0.940222,0,1\\r\\n-0.882353,0.577889,0.180328,-0.575758,-0.602837,-0.23696,-0.961571,-0.9,1\\r\\n-0.882353,0.226131,0.0491803,-0.353535,-0.631206,0.0461997,-0.475662,-0.7,0\\r\\n0.176471,0.798995,0.147541,0,0,0.0461997,-0.895816,-0.466667,1\\r\\n-0.764706,0.0251256,0.409836,-0.272727,-0.716312,0.356185,-0.958155,-0.933333,0\\r\\n-0.294118,0.0552764,0.147541,-0.353535,-0.839243,-0.0819672,-0.962425,-0.466667,1\\r\\n-0.0588235,0.18593,0.180328,-0.616162,0,-0.311475,0.193851,-0.166667,1\\r\\n-0.764706,-0.125628,-0.0491803,-0.676768,-0.877069,-0.0253353,-0.924851,-0.866667,1\\r\\n-0.882353,0.809045,0,0,0,0.290611,-0.82579,-0.333333,0\\r\\n0.411765,0.0653266,0.311475,0,0,-0.296572,-0.949616,-0.233333,1\\r\\n-0.882353,-0.0452261,-0.0163934,-0.636364,-0.862884,-0.28763,-0.844577,-0.966667,1\\r\\n0,0.658291,0.245902,-0.131313,-0.397163,0.42772,-0.845431,-0.833333,1\\r\\n0,0.175879,0,0,0,0.00745157,-0.270709,-0.233333,1\\r\\n-0.411765,0.155779,0.245902,0,0,-0.0700447,-0.773698,-0.233333,0\\r\\n0.0588235,0.527638,0.278689,-0.313131,-0.595745,0.0193741,-0.304014,-0.6,0\\r\\n-0.176471,0.788945,0.377049,0,0,0.18927,-0.783945,-0.333333,0\\r\\n-0.882353,0.306533,0.147541,-0.737374,-0.751773,-0.228018,-0.663535,-0.966667,1\\r\\n-0.882353,-0.0452261,0.213115,-0.575758,-0.827423,-0.228018,-0.491887,-0.5,1\\r\\n-0.882353,0,0.114754,-0.292929,0,-0.0461997,-0.734415,-0.966667,1\\r\\n-0.411765,0.226131,0.409836,0,0,0.0342773,-0.818958,-0.6,1\\r\\n-0.0588235,-0.0452261,0.180328,0,0,0.0968703,-0.652434,0.2,1\\r\\n-0.0588235,0.266332,0.442623,-0.272727,-0.744681,0.147541,-0.768574,-0.0666667,1\\r\\n-0.882353,0.396985,-0.245902,-0.616162,-0.803783,-0.14456,-0.508113,-0.966667,1\\r\\n-0.647059,0.165829,0,0,0,-0.299553,-0.906917,-0.933333,1\\r\\n-0.647059,-0.00502513,0.0163934,-0.616162,-0.825059,-0.350224,-0.828352,-0.833333,1\\r\\n-0.411765,0,0.311475,-0.353535,0,0.222057,-0.771136,-0.466667,0\\r\\n-0.529412,-0.0753769,0.311475,0,0,0.257824,-0.864219,-0.733333,1\\r\\n-0.529412,0.376884,0.377049,0,0,-0.0700447,-0.851409,-0.7,1\\r\\n-0.647059,-0.386935,0.344262,-0.434343,0,0.0253354,-0.859095,-0.166667,1\\r\\n-0.882353,-0.0954774,0.0163934,-0.757576,-0.898345,-0.18927,-0.571307,-0.9,1\\r\\n-0.647059,-0.0954774,0.278689,0,0,0.272727,-0.58924,0,1\\r\\n0.0588235,0.658291,0.442623,0,0,-0.0938897,-0.808711,-0.0666667,0\\r\\n-0.882353,0.256281,-0.180328,-0.191919,-0.605201,-0.00745157,-0.24509,-0.766667,0\\r\\n0.529412,0.296482,0,-0.393939,0,0.18927,-0.5807,-0.233333,0\\r\\n0.411765,-0.115578,0.213115,-0.191919,-0.87234,0.052161,-0.743809,-0.1,1\\r\\n-0.882353,0.969849,0.245902,-0.272727,-0.411348,0.0879285,-0.319385,-0.733333,0\\r\\n-0.411765,0.899497,0.0491803,-0.333333,-0.231678,-0.0700447,-0.568745,-0.733333,0\\r\\n-0.411765,0.58794,0.147541,0,0,-0.111773,-0.889838,0.4,1\\r\\n-0.411765,0.0351759,0.770492,-0.252525,0,0.168405,-0.806149,0.466667,1\\r\\n-0.529412,0.467337,0.278689,0,0,0.147541,-0.622545,0.533333,0\\r\\n-0.529412,0.477387,0.213115,-0.494949,-0.307329,0.0402385,-0.737831,-0.7,1\\r\\n-0.411765,-0.00502513,-0.114754,-0.434343,-0.803783,0.0134128,-0.640478,-0.7,1\\r\\n-0.294118,0.246231,0.180328,0,0,-0.177347,-0.752348,-0.733333,0\\r\\n0,0.0150754,0.0491803,-0.656566,0,-0.374069,-0.851409,0,1\\r\\n-0.647059,-0.18593,0.409836,-0.676768,-0.843972,-0.180328,-0.805295,-0.966667,1\\r\\n-0.882353,0.336683,0.672131,-0.434343,-0.669031,-0.0223547,-0.866781,-0.2,0\\r\\n-0.647059,0.738693,0.344262,-0.030303,0.0992908,0.14456,0.758326,-0.866667,0\\r\\n0,0.18593,0.0491803,-0.535354,-0.789598,0,0.411614,0,1\\r\\n0,-0.155779,0.0491803,-0.555556,-0.843972,0.0670641,-0.601196,0,1\\r\\n-0.764706,0.0552764,-0.0491803,-0.191919,-0.777778,0.0402385,-0.874466,-0.866667,1\\r\\n-0.764706,0.226131,-0.147541,-0.131313,-0.626478,0.0789866,-0.369769,-0.766667,1\\r\\n0.411765,0.407035,0.344262,-0.131313,-0.231678,0.168405,-0.615713,0.233333,0\\r\\n0,-0.0150754,0.344262,-0.69697,-0.801418,-0.248882,-0.811272,-0.966667,1\\r\\n-0.882353,-0.125628,-0.0163934,-0.252525,-0.822695,0.108793,-0.631939,-0.966667,1\\r\\n-0.529412,0.567839,0.229508,0,0,0.439642,-0.863365,-0.633333,0\\r\\n0,-0.0653266,0.639344,-0.212121,-0.829787,0.293592,-0.194705,-0.533333,1\\r\\n-0.882353,0.0753769,0.180328,-0.393939,-0.806147,-0.0819672,-0.3655,-0.9,1\\r\\n0,0.0552764,0.114754,-0.555556,0,-0.403875,-0.865073,-0.966667,1\\r\\n-0.882353,0.0954774,-0.0163934,-0.838384,-0.56974,-0.242921,-0.257899,0,1\\r\\n-0.882353,-0.0954774,0.0163934,-0.636364,-0.86052,-0.251863,0.0162254,-0.866667,1\\r\\n-0.882353,0.256281,0.147541,-0.515152,-0.739953,-0.275708,-0.877882,-0.866667,1\\r\\n-0.882353,0.19598,-0.114754,-0.737374,-0.881797,-0.33532,-0.891546,-0.9,1\\r\\n-0.411765,0.165829,0.213115,-0.414141,0,-0.0372578,-0.502989,-0.533333,0\\r\\n-0.0588235,0.0552764,0.639344,-0.272727,0,0.290611,-0.862511,-0.2,0\\r\\n-0.411765,0.447236,0.344262,-0.474747,-0.326241,-0.0461997,-0.680615,0.233333,0\\r\\n-0.647059,0.00502513,0.114754,-0.535354,-0.808511,-0.0581222,-0.256191,-0.766667,1\\r\\n-0.882353,0.00502513,0.0819672,-0.414141,-0.536643,-0.0461997,-0.687447,-0.3,1\\r\\n-0.411765,0.668342,0.245902,0,0,0.362146,-0.77626,-0.8,0\\r\\n-0.882353,0.316583,0.0491803,-0.717172,-0.0189125,-0.293592,-0.734415,0,1\\r\\n-0.529412,0.165829,0.180328,-0.757576,-0.794326,-0.341282,-0.671221,-0.466667,1\\r\\n-0.529412,0.58794,0.278689,0,0,-0.019374,-0.380871,-0.666667,0\\r\\n-0.764706,0.276382,-0.0491803,-0.515152,-0.349882,-0.174367,0.299744,-0.866667,1\\r\\n-0.647059,-0.0351759,-0.0819672,-0.313131,-0.728132,-0.263785,-0.260461,-0.4,1\\r\\n0,0.316583,0.0819672,-0.191919,0,0.0223547,-0.899231,-0.966667,0\\r\\n-0.647059,-0.175879,0.147541,0,0,-0.371088,-0.734415,-0.866667,1\\r\\n-0.647059,0.939698,0.147541,-0.373737,0,0.0402385,-0.860803,-0.866667,0\\r\\n-0.529412,-0.0452261,0.0491803,0,0,-0.0461997,-0.92912,-0.666667,0\\r\\n-0.411765,0.366834,0.377049,-0.171717,-0.791962,0.0432191,-0.822374,-0.533333,0\\r\\n0.0588235,-0.276382,0.278689,-0.494949,0,-0.0581222,-0.827498,-0.433333,1\\r\\n-0.411765,0.688442,0.0491803,0,0,-0.019374,-0.951324,-0.333333,0\\r\\n-0.764706,0.236181,-0.213115,-0.353535,-0.609929,0.254843,-0.622545,-0.833333,1\\r\\n-0.529412,0.155779,0.180328,0,0,-0.138599,-0.745517,-0.166667,0\\r\\n0,0.0150754,0.0163934,0,0,-0.347243,-0.779675,-0.866667,1\\r\\n-0.0588235,0.979899,0.213115,0,0,-0.228018,-0.0495303,-0.4,0\\r\\n-0.882353,0.728643,0.114754,-0.010101,0.368794,0.263785,-0.467122,-0.766667,0\\r\\n-0.294118,0.0251256,0.47541,-0.212121,0,0.0640835,-0.491033,-0.766667,1\\r\\n-0.882353,0.125628,0.180328,-0.393939,-0.583924,0.0253354,-0.615713,-0.866667,1\\r\\n-0.882353,0.437186,0.377049,-0.535354,-0.267139,0.263785,-0.147737,-0.966667,1\\r\\n-0.882353,0.437186,0.213115,-0.555556,-0.855792,-0.219076,-0.847993,0,1\\r\\n0,0.386935,-0.0163934,-0.292929,-0.605201,0.0312965,-0.610589,0,0\\r\\n-0.647059,0.738693,0.377049,-0.333333,0.120567,0.0640835,-0.846285,-0.966667,0\\r\\n-0.882353,-0.0251256,0.114754,-0.575758,0,-0.18927,-0.131512,-0.966667,1\\r\\n-0.529412,0.447236,0.344262,-0.353535,0,0.147541,-0.59351,-0.466667,0\\r\\n-0.882353,-0.165829,0.114754,0,0,-0.457526,-0.533732,-0.8,1\\r\\n-0.647059,0.296482,0.0491803,-0.414141,-0.728132,-0.213115,-0.87959,-0.766667,0\\r\\n-0.882353,0.19598,0.442623,-0.171717,-0.598109,0.350224,-0.633646,-0.833333,1\\r\\n-0.764706,-0.0552764,0.114754,-0.636364,-0.820331,-0.225037,-0.587532,0,1\\r\\n0,0.0251256,0.0491803,-0.0707071,-0.815603,0.210134,-0.64304,0,1\\r\\n-0.764706,0.155779,0.0491803,-0.555556,0,-0.0819672,-0.707088,0,1\\r\\n-0.0588235,0.517588,0.278689,-0.353535,-0.503546,0.278689,-0.625961,-0.5,0\\r\\n-0.529412,0.849246,0.278689,-0.212121,-0.345154,0.102832,-0.841161,-0.666667,0\\r\\n0,-0.0552764,0,0,0,0,-0.847993,-0.866667,1\\r\\n-0.882353,0.819095,0.0491803,-0.393939,-0.574468,0.0163934,-0.786507,-0.433333,0\\r\\n0,0.356784,0.540984,-0.0707071,-0.65721,0.210134,-0.824082,-0.833333,1\\r\\n-0.882353,-0.0452261,0.344262,-0.494949,-0.574468,0.0432191,-0.867635,-0.266667,0\\r\\n-0.764706,-0.00502513,0,0,0,-0.338301,-0.974381,-0.933333,1\\r\\n-0.647059,-0.105528,0.213115,-0.676768,-0.799054,-0.0938897,-0.596072,-0.433333,1\\r\\n-0.882353,-0.19598,0.213115,-0.777778,-0.858156,-0.105812,-0.616567,-0.966667,1\\r\\n-0.764706,0.396985,0.229508,0,0,-0.23696,-0.923997,-0.733333,1\\r\\n-0.882353,-0.0954774,0.114754,-0.838384,0,-0.269747,-0.0947908,-0.5,1\\r\\n0,0.417085,0,0,0,0.263785,-0.891546,-0.733333,0\\r\\n0.411765,0.407035,0.393443,-0.333333,0,0.114754,-0.858241,-0.333333,1\\r\\n-0.411765,0.477387,0.229508,0,0,-0.108793,-0.695986,-0.766667,1\\r\\n-0.882353,-0.0251256,0.147541,-0.69697,0,-0.457526,-0.941076,0,1\\r\\n-0.294118,0.0753769,0.442623,0,0,0.0968703,-0.445773,-0.666667,1\\r\\n0,0.899497,0.704918,-0.494949,0,0.0223547,-0.695132,-0.333333,0\\r\\n-0.764706,-0.165829,0.0819672,-0.535354,-0.881797,-0.0402384,-0.642186,-0.966667,1\\r\\n-0.529412,0.175879,0.0491803,-0.454545,-0.716312,-0.0104321,-0.870196,-0.9,1\\r\\n-0.0588235,0.0854271,0.147541,0,0,-0.0909091,-0.251067,-0.6,0\\r\\n-0.529412,0.175879,0.0163934,-0.757576,0,-0.114754,-0.742101,-0.7,0\\r\\n0,0.809045,0.278689,0.272727,-0.966903,0.770492,1,-0.866667,0\\r\\n-0.882353,0.00502513,0.180328,-0.757576,-0.834515,-0.245902,-0.504697,-0.766667,1\\r\\n0,-0.0452261,0.311475,-0.0909091,-0.782506,0.0879285,-0.784799,-0.833333,1\\r\\n0,0.0452261,0.0491803,-0.252525,-0.8487,0.00149028,-0.631085,-0.966667,0\\r\\n0,0.20603,0.213115,-0.636364,-0.851064,-0.0909091,-0.823228,-0.833333,1\\r\\n-0.882353,-0.175879,0.0491803,-0.737374,-0.775414,-0.368107,-0.712212,-0.933333,1\\r\\n-0.764706,0.346734,0.147541,0,0,-0.138599,-0.603757,-0.933333,0\\r\\n0,-0.0854271,0.114754,-0.353535,-0.503546,0.18927,-0.741247,-0.866667,1\\r\\n-0.764706,0.19598,0,0,0,-0.415797,-0.356106,0.7,1\\r\\n-0.764706,0.00502513,-0.114754,-0.434343,-0.751773,0.126677,-0.641332,-0.9,1\\r\\n0.647059,0.758794,0.0163934,-0.393939,0,0.00149028,-0.885568,-0.433333,0\\r\\n-0.882353,0.356784,-0.114754,0,0,-0.204173,-0.479932,0.366667,1\\r\\n-0.411765,-0.135678,0.114754,-0.434343,-0.832151,-0.0998509,-0.755764,-0.9,1\\r\\n0.0588235,0.346734,0.213115,-0.333333,-0.858156,-0.228018,-0.673783,1,1\\r\\n0.0588235,0.20603,0.180328,-0.555556,-0.867612,-0.38003,-0.440649,-0.1,1\\r\\n-0.882353,-0.286432,0.0163934,0,0,-0.350224,-0.711358,-0.833333,1\\r\\n-0.0588235,-0.256281,0.147541,-0.191919,-0.884161,0.052161,-0.46456,-0.4,1\\r\\n-0.411765,-0.115578,0.278689,-0.393939,0,-0.177347,-0.846285,-0.466667,1\\r\\n0.176471,0.155779,0.606557,0,0,-0.28465,-0.193851,-0.566667,1\\r\\n0,0.246231,-0.0819672,-0.737374,-0.751773,-0.350224,-0.680615,0,1\\r\\n0,-0.256281,-0.147541,-0.79798,-0.914894,-0.171386,-0.836892,-0.966667,1\\r\\n0,-0.0251256,0.0491803,-0.272727,-0.763593,0.0968703,-0.554227,-0.866667,1\\r\\n-0.0588235,0.20603,0,0,0,-0.105812,-0.910333,-0.433333,0\\r\\n-0.294118,0.547739,0.278689,-0.171717,-0.669031,0.374069,-0.578992,-0.8,1\\r\\n-0.882353,0.447236,0.344262,-0.191919,0,0.230999,-0.548249,-0.766667,1\\r\\n0,0.376884,0.147541,-0.232323,0,-0.0104321,-0.921435,-0.966667,1\\r\\n0,0.19598,0.0819672,-0.454545,0,0.156483,-0.845431,-0.966667,1\\r\\n-0.176471,0.366834,0.47541,0,0,-0.108793,-0.887276,-0.0333333,1\\r\\n-0.529412,0.145729,0.0491803,0,0,-0.138599,-0.959009,-0.9,1\\r\\n0,0.376884,0.377049,-0.454545,0,-0.186289,-0.869342,0.266667,1\\r\\n-0.764706,0.0552764,0.311475,-0.0909091,-0.548463,0.004471,-0.459436,-0.733333,0\\r\\n-0.176471,0.145729,0.245902,-0.656566,-0.739953,-0.290611,-0.668659,-0.666667,1\\r\\n-0.0588235,0.266332,0.213115,-0.232323,-0.822695,-0.228018,-0.928266,-0.4,1\\r\\n-0.529412,0.326633,0.409836,-0.373737,0,-0.165425,-0.708796,0.4,1\\r\\n-0.647059,0.58794,0.147541,-0.393939,-0.224586,0.0581222,-0.772844,-0.533333,0\\r\\n0,0.236181,0.442623,-0.252525,0,0.0491804,-0.898377,-0.733333,1\\r\\n-0.529412,-0.145729,-0.0491803,-0.555556,-0.884161,-0.171386,-0.805295,-0.766667,1\\r\\n0,-0.155779,0.344262,-0.373737,-0.704492,0.138599,-0.867635,-0.933333,1\\r\\n0,0.457286,0,0,0,0.317437,-0.528608,-0.666667,0\\r\\n0,0.356784,0.114754,-0.151515,-0.408983,0.260805,-0.75491,-0.9,0\\r\\n-0.882353,0.396985,0.0163934,-0.171717,0.134752,0.213115,-0.608881,0,1\\r\\n0,0.738693,0.278689,-0.353535,-0.373522,0.385991,-0.0768574,0.233333,1\\r\\n-0.529412,-0.00502513,0.180328,-0.656566,0,-0.23696,-0.815542,-0.766667,1\\r\\n-0.0588235,0.949749,0.311475,0,0,-0.222057,-0.596072,0.533333,1\\r\\n-0.764706,-0.165829,0.0655738,-0.434343,-0.843972,0.0968703,-0.529462,-0.9,1\\r\\n-0.764706,-0.105528,0.47541,-0.393939,0,-0.00149028,-0.81725,-0.3,1\\r\\n-0.529412,-0.00502513,0.114754,-0.232323,0,-0.0223547,-0.942784,-0.6,1\\r\\n-0.529412,0.256281,0.147541,-0.636364,-0.711584,-0.138599,-0.089667,-0.2,0\\r\\n-0.647059,-0.19598,0,0,0,0,-0.918019,-0.966667,1\\r\\n-0.294118,0.668342,0.213115,0,0,-0.207153,-0.807003,0.5,1\\r\\n-0.411765,0.105528,0.114754,0,0,-0.225037,-0.81725,-0.7,1\\r\\n-0.764706,-0.18593,0.180328,-0.69697,-0.820331,-0.102832,-0.599488,-0.866667,1\\r\\n-0.176471,0.959799,0.147541,-0.333333,-0.65721,-0.251863,-0.927412,0.133333,0\\r\\n-0.294118,0.547739,0.213115,-0.353535,-0.543735,-0.126677,-0.350128,-0.4,1\\r\\n-0.764706,0.175879,0.47541,-0.616162,-0.832151,-0.248882,-0.799317,0,1\\r\\n-0.647059,-0.155779,0.180328,-0.353535,0,0.108793,-0.838599,-0.766667,1\\r\\n-0.294118,0,0.114754,-0.171717,0,0.162444,-0.445773,-0.333333,0\\r\\n-0.176471,-0.0552764,0.0491803,-0.494949,-0.813239,-0.00745157,-0.436379,-0.333333,1\\r\\n-0.647059,-0.0351759,0.278689,-0.212121,0,0.111773,-0.863365,-0.366667,1\\r\\n0.176471,-0.246231,0.344262,0,0,-0.00745157,-0.842015,-0.433333,1\\r\\n0,0.809045,0.47541,-0.474747,-0.787234,0.0879285,-0.798463,-0.533333,0\\r\\n-0.882353,0.306533,-0.0163934,-0.535354,-0.598109,-0.147541,-0.475662,0,1\\r\\n-0.764706,-0.155779,-0.180328,-0.535354,-0.820331,-0.0938897,-0.239966,0,1\\r\\n-0.0588235,0.20603,0.278689,0,0,-0.254843,-0.717336,0.433333,1\\r\\n0.411765,-0.155779,0.180328,-0.373737,0,-0.114754,-0.81298,-0.166667,0\\r\\n0,0.396985,0.0163934,-0.656566,-0.503546,-0.341282,-0.889838,0,1\\r\\n0.0588235,-0.0854271,0.114754,0,0,-0.278688,-0.895816,0.233333,1\\r\\n-0.764706,-0.0854271,0.0163934,0,0,-0.186289,-0.618275,-0.966667,1\\r\\n-0.647059,-0.00502513,-0.114754,-0.616162,-0.79669,-0.23696,-0.935098,-0.9,1\\r\\n-0.647059,0.638191,0.147541,-0.636364,-0.751773,-0.0581222,-0.837746,-0.766667,0\\r\\n0.0588235,0.457286,0.442623,-0.313131,-0.609929,-0.0968703,-0.408198,0.0666667,0\\r\\n0.529412,-0.236181,-0.0163934,0,0,-0.0223547,-0.912895,-0.333333,1\\r\\n-0.294118,0.296482,0.47541,-0.858586,-0.229314,-0.415797,-0.569599,0.3,1\\r\\n-0.764706,-0.316583,0.147541,-0.353535,-0.843972,-0.254843,-0.906917,-0.866667,1\\r\\n-0.647059,0.246231,0.311475,-0.333333,-0.692671,-0.0104321,-0.806149,-0.833333,1\\r\\n-0.294118,0.145729,0,0,0,0,-0.905209,-0.833333,1\\r\\n0.0588235,0.306533,0.147541,0,0,0.0193741,-0.509821,-0.2,0\\r\\n-0.647059,0.256281,-0.0491803,0,0,-0.0581222,-0.93766,-0.9,1\\r\\n-0.647059,-0.125628,-0.0163934,-0.636364,0,-0.350224,-0.687447,0,1\\r\\n-0.882353,-0.0251256,0.0491803,-0.616162,-0.806147,-0.457526,-0.811272,0,1\\r\\n-0.647059,0.165829,0.213115,-0.69697,-0.751773,-0.216095,-0.975235,-0.9,1\\r\\n0,0.175879,0.0819672,-0.373737,-0.555556,-0.0819672,-0.645602,-0.966667,1\\r\\n0,0.115578,0.0655738,0,0,-0.266766,-0.502989,-0.666667,1\\r\\n-0.764706,0.226131,-0.0163934,-0.636364,-0.749409,-0.111773,-0.454313,-0.966667,1\\r\\n0,0.0753769,0.245902,0,0,0.350224,-0.480786,-0.9,1\\r\\n-0.882353,-0.135678,0.0819672,0.0505051,-0.846336,0.230999,-0.283518,-0.733333,1\\r\\n-0.294118,-0.0854271,0,0,0,-0.111773,-0.63877,-0.666667,1\\r\\n-0.882353,-0.226131,-0.0819672,-0.393939,-0.867612,-0.00745157,0.00170794,-0.9,1\\r\\n-0.529412,0.326633,0,0,0,-0.019374,-0.808711,-0.933333,0\\r\\n0,0.0552764,0.47541,0,0,-0.117735,-0.898377,-0.166667,1\\r\\n0,-0.427136,-0.0163934,0,0,-0.353204,-0.438941,0.533333,1\\r\\n0,0.276382,0.311475,-0.252525,-0.503546,0.0819672,-0.380017,-0.933333,1\\r\\n-0.647059,0.296482,0.508197,-0.010101,-0.63357,0.0849479,-0.239966,-0.633333,0\\r\\n-0.0588235,0.00502513,0.213115,-0.191919,-0.491726,0.174367,-0.502135,-0.266667,0\\r\\n-0.647059,0.286432,0.180328,-0.494949,-0.550827,-0.0342771,-0.59778,-0.8,0\\r\\n0.176471,-0.0954774,0.393443,-0.353535,0,0.0402385,-0.362084,0.166667,0\\r\\n-0.529412,-0.155779,0.47541,-0.535354,-0.867612,0.177347,-0.930828,-0.866667,1\\r\\n-0.882353,-0.115578,0.278689,-0.414141,-0.820331,-0.0461997,-0.75491,-0.733333,1\\r\\n-0.0588235,0.869347,0.47541,-0.292929,-0.468085,0.028316,-0.70538,-0.466667,0\\r\\n-0.411765,0.879397,0.245902,-0.454545,-0.510638,0.299553,-0.183604,0.0666667,0\\r\\n-0.529412,0.316583,0.114754,-0.575758,-0.607565,-0.0134128,-0.929974,-0.766667,1\\r\\n-0.882353,0.648241,0.344262,-0.131313,-0.841608,-0.0223547,-0.775406,-0.0333333,1\\r\\n-0.529412,0.899497,0.803279,-0.373737,0,-0.150522,-0.485909,-0.466667,1\\r\\n-0.882353,0.165829,0.147541,-0.434343,0,-0.183308,-0.8924,0,1\\r\\n-0.647059,-0.155779,0.114754,-0.393939,-0.749409,-0.0491803,-0.561913,-0.866667,1\\r\\n-0.294118,0.145729,0.442623,0,0,-0.171386,-0.855679,0.5,1\\r\\n-0.882353,-0.115578,0.0163934,-0.515152,-0.895981,-0.108793,-0.706234,-0.933333,1\\r\\n-0.882353,-0.155779,0.0491803,-0.535354,-0.728132,0.0998511,-0.664389,-0.766667,1\\r\\n-0.176471,0.246231,0.147541,-0.333333,-0.491726,-0.23994,-0.92912,-0.466667,1\\r\\n-0.882353,-0.0251256,0.147541,-0.191919,0,0.135618,-0.880444,-0.7,1\\r\\n-0.0588235,0.105528,0.245902,0,0,-0.171386,-0.864219,0.233333,1\\r\\n0.294118,0.0351759,0.114754,-0.191919,0,0.377049,-0.959009,-0.3,1\\r\\n0.294118,-0.145729,0.213115,0,0,-0.102832,-0.810418,-0.533333,1\\r\\n-0.294118,0.256281,0.245902,0,0,0.00745157,-0.963279,0.1,0\\r\\n0,0.98995,0.0819672,-0.353535,-0.352246,0.230999,-0.637916,-0.766667,0\\r\\n-0.882353,-0.125628,0.114754,-0.313131,-0.817967,0.120715,-0.724167,-0.9,1\\r\\n-0.294118,-0.00502513,-0.0163934,-0.616162,-0.87234,-0.198212,-0.642186,-0.633333,1\\r\\n0,-0.0854271,0.311475,0,0,-0.0342771,-0.553373,-0.8,1\\r\\n-0.764706,-0.0452261,-0.114754,-0.717172,-0.791962,-0.222057,-0.427839,-0.966667,1\\r\\n-0.882353,-0.00502513,0.180328,-0.393939,-0.957447,0.150522,-0.714774,0,1\\r\\n-0.294118,-0.0753769,0.0163934,-0.353535,-0.702128,-0.0461997,-0.994022,-0.166667,1\\r\\n-0.529412,0.547739,0.180328,-0.414141,-0.702128,-0.0670641,-0.777968,-0.466667,1\\r\\n0,0.21608,0.0819672,-0.393939,-0.609929,0.0223547,-0.893254,-0.6,0\\r\\n-0.647059,-0.21608,0.147541,0,0,-0.0312965,-0.836038,-0.4,1\\r\\n-0.764706,0.306533,0.57377,0,0,-0.326379,-0.837746,0,1\\r\\n-0.647059,0.115578,-0.0491803,-0.373737,-0.895981,-0.120715,-0.699402,-0.966667,1\\r\\n-0.764706,-0.0150754,-0.0163934,-0.656566,-0.716312,0.0342773,-0.897523,-0.966667,1\\r\\n-0.882353,0.437186,0.409836,-0.393939,-0.219858,-0.102832,-0.304868,-0.933333,1\\r\\n-0.882353,0.19598,-0.278689,-0.0505051,-0.851064,0.0581222,-0.827498,-0.866667,1\\r\\n-0.294118,0.0854271,-0.278689,-0.59596,-0.692671,-0.28465,-0.372331,-0.533333,1\\r\\n-0.764706,0.18593,0.311475,0,0,0.278689,-0.474808,0,0\\r\\n0.176471,0.336683,0.114754,0,0,-0.195231,-0.857387,-0.5,1\\r\\n-0.764706,0.979899,0.147541,1,0,0.0342773,-0.575576,0.366667,0\\r\\n0,0.517588,0.47541,-0.0707071,0,0.254843,-0.749787,0,0\\r\\n-0.294118,0.0954774,-0.0163934,-0.454545,0,-0.254843,-0.890692,-0.8,1\\r\\n0.411765,0.21608,0.278689,-0.656566,0,-0.210134,-0.845431,0.366667,1\\r\\n-0.0588235,0.00502513,0.245902,0,0,0.153502,-0.904355,-0.3,1\\r\\n-0.0588235,0.246231,0.245902,-0.515152,0.41844,-0.14456,-0.479932,0.0333333,0\\r\\n-0.882353,-0.0653266,-0.0819672,-0.777778,0,-0.329359,-0.710504,-0.966667,1\\r\\n-0.0588235,0.437186,0.0819672,0,0,0.0402385,-0.956447,-0.333333,0\\r\\n-0.294118,0.0351759,0.0819672,0,0,-0.275708,-0.853971,-0.733333,1\\r\\n-0.647059,0.768844,0.409836,-0.454545,-0.631206,-0.00745157,-0.0811272,0.0333333,0\\r\\n0,-0.266332,0,0,0,-0.371088,-0.774552,-0.866667,1\\r\\n0.294118,0.115578,0.377049,-0.191919,0,0.394933,-0.276687,-0.2,0\\r\\n-0.764706,0.125628,0.278689,0.010101,-0.669031,0.174367,-0.917165,-0.9,1\\r\\n-0.647059,0.326633,0.311475,0,0,0.0253354,-0.723313,-0.233333,0\\r\\n-0.764706,-0.175879,-0.147541,-0.555556,-0.728132,-0.150522,0.384287,-0.866667,1\\r\\n-0.294118,0.236181,0.180328,-0.0909091,-0.456265,0.00149028,-0.440649,-0.566667,1\\r\\n0,0.889447,0.344262,-0.717172,-0.562648,-0.0461997,-0.484202,-0.966667,0\\r\\n0,-0.326633,0.245902,0,0,0.350224,-0.900939,-0.166667,1\\r\\n-0.882353,-0.105528,-0.606557,-0.616162,-0.940898,-0.171386,-0.58924,0,1\\r\\n-0.882353,0.738693,0.213115,0,0,0.0968703,-0.99146,-0.433333,0\\r\\n-0.882353,0.0954774,-0.377049,-0.636364,-0.716312,-0.311475,-0.719044,-0.833333,1\\r\\n-0.882353,0.0854271,0.442623,-0.616162,0,-0.19225,-0.725021,-0.9,1\\r\\n-0.294118,-0.0351759,0,0,0,-0.293592,-0.904355,-0.766667,1\\r\\n-0.882353,0.246231,0.213115,-0.272727,0,-0.171386,-0.981213,-0.7,1\\r\\n-0.176471,0.507538,0.278689,-0.414141,-0.702128,0.0491804,-0.475662,0.1,0\\r\\n-0.529412,0.839196,0,0,0,-0.153502,-0.885568,-0.5,0\\r\\n-0.882353,0.246231,-0.0163934,-0.353535,0,0.0670641,-0.627669,0,1\\r\\n-0.882353,0.819095,0.278689,-0.151515,-0.307329,0.19225,0.00768574,-0.966667,0\\r\\n-0.882353,-0.0753769,0.0163934,-0.494949,-0.903073,-0.418778,-0.654996,-0.866667,1\\r\\n0,0.527638,0.344262,-0.212121,-0.356974,0.23696,-0.836038,-0.8,1\\r\\n-0.882353,0.115578,0.0163934,-0.737374,-0.56974,-0.28465,-0.948762,-0.933333,1\\r\\n-0.647059,0.0653266,-0.114754,-0.575758,-0.626478,-0.0789866,-0.81725,-0.9,1\\r\\n-0.647059,0.748744,-0.0491803,-0.555556,-0.541371,-0.019374,-0.560205,-0.5,0\\r\\n-0.176471,0.688442,0.442623,-0.151515,-0.241135,0.138599,-0.394535,-0.366667,0\\r\\n-0.294118,0.0552764,0.311475,-0.434343,0,-0.0312965,-0.316823,-0.833333,1\\r\\n0.294118,0.386935,0.213115,-0.474747,-0.659574,0.0760059,-0.590948,-0.0333333,0\\r\\n-0.647059,0.0653266,0.180328,0,0,-0.230999,-0.889838,-0.8,1\\r\\n-0.294118,0.175879,0.57377,0,0,-0.14456,-0.932536,-0.7,1\\r\\n-0.764706,-0.316583,0.0163934,-0.737374,-0.964539,-0.400894,-0.847139,-0.933333,1\\r\\n0.0588235,0.125628,0.344262,-0.515152,0,-0.159463,0.028181,-0.0333333,0\\r\\n0,0.19598,0,0,0,-0.0342771,-0.9462,-0.9,0\\r\\n-0.764706,0.125628,0.409836,-0.151515,-0.621749,0.14456,-0.856533,-0.766667,1\\r\\n-0.764706,-0.0753769,0.245902,-0.59596,0,-0.278688,0.383433,-0.766667,1\\r\\n-0.294118,0.839196,0.540984,0,0,0.216095,0.181042,-0.2,1\\r\\n0,-0.0552764,0.147541,-0.454545,-0.728132,0.296572,-0.770282,0,1\\r\\n-0.764706,0.0854271,0.0491803,0,0,-0.0819672,-0.931682,0,1\\r\\n-0.529412,-0.0954774,0.442623,-0.0505051,-0.87234,0.123696,-0.757472,-0.733333,1\\r\\n0,0.256281,0.114754,0,0,-0.263785,-0.890692,0,1\\r\\n0,0.326633,0.278689,0,0,-0.0342771,-0.730999,0,1\\r\\n-0.411765,0.286432,0.311475,0,0,0.0312965,-0.943638,-0.2,1\\r\\n-0.529412,-0.0552764,0.0655738,-0.555556,0,-0.263785,-0.940222,0,1\\r\\n-0.176471,0.145729,0.0491803,0,0,-0.183308,-0.441503,-0.566667,0\\r\\n0,0.0251256,0.278689,-0.191919,-0.787234,0.028316,-0.863365,-0.9,1\\r\\n-0.764706,0.115578,-0.0163934,0,0,-0.219076,-0.773698,-0.933333,1\\r\\n-0.882353,0.286432,0.344262,-0.656566,-0.567376,-0.180328,-0.968403,-0.966667,1\\r\\n0.176471,-0.0753769,0.0163934,0,0,-0.228018,-0.923997,-0.666667,1\\r\\n0.529412,0.0452261,0.180328,0,0,-0.0700447,-0.669513,-0.433333,0\\r\\n-0.411765,0.0452261,0.213115,0,0,-0.14158,-0.935952,-0.1,1\\r\\n-0.764706,-0.0552764,0.245902,-0.636364,-0.843972,-0.0581222,-0.512383,-0.933333,1\\r\\n-0.176471,-0.0251256,0.245902,-0.353535,-0.78487,0.219076,-0.322801,-0.633333,0\\r\\n-0.882353,0.00502513,0.213115,-0.757576,-0.891253,-0.418778,-0.939368,-0.766667,1\\r\\n0,0.0251256,0.409836,-0.656566,-0.751773,-0.126677,-0.4731,-0.8,1\\r\\n-0.529412,0.286432,0.147541,0,0,0.0223547,-0.807857,-0.9,1\\r\\n-0.294118,0.477387,0.311475,0,0,-0.120715,-0.914603,-0.0333333,0\\r\\n-0.529412,-0.0954774,0,0,0,-0.165425,-0.545687,-0.666667,1\\r\\n-0.647059,0.0351759,0.180328,-0.393939,-0.640662,-0.177347,-0.443211,-0.8,1\\r\\n-0.764706,0.577889,0.213115,-0.292929,0.0401891,0.174367,-0.952178,-0.7,1\\r\\n-0.882353,0.678392,0.213115,-0.656566,-0.659574,-0.302534,-0.684885,-0.6,0\\r\\n0,0.798995,-0.180328,-0.272727,-0.624113,0.126677,-0.678053,-0.966667,0\\r\\n0.294118,0.366834,0.377049,-0.292929,-0.692671,-0.156483,-0.844577,-0.3,0\\r\\n0,0.0753769,-0.0163934,-0.494949,0,-0.213115,-0.953032,-0.933333,1\\r\\n-0.882353,-0.0854271,-0.114754,-0.494949,-0.763593,-0.248882,-0.866781,-0.933333,1\\r\\n-0.882353,0.175879,-0.0163934,-0.535354,-0.749409,0.00745157,-0.668659,-0.8,1\\r\\n-0.411765,0.236181,0.213115,-0.191919,-0.817967,0.0163934,-0.836892,-0.766667,1\\r\\n-0.764706,0.20603,-0.114754,0,0,-0.201192,-0.678053,-0.8,1\\r\\n-0.882353,0.0653266,0.147541,-0.434343,-0.680851,0.0193741,-0.945346,-0.966667,1\\r\\n-0.764706,0.557789,-0.147541,-0.454545,0.276596,0.153502,-0.861657,-0.866667,0\\r\\n-0.764706,0.0150754,-0.0491803,-0.292929,-0.787234,-0.350224,-0.934244,-0.966667,1\\r\\n-0.882353,0.20603,0.311475,-0.030303,-0.527187,0.159464,-0.0742955,-0.333333,1\\r\\n-0.647059,-0.19598,0.344262,-0.373737,-0.834515,0.0193741,0.0367208,-0.8,0\\r\\n0.176471,0.628141,0.377049,0,0,-0.174367,-0.911187,0.1,1\\r\\n-0.882353,1,0.245902,-0.131313,0,0.278689,0.123826,-0.966667,0\\r\\n-0.0588235,0.678392,0.737705,-0.0707071,-0.453901,0.120715,-0.925705,-0.266667,0\\r\\n0.0588235,0.457286,0.311475,-0.0707071,-0.692671,0.129657,-0.52263,-0.366667,0\\r\\n-0.294118,0.155779,-0.0163934,-0.212121,0,0.004471,-0.857387,-0.366667,0\\r\\n-0.882353,0.125628,0.311475,-0.0909091,-0.687943,0.0372578,-0.881298,-0.9,1\\r\\n-0.529412,0.457286,0.344262,-0.636364,0,-0.0312965,-0.865927,0.633333,0\\r\\n0.176471,0.115578,0.147541,-0.454545,0,-0.180328,-0.9462,-0.366667,0\\r\\n-0.294118,-0.0150754,-0.0491803,-0.333333,-0.550827,0.0134128,-0.699402,-0.266667,1\\r\\n0.0588235,0.547739,0.278689,-0.393939,-0.763593,-0.0789866,-0.926558,-0.2,1\\r\\n-0.294118,0.658291,0.114754,-0.474747,-0.602837,0.00149028,-0.527754,-0.0666667,1\\r\\n-0.882353,-0.00502513,-0.0491803,-0.79798,0,-0.242921,-0.596072,0,1\\r\\n0.176471,-0.316583,0.737705,-0.535354,-0.884161,0.0581222,-0.823228,-0.133333,1\\r\\n-0.647059,0.236181,0.639344,-0.292929,-0.432624,0.707899,-0.315115,-0.966667,1\\r\\n-0.0588235,-0.0854271,0.344262,0,0,0.0611028,-0.565329,0.566667,1\\r\\n-0.294118,0.959799,0.147541,0,0,-0.0789866,-0.786507,-0.666667,0\\r\\n0.0588235,0.567839,0.409836,0,0,-0.260805,-0.870196,0.0666667,0\\r\\n0,-0.0653266,-0.0163934,0,0,0.052161,-0.842015,-0.866667,1\\r\\n-0.647059,0.21608,-0.147541,0,0,0.0730254,-0.958155,-0.866667,0\\r\\n-0.764706,0.0150754,-0.0491803,-0.656566,-0.373522,-0.278688,-0.542272,-0.933333,1\\r\\n-0.764706,-0.437186,-0.0819672,-0.434343,-0.893617,-0.278688,-0.783091,-0.966667,1\\r\\n0,0.628141,0.245902,-0.272727,0,0.47839,-0.755764,-0.833333,0\\r\\n0,-0.0452261,0.0491803,-0.212121,-0.751773,0.329359,-0.754056,-0.966667,1\\r\\n-0.529412,0.256281,0.311475,0,0,-0.0372578,-0.608881,-0.8,0\\r\\n-0.411765,0.366834,0.344262,0,0,0,-0.520068,0.6,1\\r\\n-0.764706,0.296482,0.213115,-0.474747,-0.515366,-0.0104321,-0.561913,-0.866667,1\\r\\n-0.647059,0.306533,0.0491803,0,0,-0.311475,-0.798463,-0.966667,1\\r\\n-0.882353,0.0753769,-0.180328,-0.616162,0,-0.156483,-0.912041,-0.733333,1\\r\\n-0.882353,0.407035,0.213115,-0.474747,-0.574468,-0.281669,-0.359522,-0.933333,1\\r\\n-0.882353,0.447236,0.344262,-0.0707071,-0.574468,0.374069,-0.780529,-0.166667,0\\r\\n-0.0588235,0.0753769,0.311475,0,0,-0.266766,-0.335611,-0.566667,1\\r\\n0.529412,0.58794,0.868852,0,0,0.260805,-0.847139,-0.233333,0\\r\\n-0.764706,0.21608,0.147541,-0.353535,-0.775414,0.165425,-0.309991,-0.933333,1\\r\\n-0.176471,0.296482,0.114754,-0.010101,-0.704492,0.147541,-0.691716,-0.266667,0\\r\\n-0.764706,-0.0954774,-0.0163934,0,0,-0.299553,-0.903501,-0.866667,1\\r\\n-0.176471,0.427136,0.47541,-0.515152,0.134752,-0.0938897,-0.957301,-0.266667,0\\r\\n-0.647059,0.698492,0.213115,-0.616162,-0.704492,-0.108793,-0.837746,-0.666667,0\\r\\n0,-0.00502513,0,0,0,-0.254843,-0.850555,-0.966667,1\\r\\n-0.529412,0.276382,0.442623,-0.777778,-0.63357,0.028316,-0.555935,-0.766667,1\\r\\n-0.529412,0.18593,0.147541,0,0,0.326379,-0.29462,-0.833333,1\\r\\n-0.764706,0.226131,0.245902,-0.454545,-0.527187,0.0700448,-0.654142,-0.833333,1\\r\\n-0.294118,0.256281,0.278689,-0.373737,0,-0.177347,-0.584116,-0.0666667,0\\r\\n-0.882353,0.688442,0.442623,-0.414141,0,0.0432191,-0.293766,0.0333333,0\\r\\n-0.764706,0.296482,0,0,0,0.147541,-0.807003,-0.333333,1\\r\\n-0.529412,0.105528,0.245902,-0.59596,-0.763593,-0.153502,-0.965841,-0.8,1\\r\\n-0.294118,-0.19598,0.311475,-0.272727,0,0.186289,-0.915457,-0.766667,1\\r\\n0.176471,0.155779,0,0,0,0,-0.843723,-0.7,0\\r\\n-0.764706,0.276382,-0.245902,-0.575758,-0.208038,0.0253354,-0.916311,-0.966667,1\\r\\n0.0588235,0.648241,0.278689,0,0,-0.0223547,-0.940222,-0.2,0\\r\\n-0.764706,-0.0653266,0.0491803,-0.353535,-0.621749,0.132638,-0.491033,-0.933333,0\\r\\n-0.647059,0.58794,0.0491803,-0.737374,-0.0851064,-0.0700447,-0.814688,-0.9,1\\r\\n-0.411765,0.266332,0.278689,-0.454545,-0.947991,-0.117735,-0.691716,-0.366667,1\\r\\n0.176471,0.296482,0.0163934,-0.272727,0,0.228018,-0.690009,-0.433333,0\\r\\n0,0.346734,-0.0491803,-0.59596,-0.312057,-0.213115,-0.766012,0,1\\r\\n-0.647059,0.0251256,0.213115,0,0,-0.120715,-0.963279,-0.633333,1\\r\\n-0.176471,0.879397,-0.180328,-0.333333,-0.0732861,0.0104323,-0.36123,-0.566667,0\\r\\n-0.647059,0.738693,0.278689,-0.212121,-0.562648,0.00745157,-0.238258,-0.666667,0\\r\\n0.176471,-0.0552764,0.180328,-0.636364,0,-0.311475,-0.558497,0.166667,1\\r\\n-0.882353,0.0854271,-0.0163934,-0.0707071,-0.579196,0.0581222,-0.712212,-0.9,1\\r\\n-0.411765,-0.0251256,0.245902,-0.454545,0,0.0611028,-0.743809,0.0333333,0\\r\\n-0.529412,-0.165829,0.409836,-0.616162,0,-0.126677,-0.795901,-0.566667,1\\r\\n-0.882353,0.145729,0.0819672,-0.272727,-0.527187,0.135618,-0.819812,0,1\\r\\n-0.882353,0.497487,0.114754,-0.414141,-0.699764,-0.126677,-0.768574,-0.3,0\\r\\n-0.411765,0.175879,0.409836,-0.393939,-0.751773,0.165425,-0.852263,-0.3,1\\r\\n-0.882353,0.115578,0.540984,0,0,-0.0223547,-0.840307,-0.2,1\\r\\n-0.529412,0.125628,0.278689,-0.191919,0,0.174367,-0.865073,-0.433333,1\\r\\n-0.882353,0.165829,0.278689,-0.414141,-0.574468,0.0760059,-0.64304,-0.866667,1\\r\\n0,0.417085,0.377049,-0.474747,0,-0.0342771,-0.69684,-0.966667,1\\r\\n-0.764706,0.758794,0.442623,0,0,-0.317437,-0.788215,-0.966667,1\\r\\n-0.764706,-0.0753769,-0.147541,0,0,-0.102832,-0.9462,-0.966667,1\\r\\n-0.647059,0.306533,0.278689,-0.535354,-0.813239,-0.153502,-0.790777,-0.566667,0\\r\\n-0.0588235,0.20603,0.409836,0,0,-0.153502,-0.845431,-0.966667,0\\r\\n-0.764706,0.748744,0.442623,-0.252525,-0.716312,0.326379,-0.514944,-0.9,0\\r\\n-0.764706,0.0653266,-0.0819672,-0.454545,-0.609929,-0.135618,-0.702818,-0.966667,1\\r\\n-0.764706,0.0552764,0.229508,0,0,-0.305514,-0.588386,0.0666667,1\\r\\n-0.529412,-0.0452261,-0.0163934,-0.353535,0,0.0551417,-0.824082,-0.766667,1\\r\\n0,0.266332,0.409836,-0.454545,-0.716312,-0.183308,-0.626815,0,1\\r\\n-0.0588235,-0.346734,0.180328,-0.535354,0,-0.0461997,-0.554227,-0.3,1\\r\\n-0.764706,-0.00502513,-0.0163934,-0.656566,-0.621749,0.0909091,-0.679761,0,1\\r\\n-0.882353,0.0251256,0.213115,0,0,0.177347,-0.816396,-0.3,0\\r\\n0.294118,0.20603,0.311475,-0.252525,-0.64539,0.260805,-0.396243,-0.1,0\\r\\n-0.647059,0.0251256,-0.278689,-0.59596,-0.777778,-0.0819672,-0.725021,-0.833333,1\\r\\n-0.882353,0.0954774,-0.0491803,-0.636364,-0.725768,-0.150522,-0.87959,-0.966667,1\\r\\n0.0588235,0.407035,0.540984,0,0,-0.0253353,-0.439795,-0.2,0\\r\\n0.529412,0.537688,0.442623,-0.252525,-0.669031,0.210134,-0.0640478,-0.4,1\\r\\n0.411765,0.00502513,0.377049,-0.333333,-0.751773,-0.105812,-0.649872,-0.166667,1\\r\\n-0.882353,0.477387,0.540984,-0.171717,0,0.469449,-0.760888,-0.8,0\\r\\n-0.882353,-0.18593,0.213115,-0.171717,-0.865248,0.38003,-0.130658,-0.633333,1\\r\\n-0.647059,0.879397,0.147541,-0.555556,-0.527187,0.0849479,-0.71819,-0.5,0\\r\\n-0.294118,0.628141,0.0163934,0,0,-0.275708,-0.914603,-0.0333333,0\\r\\n-0.529412,0.366834,0.147541,0,0,-0.0700447,-0.0572161,-0.966667,0\\r\\n-0.882353,0.21608,0.278689,-0.212121,-0.825059,0.162444,-0.843723,-0.766667,1\\r\\n-0.647059,0.0854271,0.0163934,-0.515152,0,-0.225037,-0.876174,-0.866667,1\\r\\n0,0.819095,0.442623,-0.111111,0.205674,0.290611,-0.877028,-0.833333,0\\r\\n-0.0588235,0.547739,0.278689,-0.353535,0,-0.0342771,-0.688301,-0.2,0\\r\\n-0.882353,0.286432,0.442623,-0.212121,-0.739953,0.0879285,-0.163962,-0.466667,0\\r\\n-0.176471,0.376884,0.47541,-0.171717,0,-0.0461997,-0.732707,-0.4,1\\r\\n0,0.236181,0.180328,0,0,0.0819672,-0.846285,0.0333333,0\\r\\n-0.882353,0.0653266,0.245902,0,0,0.117735,-0.898377,-0.833333,1\\r\\n-0.294118,0.909548,0.508197,0,0,0.0581222,-0.829206,0.5,0\\r\\n-0.764706,-0.115578,-0.0491803,-0.474747,-0.962175,-0.153502,-0.412468,-0.966667,1\\r\\n0.0588235,0.708543,0.213115,-0.373737,0,0.311475,-0.722459,-0.266667,0\\r\\n0.0588235,-0.105528,0.0163934,0,0,-0.329359,-0.945346,-0.6,1\\r\\n0.176471,0.0150754,0.245902,-0.030303,-0.574468,-0.019374,-0.920581,0.4,1\\r\\n-0.764706,0.226131,0.147541,-0.454545,0,0.0968703,-0.77626,-0.8,1\\r\\n-0.411765,0.21608,0.180328,-0.535354,-0.735225,-0.219076,-0.857387,-0.7,1\\r\\n-0.882353,0.266332,-0.0163934,0,0,-0.102832,-0.768574,-0.133333,0\\r\\n-0.882353,-0.0653266,0.147541,-0.373737,0,-0.0938897,-0.797609,-0.933333,1'}"
            ]
          },
          "metadata": {
            "tags": []
          },
          "execution_count": 146
        }
      ]
    },
    {
      "cell_type": "code",
      "metadata": {
        "colab": {
          "base_uri": "https://localhost:8080/"
        },
        "id": "hdo74cTstG6C",
        "outputId": "920e0fc7-74d8-4bfc-8f30-56dad7021cfc"
      },
      "source": [
        "drive.mount('/content/drive')"
      ],
      "execution_count": 148,
      "outputs": [
        {
          "output_type": "stream",
          "text": [
            "Drive already mounted at /content/drive; to attempt to forcibly remount, call drive.mount(\"/content/drive\", force_remount=True).\n"
          ],
          "name": "stdout"
        }
      ]
    },
    {
      "cell_type": "code",
      "metadata": {
        "colab": {
          "base_uri": "https://localhost:8080/"
        },
        "id": "FpikRfRcr_F8",
        "outputId": "dfa9755c-d488-4322-ccfd-e95394eb4410"
      },
      "source": [
        "import tensorflow as tf\r\n",
        "import numpy as np\r\n",
        "tf.set_random_seed(777)  # for reproducibility\r\n",
        "\r\n",
        "xy = np.loadtxt('/content/drive/My Drive/모두의 딥러닝/data_03_diabetes.csv', delimiter=',', dtype=np.float32)\r\n",
        "x_data = xy[:, 0:-1]\r\n",
        "y_data = xy[:, [-1]]\r\n",
        "\r\n",
        "print(x_data.shape, y_data.shape)"
      ],
      "execution_count": 150,
      "outputs": [
        {
          "output_type": "stream",
          "text": [
            "(759, 8) (759, 1)\n"
          ],
          "name": "stdout"
        }
      ]
    },
    {
      "cell_type": "code",
      "metadata": {
        "id": "BgJ0FXNEs1YY"
      },
      "source": [
        "X = tf.placeholder(tf.float32, shape = [None, 8])\r\n",
        "Y = tf.placeholder(tf.float32, shape = [None, 1])\r\n",
        "\r\n",
        "W = tf.Variable(tf.random_normal([8, 1]), name='weight')\r\n",
        "b = tf.Variable(tf.random_normal([1]), name='bias')\r\n",
        "\r\n",
        "# Hypothesis using sigmoid: tf.div(1., 1. + tf.exp(-tf.matmul(X, W)))\r\n",
        "hypothesis = tf.sigmoid(tf.matmul(X, W) + b)\r\n",
        "\r\n",
        "# cost/loss function\r\n",
        "cost = -tf.reduce_mean(Y * tf.log(hypothesis) + (1 - Y) *\r\n",
        "                       tf.log(1 - hypothesis))\r\n",
        "\r\n",
        "train = tf.train.GradientDescentOptimizer(learning_rate=0.07).minimize(cost)"
      ],
      "execution_count": 166,
      "outputs": []
    },
    {
      "cell_type": "code",
      "metadata": {
        "id": "0eZhDDXVtawY"
      },
      "source": [
        "predicted = tf.cast(hypothesis > 0.5, dtype = tf.float32)\r\n",
        "accuracy = tf.reduce_mean(tf.cast(tf.equal(predicted, Y), dtype = tf.float32))"
      ],
      "execution_count": 167,
      "outputs": []
    },
    {
      "cell_type": "code",
      "metadata": {
        "colab": {
          "base_uri": "https://localhost:8080/"
        },
        "id": "5cE-y2eqtn1q",
        "outputId": "4f4b75dd-6e4e-42c0-e1ea-6a3c6b7b217e"
      },
      "source": [
        "with tf.Session() as sess:\r\n",
        "    sess.run(tf.global_variables_initializer())\r\n",
        "\r\n",
        "    for step in range(10001):\r\n",
        "        cost_val, _ = sess.run([cost, train], feed_dict={X:x_data, Y:y_data})\r\n",
        "        if step % 1000 == 0:\r\n",
        "            print(step, cost_val)\r\n",
        "\r\n",
        "    print('====================================================')\r\n",
        "    h, c, a = sess.run([hypothesis, predicted, accuracy], feed_dict={X:x_data, Y:y_data})\r\n",
        "    print(\"\\nHypothesis: \", h[-5:], \"\\nCorrect (Y): ....\", c[-5:], \"\\nAccuracy: \", a)"
      ],
      "execution_count": 168,
      "outputs": [
        {
          "output_type": "stream",
          "text": [
            "0 0.792574\n",
            "1000 0.49426106\n",
            "2000 0.4762565\n",
            "3000 0.47324347\n",
            "4000 0.47239164\n",
            "5000 0.4720545\n",
            "6000 0.4718897\n",
            "7000 0.4717996\n",
            "8000 0.4717478\n",
            "9000 0.4717171\n",
            "10000 0.47169873\n",
            "====================================================\n",
            "\n",
            "Hypothesis:  [[0.7610675 ]\n",
            " [0.71660364]\n",
            " [0.8643945 ]\n",
            " [0.7333016 ]\n",
            " [0.92872393]] \n",
            "Correct (Y): .... [[1.]\n",
            " [1.]\n",
            " [1.]\n",
            " [1.]\n",
            " [1.]] \n",
            "Accuracy:  0.770751\n"
          ],
          "name": "stdout"
        }
      ]
    },
    {
      "cell_type": "markdown",
      "metadata": {
        "id": "t9Z3n8aBCJNg"
      },
      "source": [
        "======================================================================================================="
      ]
    },
    {
      "cell_type": "markdown",
      "metadata": {
        "id": "iFwcZEJOCKxc"
      },
      "source": [
        "# SoftMax Classification (Multinomial classification)"
      ]
    },
    {
      "cell_type": "code",
      "metadata": {
        "id": "FNgANxVMuP95"
      },
      "source": [
        "import tensorflow as tf\r\n",
        "tf.set_random_seed(777)  # for reproducibility\r\n",
        "\r\n",
        "x_data = [[1, 2, 1, 1],\r\n",
        "          [2, 1, 3, 2],\r\n",
        "          [3, 1, 3, 4],\r\n",
        "          [4, 1, 5, 5],\r\n",
        "          [1, 7, 5, 5],\r\n",
        "          [1, 2, 5, 6],\r\n",
        "          [1, 6, 6, 6],\r\n",
        "          [1, 7, 7, 7]]\r\n",
        "y_data = [[0, 0, 1],\r\n",
        "          [0, 0, 1],\r\n",
        "          [0, 0, 1],\r\n",
        "          [0, 1, 0],\r\n",
        "          [0, 1, 0],\r\n",
        "          [0, 1, 0],\r\n",
        "          [1, 0, 0],\r\n",
        "          [1, 0, 0]]\r\n",
        "\r\n",
        "X = tf.placeholder(\"float\", [None, 4])\r\n",
        "Y = tf.placeholder(\"float\", [None, 3])\r\n",
        "nb_class = 3;\r\n",
        "\r\n",
        "W = tf.Variable(tf.random_normal([4, nb_class], name = \"weight\"))\r\n",
        "b = tf.Variable(tf.random_normal([nb_class]), name = \"bias\")\r\n",
        "\r\n",
        "# softmax\r\n",
        "hypothesis = tf.nn.softmax(tf.matmul(X, W) + b)"
      ],
      "execution_count": 10,
      "outputs": []
    },
    {
      "cell_type": "code",
      "metadata": {
        "id": "_IcoDHuQJoE5"
      },
      "source": [
        "cost = tf.reduce_mean(-tf.reduce_sum(Y * tf.log(hypothesis), axis=1))\r\n",
        "train = tf.train.GradientDescentOptimizer(learning_rate=0.1).minimize(cost)"
      ],
      "execution_count": 11,
      "outputs": []
    },
    {
      "cell_type": "code",
      "metadata": {
        "colab": {
          "base_uri": "https://localhost:8080/"
        },
        "id": "fnMUMo16NVZJ",
        "outputId": "169b8bcd-b19d-4b35-bf9b-acee7f486173"
      },
      "source": [
        "with tf.Session() as sess:\r\n",
        "    sess.run(tf.global_variables_initializer())\r\n",
        "\r\n",
        "    for step in range(10001):\r\n",
        "        cost_val, _ = sess.run([cost, train], feed_dict = {X:x_data, Y:y_data})\r\n",
        "        if step % 1000 == 0:\r\n",
        "            print(step, cost_val)\r\n",
        "\r\n",
        "    print('--------------')\r\n",
        "    # Testing & One-hot encoding\r\n",
        "    a = sess.run(hypothesis, feed_dict={X: [[1, 11, 7, 9]]})\r\n",
        "    print(a, sess.run(tf.argmax(a, 1)))\r\n",
        "\r\n",
        "    print('--------------')\r\n",
        "    b = sess.run(hypothesis, feed_dict = {X: [[1, 3, 4, 3]]})\r\n",
        "    print(b, sess.run(tf.arg_max(b, 1)))\r\n",
        "\r\n",
        "    print('--------------')\r\n",
        "    c = sess.run(hypothesis, feed_dict = {X: [[1, 1, 0, 1]]})\r\n",
        "    print(c, sess.run(tf.arg_max(c, 1)))\r\n",
        "\r\n",
        "    print('--------------')\r\n",
        "    all = sess.run(hypothesis, feed_dict = {X: [[1, 11, 7, 9], [1, 3, 4, 3], [1, 1, 0, 1]]})\r\n",
        "    print(all, sess.run(tf.arg_max(all, 1)))"
      ],
      "execution_count": 15,
      "outputs": [
        {
          "output_type": "stream",
          "text": [
            "0 3.6577764\n",
            "1000 0.25661126\n",
            "2000 0.16052689\n",
            "3000 0.117736496\n",
            "4000 0.09260933\n",
            "5000 0.07616837\n",
            "6000 0.06460757\n",
            "7000 0.056050442\n",
            "8000 0.049469024\n",
            "9000 0.04425421\n",
            "10000 0.040022988\n",
            "--------------\n",
            "[[3.0140955e-06 9.9999702e-01 4.0909136e-08]] [1]\n",
            "--------------\n",
            "[[9.9211580e-01 7.5983033e-03 2.8591207e-04]] [0]\n",
            "--------------\n",
            "[[7.3695964e-16 6.3500499e-07 9.9999940e-01]] [2]\n",
            "--------------\n",
            "[[3.0140955e-06 9.9999702e-01 4.0908979e-08]\n",
            " [9.9211580e-01 7.5983177e-03 2.8591263e-04]\n",
            " [7.3695964e-16 6.3500499e-07 9.9999940e-01]] [1 0 2]\n"
          ],
          "name": "stdout"
        }
      ]
    },
    {
      "cell_type": "markdown",
      "metadata": {
        "id": "NudF1XyNUW6j"
      },
      "source": [
        "# Fency Softmax Classifier using zoo data\r\n",
        "\r\n"
      ]
    },
    {
      "cell_type": "code",
      "metadata": {
        "id": "WoTaUxzIVBdQ"
      },
      "source": [
        "from google.colab import drive, files"
      ],
      "execution_count": 16,
      "outputs": []
    },
    {
      "cell_type": "code",
      "metadata": {
        "colab": {
          "resources": {
            "http://localhost:8080/nbextensions/google.colab/files.js": {
              "data": "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",
              "ok": true,
              "headers": [
                [
                  "content-type",
                  "application/javascript"
                ]
              ],
              "status": 200,
              "status_text": ""
            }
          },
          "base_uri": "https://localhost:8080/",
          "height": 114
        },
        "id": "b1068X4YVRSa",
        "outputId": "a8046db2-fe72-4f70-d01c-1ec1fe5ceb37"
      },
      "source": [
        "files.upload()"
      ],
      "execution_count": 20,
      "outputs": [
        {
          "output_type": "display_data",
          "data": {
            "text/html": [
              "\n",
              "     <input type=\"file\" id=\"files-a4e8e9dd-052a-437d-aaa7-ede781c3b0d5\" name=\"files[]\" multiple disabled\n",
              "        style=\"border:none\" />\n",
              "     <output id=\"result-a4e8e9dd-052a-437d-aaa7-ede781c3b0d5\">\n",
              "      Upload widget is only available when the cell has been executed in the\n",
              "      current browser session. Please rerun this cell to enable.\n",
              "      </output>\n",
              "      <script src=\"/nbextensions/google.colab/files.js\"></script> "
            ],
            "text/plain": [
              "<IPython.core.display.HTML object>"
            ]
          },
          "metadata": {
            "tags": []
          }
        },
        {
          "output_type": "stream",
          "text": [
            "Saving data-04-zoo.csv to data-04-zoo (1).csv\n"
          ],
          "name": "stdout"
        },
        {
          "output_type": "execute_result",
          "data": {
            "text/plain": [
              "{'data-04-zoo.csv': b'1,0,0,1,0,0,1,1,1,1,0,0,4,0,0,1,0\\r\\n1,0,0,1,0,0,0,1,1,1,0,0,4,1,0,1,0\\r\\n0,0,1,0,0,1,1,1,1,0,0,1,0,1,0,0,3\\r\\n1,0,0,1,0,0,1,1,1,1,0,0,4,0,0,1,0\\r\\n1,0,0,1,0,0,1,1,1,1,0,0,4,1,0,1,0\\r\\n1,0,0,1,0,0,0,1,1,1,0,0,4,1,0,1,0\\r\\n1,0,0,1,0,0,0,1,1,1,0,0,4,1,1,1,0\\r\\n0,0,1,0,0,1,0,1,1,0,0,1,0,1,1,0,3\\r\\n0,0,1,0,0,1,1,1,1,0,0,1,0,1,0,0,3\\r\\n1,0,0,1,0,0,0,1,1,1,0,0,4,0,1,0,0\\r\\n1,0,0,1,0,0,1,1,1,1,0,0,4,1,0,1,0\\r\\n0,1,1,0,1,0,0,0,1,1,0,0,2,1,1,0,1\\r\\n0,0,1,0,0,1,1,1,1,0,0,1,0,1,0,0,3\\r\\n0,0,1,0,0,0,1,0,0,0,0,0,0,0,0,0,6\\r\\n0,0,1,0,0,1,1,0,0,0,0,0,4,0,0,0,6\\r\\n0,0,1,0,0,1,1,0,0,0,0,0,6,0,0,0,6\\r\\n0,1,1,0,1,0,1,0,1,1,0,0,2,1,0,0,1\\r\\n1,0,0,1,0,0,0,1,1,1,0,0,4,1,0,1,0\\r\\n0,0,1,0,0,1,1,1,1,0,0,1,0,1,0,1,3\\r\\n0,0,0,1,0,1,1,1,1,1,0,1,0,1,0,1,0\\r\\n0,1,1,0,1,0,0,0,1,1,0,0,2,1,1,0,1\\r\\n0,1,1,0,1,1,0,0,1,1,0,0,2,1,0,0,1\\r\\n1,0,0,1,0,0,0,1,1,1,0,0,4,1,0,1,0\\r\\n0,1,1,0,1,0,0,0,1,1,0,0,2,1,0,1,1\\r\\n0,0,1,0,0,0,0,0,0,1,0,0,6,0,0,0,5\\r\\n0,0,1,0,0,1,1,1,1,1,0,0,4,0,0,0,4\\r\\n0,0,1,0,0,1,1,1,1,1,1,0,4,0,0,0,4\\r\\n1,0,0,1,1,0,0,1,1,1,0,0,2,1,0,0,0\\r\\n1,0,0,1,0,0,0,1,1,1,0,0,4,1,0,1,0\\r\\n1,0,0,1,0,0,1,1,1,1,0,0,2,0,1,1,0\\r\\n0,0,1,0,1,0,0,0,0,1,0,0,6,0,0,0,5\\r\\n1,0,0,1,0,0,0,1,1,1,0,0,4,1,1,1,0\\r\\n1,0,0,1,0,0,0,1,1,1,0,0,2,0,0,1,0\\r\\n0,1,1,0,1,1,1,0,1,1,0,0,2,1,0,0,1\\r\\n0,0,1,0,0,1,0,1,1,0,0,1,0,1,0,0,3\\r\\n1,0,0,1,0,0,0,1,1,1,0,0,4,1,1,0,0\\r\\n1,0,0,1,0,0,0,1,1,1,0,0,4,1,0,0,0\\r\\n0,1,1,0,1,0,1,0,1,1,0,0,2,1,0,0,1\\r\\n0,0,1,0,0,1,1,1,1,0,0,1,0,1,0,0,3\\r\\n1,0,1,0,1,0,0,0,0,1,1,0,6,0,1,0,5\\r\\n1,0,1,0,1,0,0,0,0,1,0,0,6,0,0,0,5\\r\\n0,1,1,0,0,0,1,0,1,1,0,0,2,1,0,0,1\\r\\n0,0,1,0,1,0,1,0,0,1,0,0,6,0,0,0,5\\r\\n0,1,1,0,1,0,0,0,1,1,0,0,2,1,0,0,1\\r\\n1,0,0,1,0,0,1,1,1,1,0,0,4,1,0,1,0\\r\\n1,0,0,1,0,0,1,1,1,1,0,0,4,1,0,1,0\\r\\n0,0,1,0,0,1,1,0,0,0,0,0,6,0,0,0,6\\r\\n1,0,0,1,0,0,1,1,1,1,0,0,4,1,0,1,0\\r\\n1,0,0,1,0,1,1,1,1,1,0,0,4,1,0,1,0\\r\\n1,0,0,1,0,0,1,1,1,1,0,0,4,1,0,0,0\\r\\n1,0,0,1,0,0,1,1,1,1,0,0,4,1,0,1,0\\r\\n1,0,1,0,1,0,0,0,0,1,0,0,6,0,0,0,5\\r\\n0,0,1,0,0,1,1,1,1,1,0,0,4,1,0,0,4\\r\\n0,0,1,0,0,1,1,0,0,0,0,0,8,0,0,1,6\\r\\n1,0,0,1,0,0,1,1,1,1,0,0,4,1,0,0,0\\r\\n1,0,0,1,0,0,0,1,1,1,0,0,4,1,0,1,0\\r\\n0,1,1,0,0,0,0,0,1,1,0,0,2,1,0,1,1\\r\\n0,1,1,0,1,0,0,0,1,1,0,0,2,1,1,0,1\\r\\n0,1,1,0,0,1,1,0,1,1,0,0,2,1,0,1,1\\r\\n0,1,1,0,1,0,0,0,1,1,0,0,2,1,0,0,1\\r\\n0,0,1,0,0,1,1,1,1,0,0,1,0,1,0,1,3\\r\\n0,0,1,0,0,1,1,1,1,0,0,1,0,1,0,0,3\\r\\n0,0,1,0,0,0,1,1,1,1,1,0,0,1,0,0,2\\r\\n1,0,1,1,0,1,1,0,1,1,0,0,4,1,0,1,0\\r\\n1,0,0,1,0,0,1,1,1,1,0,0,4,1,0,1,0\\r\\n1,0,0,1,0,0,0,1,1,1,0,0,4,1,1,1,0\\r\\n0,0,0,1,0,1,1,1,1,1,0,1,0,1,0,1,0\\r\\n1,0,0,1,0,0,1,1,1,1,0,0,4,1,0,1,0\\r\\n1,0,0,1,0,0,1,1,1,1,0,0,4,1,1,1,0\\r\\n1,0,0,1,0,0,1,1,1,1,0,0,4,1,0,1,0\\r\\n1,0,0,1,0,0,0,1,1,1,0,0,4,1,1,1,0\\r\\n0,1,1,0,0,0,1,0,1,1,0,0,2,1,0,1,1\\r\\n0,0,0,0,0,0,1,0,0,1,1,0,8,1,0,0,6\\r\\n0,0,1,0,0,1,0,1,1,0,0,1,0,1,0,0,3\\r\\n1,0,0,1,0,1,1,1,1,1,0,1,0,0,0,1,0\\r\\n1,0,0,1,0,1,1,1,1,1,0,1,2,1,0,1,0\\r\\n0,0,0,0,0,1,1,1,1,0,1,0,0,1,0,0,2\\r\\n0,0,1,0,0,1,1,0,0,0,1,0,0,0,0,0,6\\r\\n0,1,1,0,1,1,1,0,1,1,0,0,2,1,0,0,1\\r\\n0,1,1,0,1,1,1,0,1,1,0,0,2,1,0,0,1\\r\\n0,0,1,0,0,0,1,1,1,1,0,0,0,1,0,0,2\\r\\n0,0,1,0,0,0,0,0,0,1,0,0,0,0,0,0,6\\r\\n0,0,1,0,0,1,0,1,1,0,0,1,0,1,0,0,3\\r\\n0,1,1,0,1,0,0,0,1,1,0,0,2,1,0,0,1\\r\\n1,0,0,1,0,0,0,1,1,1,0,0,2,1,0,0,0\\r\\n0,0,1,0,0,1,1,0,0,0,0,0,5,0,0,0,6\\r\\n0,0,1,0,0,1,1,1,1,0,1,1,0,1,0,1,3\\r\\n0,1,1,0,1,1,0,0,1,1,0,0,2,1,0,1,1\\r\\n0,0,1,0,0,0,0,0,0,1,0,0,6,0,0,0,5\\r\\n0,0,1,0,0,1,0,1,1,1,0,0,4,0,0,0,4\\r\\n0,0,1,0,0,0,0,0,1,1,0,0,4,1,0,1,2\\r\\n0,0,1,0,0,0,1,1,1,1,0,0,4,1,0,0,2\\r\\n0,0,1,0,0,1,1,1,1,0,0,1,0,1,0,1,3\\r\\n1,0,0,1,1,0,0,1,1,1,0,0,2,1,0,0,0\\r\\n1,0,0,1,0,0,0,1,1,1,0,0,4,1,0,0,0\\r\\n0,1,1,0,1,0,1,0,1,1,0,0,2,1,0,1,1\\r\\n1,0,0,1,0,0,0,1,1,1,0,0,2,1,0,1,0\\r\\n1,0,1,0,1,0,0,0,0,1,1,0,6,0,0,0,5\\r\\n1,0,0,1,0,0,1,1,1,1,0,0,4,1,0,1,0\\r\\n0,0,1,0,0,0,0,0,0,1,0,0,0,0,0,0,6\\r\\n0,1,1,0,1,0,0,0,1,1,0,0,2,1,0,0,1'}"
            ]
          },
          "metadata": {
            "tags": []
          },
          "execution_count": 20
        }
      ]
    },
    {
      "cell_type": "code",
      "metadata": {
        "colab": {
          "base_uri": "https://localhost:8080/"
        },
        "id": "EGUuhKUIVWF1",
        "outputId": "e36ad4a6-ae24-46f4-87a8-28a0214e28a4"
      },
      "source": [
        "drive.mount('/content/drive')"
      ],
      "execution_count": 31,
      "outputs": [
        {
          "output_type": "stream",
          "text": [
            "Drive already mounted at /content/drive; to attempt to forcibly remount, call drive.mount(\"/content/drive\", force_remount=True).\n"
          ],
          "name": "stdout"
        }
      ]
    },
    {
      "cell_type": "code",
      "metadata": {
        "id": "XAqv0F5oOeqQ"
      },
      "source": [
        "import tensorflow as tf\r\n",
        "import numpy as np\r\n",
        "tf.set_random_seed(777)\r\n",
        "\r\n",
        "xy = np.loadtxt('/content/drive/My Drive/모두의 딥러닝/data-04-zoo.csv', delimiter = ',', dtype = np.float32)\r\n",
        "x_data = xy[:, 0:-1]\r\n",
        "y_data = xy[:, [-1]]"
      ],
      "execution_count": 37,
      "outputs": []
    },
    {
      "cell_type": "code",
      "metadata": {
        "colab": {
          "base_uri": "https://localhost:8080/"
        },
        "id": "mp2ZpCK_aUWm",
        "outputId": "e5c009da-e22a-401b-da81-985dd999bbdc"
      },
      "source": [
        "print(x_data.shape, y_data.shape)"
      ],
      "execution_count": 38,
      "outputs": [
        {
          "output_type": "stream",
          "text": [
            "(101, 16) (101, 1)\n"
          ],
          "name": "stdout"
        }
      ]
    },
    {
      "cell_type": "code",
      "metadata": {
        "colab": {
          "base_uri": "https://localhost:8080/"
        },
        "id": "DfPZHw93ajQZ",
        "outputId": "a7141fe7-40f5-4008-bf7a-a2a399a17774"
      },
      "source": [
        "nb_class = 7\r\n",
        "\r\n",
        "X = tf.placeholder(tf.float32, [None, 16])\r\n",
        "Y = tf.placeholder(tf.int32, [None, 1])\r\n",
        "\r\n",
        "# one-hot encoding을 하면 rank가 1 증가함 따라서 원래 형태로 바꾸어줘야됨\r\n",
        "Y_one_hot = tf.one_hot(Y, nb_class) # one-hot encoding 실행\r\n",
        "print(\"one_hot : \", Y_one_hot)\r\n",
        "Y_one_hot = tf.reshape(Y_one_hot, [-1, nb_class]) # 형태 재구성\r\n",
        "print(\"reshape one_hot : \", Y_one_hot)\r\n",
        "\r\n",
        "W = tf.Variable(tf.random_normal([16, nb_class]), name=\"weight\")\r\n",
        "b = tf.Variable(tf.random_normal([nb_class]), name = \"bias\")\r\n",
        "\r\n",
        "logits = tf.matmul(X, W) + b\r\n",
        "hypothesis = tf.nn.softmax(logits)\r\n",
        "\r\n",
        "# version 1\r\n",
        "#cost = tf.reduce_mean(tf.nn.softmax_cross_entropy_with_logits(logits=logits, labels = Y_one_hot))\r\n",
        "\r\n",
        "# version 2\r\n",
        "cost = tf.reduce_mean(tf.nn.softmax_cross_entropy_with_logits_v2(logits=logits, labels=tf.stop_gradient([Y_one_hot]))) #stop_gradient함수는 학습하는 부분을 나누어 학습하고자 할 때 사용한다.\r\n",
        "train = tf.train.GradientDescentOptimizer(learning_rate=0.1).minimize(cost)\r\n",
        "\r\n",
        "prediction = tf.arg_max(hypothesis, 1) # 가설함수의 값에서 가장 큰 값을 얻음\r\n",
        "correct_prediction = tf.equal(prediction, tf.arg_max(Y_one_hot, 1)) # 위에서 얻은 값과 실제 값이 같은지 확인 (1은 열을 기준으로 확인)\r\n",
        "accuracy = tf.reduce_mean(tf.cast(correct_prediction, tf.float32)) # 앞서 얻은 모든 예측 값을 더해서 평균을 계산해 정확도를 계산"
      ],
      "execution_count": 43,
      "outputs": [
        {
          "output_type": "stream",
          "text": [
            "one_hot :  Tensor(\"one_hot_4:0\", shape=(?, 1, 7), dtype=float32)\n",
            "reshape one_hot :  Tensor(\"Reshape_4:0\", shape=(?, 7), dtype=float32)\n"
          ],
          "name": "stdout"
        }
      ]
    },
    {
      "cell_type": "code",
      "metadata": {
        "id": "O6SlhqFXdQti"
      },
      "source": [
        "with tf.Session() as sess:\r\n",
        "    sess.run(tf.global_variables_initializer())\r\n",
        "\r\n",
        "    for step in range(2001):\r\n",
        "        _, cost_val, acc_val = sess.run([train, cost, accuracy], feed_dict={X:x_data, Y:y_data})\r\n",
        "        if step % 500 == 0:\r\n",
        "            print(\"Step: {:5}\\tCost: {:.3f}\\tAcc: {:.2%}\".format(step, cost_val, acc_val))\r\n",
        "\r\n",
        "    pred = sess.run(prediction, feed_dict={X:x_data})\r\n",
        "    for p, y in zip(pred, y_data.flatten()): # flatten함수는 n차원으로 이루어진 데이터를 직렬화한다.\r\n",
        "        print(\"[{}] Prediction : {} True Y : {}\".format(p == int(y), p, int(y)))"
      ],
      "execution_count": null,
      "outputs": []
    },
    {
      "cell_type": "markdown",
      "metadata": {
        "id": "4aOqo19M8ax0"
      },
      "source": [
        "======================================================================================================="
      ]
    },
    {
      "cell_type": "markdown",
      "metadata": {
        "id": "HzplINsq8mZu"
      },
      "source": [
        "# Learning rate and Evaluation\r\n",
        "- learning rate에 따라 가중치의 변화와 과적합을 확인해본다."
      ]
    },
    {
      "cell_type": "code",
      "metadata": {
        "id": "e2Y-u7JliPRO"
      },
      "source": [
        "import tensorflow as tf\r\n",
        "tf.set_random_seed(777)  # for reproducibility\r\n",
        "\r\n",
        "x_data = [[1, 2, 1],\r\n",
        "          [1, 3, 2],\r\n",
        "          [1, 3, 4],\r\n",
        "          [1, 5, 5],\r\n",
        "          [1, 7, 5],\r\n",
        "          [1, 2, 5],\r\n",
        "          [1, 6, 6],\r\n",
        "          [1, 7, 7]]\r\n",
        "y_data = [[0, 0, 1], # one-hot encoding so Our model use softmax\r\n",
        "          [0, 0, 1],\r\n",
        "          [0, 0, 1],\r\n",
        "          [0, 1, 0],\r\n",
        "          [0, 1, 0],\r\n",
        "          [0, 1, 0],\r\n",
        "          [1, 0, 0],\r\n",
        "          [1, 0, 0]]\r\n",
        "\r\n",
        "# Evaluation our model using this test dataset\r\n",
        "x_test = [[2, 1, 1],\r\n",
        "          [3, 1, 2],\r\n",
        "          [3, 3, 4]]\r\n",
        "y_test = [[0, 0, 1],\r\n",
        "          [0, 0, 1],\r\n",
        "          [0, 0, 1]]\r\n",
        "\r\n",
        "X = tf.placeholder(tf.float32, [None, 3])\r\n",
        "Y = tf.placeholder(tf.float32, [None, 3])\r\n",
        "\r\n",
        "W = tf.Variable(tf.random_normal([3, 3]), name = 'weight')\r\n",
        "b = tf.Variable(tf.random_normal([3]), name = 'bias')\r\n",
        "\r\n",
        "hypothesis = tf.nn.softmax(tf.matmul(X, W) + b)\r\n",
        "\r\n",
        "cost = tf.reduce_mean(-tf.reduce_sum(Y * tf.log(hypothesis), axis = 1))\r\n",
        "train = tf.train.GradientDescentOptimizer(learning_rate=0.5).minimize(cost)\r\n",
        "\r\n",
        "prediction = tf.arg_max(hypothesis, 1) # 예상 결과를 얻음\r\n",
        "is_correct = tf.equal(prediction, tf.arg_max(Y, 1)) # 예상 결과가 실제와 동일한지 확인\r\n",
        "accuracy = tf.reduce_mean(tf.cast(is_correct, tf.float32)) # 예측 결과와 실제 결과를 비교해 평균을 내 예측 정확도를 계산"
      ],
      "execution_count": 58,
      "outputs": []
    },
    {
      "cell_type": "code",
      "metadata": {
        "colab": {
          "base_uri": "https://localhost:8080/"
        },
        "id": "fzvShtbuAkff",
        "outputId": "cfafdd0d-39c7-4b25-cad9-2670ebc1d761"
      },
      "source": [
        "with tf.Session() as sess:\r\n",
        "    sess.run(tf.global_variables_initializer())\r\n",
        "\r\n",
        "    for step in range(2001):\r\n",
        "        cost_val,W_val, _ = sess.run([cost, W, train], feed_dict={X: x_data, Y: y_data})\r\n",
        "        if step % 500 == 0:\r\n",
        "            print(step, cost_val, W_val)\r\n",
        "\r\n",
        "    print(\"Prediction : \", sess.run(prediction, feed_dict={X:x_test}))\r\n",
        "    print(\"Accuracy : \", sess.run(accuracy, feed_dict={X:x_test, Y:y_test}))"
      ],
      "execution_count": 59,
      "outputs": [
        {
          "output_type": "stream",
          "text": [
            "0 6.0261106 [[-0.71623707  1.3625672  -0.47856766]\n",
            " [-0.45875007  0.24063832  0.83187234]\n",
            " [ 1.862092    0.83042866 -2.0092397 ]]\n",
            "500 3.2745075 [[-10.74248      4.615052     6.29519   ]\n",
            " [  0.33790863  -0.18673766   0.4625929 ]\n",
            " [  3.2946732   -0.07047409  -2.5409157 ]]\n",
            "1000 0.7174748 [[-16.937702     6.1262703   10.979184  ]\n",
            " [ -0.256973     0.95024425  -0.07950542]\n",
            " [  5.918805    -1.0636344   -4.171891  ]]\n",
            "1500 0.0563428 [[-18.672802     5.383222    13.45734   ]\n",
            " [  0.30398613   0.2762802    0.03350021]\n",
            " [  6.825936    -1.0841972   -5.0584574 ]]\n",
            "2000 0.042627208 [[-1.8850306e+01  4.6077857e+00  1.4410220e+01]\n",
            " [ 3.4806803e-01  2.5523037e-01  1.0469267e-02]\n",
            " [ 6.8889728e+00 -7.3522681e-01 -5.4704733e+00]]\n",
            "Prediction :  [2 2 2]\n",
            "Accuracy :  1.0\n"
          ],
          "name": "stdout"
        }
      ]
    },
    {
      "cell_type": "markdown",
      "metadata": {
        "id": "jxYqeX6_DKrn"
      },
      "source": [
        "# Linear regerssion using non regularization data\r\n",
        "- 일반화되지 않은 데이터를 사용해 모델을 학습해본 후 예측값과 비용을 확인해본다."
      ]
    },
    {
      "cell_type": "code",
      "metadata": {
        "id": "_OVSfzEhCdan"
      },
      "source": [
        "import tensorflow as tf\r\n",
        "import numpy as np\r\n",
        "tf.set_random_seed(777)  # for reproducibility\r\n",
        "\r\n",
        "\r\n",
        "xy = np.array([[828.659973, 833.450012, 908100, 828.349976, 831.659973],\r\n",
        "               [823.02002, 828.070007, 1828100, 821.655029, 828.070007],\r\n",
        "               [819.929993, 824.400024, 1438100, 818.97998, 824.159973],\r\n",
        "               [816, 820.958984, 1008100, 815.48999, 819.23999],\r\n",
        "               [819.359985, 823, 1188100, 818.469971, 818.97998],\r\n",
        "               [819, 823, 1198100, 816, 820.450012],\r\n",
        "               [811.700012, 815.25, 1098100, 809.780029, 813.669983],\r\n",
        "               [809.51001, 816.659973, 1398100, 804.539978, 809.559998]])\r\n",
        "\r\n",
        "x_data = xy[:, 0:-1]\r\n",
        "y_data = xy[:, [-1]]\r\n",
        "\r\n",
        "X = tf.placeholder(tf.float32, [None, 4])\r\n",
        "Y = tf.placeholder(tf.float32, [None, 1])\r\n",
        "\r\n",
        "W = tf.Variable(tf.random_normal([4, 1]))\r\n",
        "b = tf.Variable(tf.random_normal([1]))\r\n",
        "\r\n",
        "hypothesis = tf.matmul(X, W) + b\r\n",
        "\r\n",
        "cost = tf.reduce_mean(tf.square(hypothesis - Y))\r\n",
        "train = tf.train.GradientDescentOptimizer(learning_rate=0.01).minimize(cost)"
      ],
      "execution_count": 61,
      "outputs": []
    },
    {
      "cell_type": "code",
      "metadata": {
        "id": "lwvjM3I_Fq_0"
      },
      "source": [
        "sess = tf.Session()\r\n",
        "sess.run(tf.global_variables_initializer())\r\n",
        "\r\n",
        "for step in range(11):\r\n",
        "    cost_val, hy_val, _ = sess.run([cost, hypothesis, train], feed_dict={X:x_data, Y:y_data})\r\n",
        "\r\n",
        "    if step % 2 == 0:\r\n",
        "        print(step, \"Cost : \", cost_val, \"\\nPrediction : \\n\", hy_val)"
      ],
      "execution_count": null,
      "outputs": []
    },
    {
      "cell_type": "markdown",
      "metadata": {
        "id": "y0m5QkLnHNoU"
      },
      "source": [
        "# Linear regerssion using non regularization data\r\n",
        "- 앞서 확인한 문제를 일반화하여 다시 모델을 구축해본다."
      ]
    },
    {
      "cell_type": "code",
      "metadata": {
        "colab": {
          "base_uri": "https://localhost:8080/"
        },
        "id": "eW7cArEwGl5v",
        "outputId": "c508fc98-83a3-49b4-90c1-f8140810542e"
      },
      "source": [
        "import tensorflow as tf\r\n",
        "import numpy as np\r\n",
        "tf.set_random_seed(777)\r\n",
        "\r\n",
        "def min_max_scaler(data):\r\n",
        "    numerator = data - np.min(data, 0) # 행을 기준(즉 같은 열에서 다른 행까리)으로 가장 작은 값을 빼준다.\r\n",
        "    denominator = np.max(data ,0) - np.min(data ,0)\r\n",
        "    return numerator / (denominator + 1e-7) # 1e-7은 0으로 나뉘는 것을 방지하기 위한 설정\r\n",
        "\r\n",
        "xy = np.array(\r\n",
        "    [\r\n",
        "        [828.659973, 833.450012, 908100, 828.349976, 831.659973],\r\n",
        "        [823.02002, 828.070007, 1828100, 821.655029, 828.070007],\r\n",
        "        [819.929993, 824.400024, 1438100, 818.97998, 824.159973],\r\n",
        "        [816, 820.958984, 1008100, 815.48999, 819.23999],\r\n",
        "        [819.359985, 823, 1188100, 818.469971, 818.97998],\r\n",
        "        [819, 823, 1198100, 816, 820.450012],\r\n",
        "        [811.700012, 815.25, 1098100, 809.780029, 813.669983],\r\n",
        "        [809.51001, 816.659973, 1398100, 804.539978, 809.559998],\r\n",
        "    ]\r\n",
        ")\r\n",
        "\r\n",
        "# very important. It does not work without it.\r\n",
        "xy = min_max_scaler(xy)\r\n",
        "print(xy)"
      ],
      "execution_count": 74,
      "outputs": [
        {
          "output_type": "stream",
          "text": [
            "[[0.99999999 0.99999999 0.         1.         1.        ]\n",
            " [0.70548491 0.70439552 1.         0.71881782 0.83755791]\n",
            " [0.54412549 0.50274824 0.57608696 0.606468   0.6606331 ]\n",
            " [0.33890353 0.31368023 0.10869565 0.45989134 0.43800918]\n",
            " [0.51436    0.42582389 0.30434783 0.58504805 0.42624401]\n",
            " [0.49556179 0.42582389 0.31521739 0.48131134 0.49276137]\n",
            " [0.11436064 0.         0.20652174 0.22007776 0.18597238]\n",
            " [0.         0.07747099 0.5326087  0.         0.        ]]\n"
          ],
          "name": "stdout"
        }
      ]
    },
    {
      "cell_type": "code",
      "metadata": {
        "id": "8kdy-Uq6JA7-"
      },
      "source": [
        "x_data = xy[:, 0:-1]\r\n",
        "y_data = xy[:, [-1]]\r\n",
        "\r\n",
        "X = tf.placeholder(tf.float32, [None, 4])\r\n",
        "Y = tf.placeholder(tf.float32, [None, 1])\r\n",
        "\r\n",
        "W = tf.Variable(tf.random_normal([4, 1]))\r\n",
        "b = tf.Variable(tf.random_normal([1]))\r\n",
        "\r\n",
        "hypothesis = tf.matmul(X, W) + b\r\n",
        "\r\n",
        "cost = tf.reduce_mean(tf.square(hypothesis - Y))\r\n",
        "train = tf.train.GradientDescentOptimizer(learning_rate=0.01).minimize(cost)"
      ],
      "execution_count": 88,
      "outputs": []
    },
    {
      "cell_type": "code",
      "metadata": {
        "id": "USDHYCphLrUA"
      },
      "source": [
        "with tf.Session() as sess:\r\n",
        "    sess.run(tf.global_variables_initializer())\r\n",
        "\r\n",
        "    for step in range(101):\r\n",
        "        _, cost_val, hy_val = sess.run([train, cost, hypothesis], feed_dict={X:x_data, Y:y_data})\r\n",
        "        if step % 10 == 0:\r\n",
        "            print(step, \"Cost : \", cost_val, \"\\nPrediction : \\n\", hy_val)"
      ],
      "execution_count": null,
      "outputs": []
    },
    {
      "cell_type": "markdown",
      "metadata": {
        "id": "80VIp0giTAJY"
      },
      "source": [
        "======================================================================================================="
      ]
    },
    {
      "cell_type": "markdown",
      "metadata": {
        "id": "DwspeQnIQWDv"
      },
      "source": [
        "# Mnist example"
      ]
    },
    {
      "cell_type": "code",
      "metadata": {
        "colab": {
          "base_uri": "https://localhost:8080/"
        },
        "id": "Ch9BHa-sMPU1",
        "outputId": "7cc5f4c3-68f3-4ade-d885-9799e1b4291f"
      },
      "source": [
        "import tensorflow as tf\r\n",
        "import matplotlib.pyplot as plt\r\n",
        "import random\r\n",
        "tf.set_random_seed(777)\r\n",
        "\r\n",
        "from tensorflow.examples.tutorials.mnist import input_data\r\n",
        "mnist = input_data.read_data_sets(\"MNIST_data/\", one_hot = True)\r\n",
        "nb_class = 10\r\n",
        "\r\n",
        "X = tf.placeholder(tf.float32, [None, 784])\r\n",
        "Y = tf.placeholder(tf.float32, [None, nb_class])\r\n",
        "\r\n",
        "W = tf.Variable(tf.random_normal([784, nb_class]), name = 'weight')\r\n",
        "b = tf.Variable(tf.random_normal([nb_class]), name = 'bias')\r\n",
        "\r\n",
        "hypothesis = tf.nn.softmax(tf.matmul(X, W) + b)\r\n",
        "\r\n",
        "cost = tf.reduce_mean(-tf.reduce_sum(Y * tf.log(hypothesis), axis = 1))\r\n",
        "train = tf.train.GradientDescentOptimizer(learning_rate=1.2).minimize(cost)\r\n",
        "\r\n",
        "correct = tf.equal(tf.arg_max(hypothesis, 1), tf.arg_max(Y, 1))\r\n",
        "accuracy = tf.reduce_mean(tf.cast(correct, tf.float32))"
      ],
      "execution_count": 135,
      "outputs": [
        {
          "output_type": "stream",
          "text": [
            "Extracting MNIST_data/train-images-idx3-ubyte.gz\n",
            "Extracting MNIST_data/train-labels-idx1-ubyte.gz\n",
            "Extracting MNIST_data/t10k-images-idx3-ubyte.gz\n",
            "Extracting MNIST_data/t10k-labels-idx1-ubyte.gz\n"
          ],
          "name": "stdout"
        }
      ]
    },
    {
      "cell_type": "code",
      "metadata": {
        "id": "3Jz6720WVE-F"
      },
      "source": [
        "num_epochs = 20\r\n",
        "batch_size = 100\r\n",
        "num_iterations = int(mnist.train.num_examples / batch_size)\r\n",
        "\r\n",
        "with tf.Session() as sess:\r\n",
        "    sess.run(tf.global_variables_initializer())\r\n",
        "\r\n",
        "    for epoch in range(num_epochs):\r\n",
        "        avg_cost = 0\r\n",
        "        for i in range(num_iterations):\r\n",
        "            batch_xs, batch_ys = mnist.train.next_batch(batch_size=batch_size)\r\n",
        "            _, cost_val = sess.run([train, cost], feed_dict={X:batch_xs, Y:batch_ys})\r\n",
        "            avg_cost += cost_val / num_iterations\r\n",
        "        print(\"Epoch : {:04d}, Cost : {:.9f}\".format(epoch + 1, avg_cost))\r\n",
        "\r\n",
        "    print(\"Learning finish\")\r\n",
        "\r\n",
        "    print(\"Accuracy : \", accuracy.eval(session=sess, feed_dict={X:mnist.test.images, Y:mnist.test.labels}))\r\n",
        "    print(\"======================================================\")\r\n",
        "\r\n",
        "    r = random.randint(0, mnist.test.num_examples - 1)\r\n",
        "    print(\"Label : \", sess.run(tf.arg_max(mnist.test.labels[r : r + 1], 1)))\r\n",
        "    print(\"Prediction : \", sess.run(tf.arg_max(hypothesis, 1), feed_dict={X:mnist.test.images[r : r + 1]}))\r\n",
        "\r\n",
        "    # interpolation이란 보간이라는 뜻으로 화면의 해상도와 이미지의 해상도가 다를 경우에 사용된다.\r\n",
        "    # 이미지를 압축했다가 다시 압축을 풀때 주로 사용됨\r\n",
        "    plt.imshow(mnist.test.images[r : r + 1].reshape(28, 28), cmap = \"Greys\", interpolation=\"nearest\")\r\n",
        "    plt.show()"
      ],
      "execution_count": null,
      "outputs": []
    },
    {
      "cell_type": "markdown",
      "metadata": {
        "id": "H_jxpa0geVE1"
      },
      "source": [
        "# Tensor Manipulation"
      ]
    },
    {
      "cell_type": "code",
      "metadata": {
        "id": "xoTBBFmhYb98"
      },
      "source": [
        "import tensorflow as tf\r\n",
        "import numpy as np\r\n",
        "import pprint # 임의의 파이썬 데이터 구조를 인터프리터의 입력으로 사용할 수 있는 형태를 지원하는 라이브러리\r\n",
        "tf.set_random_seed(777)\r\n",
        "\r\n",
        "pp = pprint.PrettyPrinter(indent = 4) # indent의 경우 들여쓰기를 위한 칸 수\r\n",
        "\r\n",
        "# tf.Session()을 사용하는 경우 자동으로 세션을 할당하지 않기 때문에 주로 with문과 함께 쓰인다.\r\n",
        "sess = tf.InteractiveSession() # 이는 자동으로 터미널에 default session을 할당한다."
      ],
      "execution_count": 138,
      "outputs": []
    },
    {
      "cell_type": "markdown",
      "metadata": {
        "id": "1Ncgi0hMvAiH"
      },
      "source": [
        "### Simple Arrary"
      ]
    },
    {
      "cell_type": "code",
      "metadata": {
        "colab": {
          "base_uri": "https://localhost:8080/"
        },
        "id": "Da-gxz3_uHwD",
        "outputId": "bdb41a78-27ec-4ad2-fb1d-3d2092835441"
      },
      "source": [
        "t = np.array([0., 1., 2., 3., 4., 5., 6.])\r\n",
        "pp.pprint(t)\r\n",
        "print(t.ndim) # rank\r\n",
        "print(t.shape) # shape\r\n",
        "print(t[0], t[1], t[-1])\r\n",
        "print(t[2:5], t[4:-1])\r\n",
        "print(t[:2], t[3:])"
      ],
      "execution_count": 139,
      "outputs": [
        {
          "output_type": "stream",
          "text": [
            "array([0., 1., 2., 3., 4., 5., 6.])\n",
            "1\n",
            "(7,)\n",
            "0.0 1.0 6.0\n",
            "[2. 3. 4.] [4. 5.]\n",
            "[0. 1.] [3. 4. 5. 6.]\n"
          ],
          "name": "stdout"
        }
      ]
    },
    {
      "cell_type": "markdown",
      "metadata": {
        "id": "W-4hC6N9vLcN"
      },
      "source": [
        "### 2D Array"
      ]
    },
    {
      "cell_type": "code",
      "metadata": {
        "colab": {
          "base_uri": "https://localhost:8080/"
        },
        "id": "i6q0utENvElU",
        "outputId": "a98acc4a-ce96-4b19-8e44-f39ba1c909f6"
      },
      "source": [
        "t = np.array([[1., 2., 3.], [4., 5., 6.], [7., 8., 9.], [10., 11., 12.]])\r\n",
        "pp.pprint(t)\r\n",
        "print(t.ndim) # rank\r\n",
        "print(t.shape) # shape"
      ],
      "execution_count": 140,
      "outputs": [
        {
          "output_type": "stream",
          "text": [
            "array([[ 1.,  2.,  3.],\n",
            "       [ 4.,  5.,  6.],\n",
            "       [ 7.,  8.,  9.],\n",
            "       [10., 11., 12.]])\n",
            "2\n",
            "(4, 3)\n"
          ],
          "name": "stdout"
        }
      ]
    },
    {
      "cell_type": "markdown",
      "metadata": {
        "id": "ab4bGwFDvStF"
      },
      "source": [
        "### Shape, Rank, Axis\r\n",
        "- 축의 경우 axis = -1을  하면 제일 안쪽 축을 의미"
      ]
    },
    {
      "cell_type": "code",
      "metadata": {
        "colab": {
          "base_uri": "https://localhost:8080/"
        },
        "id": "bi_ZKJUcvOCT",
        "outputId": "5416d6b0-b123-40e8-9dfc-ab8533aec869"
      },
      "source": [
        "t = tf.constant([1,2,3,4])\r\n",
        "tf.shape(t).eval()"
      ],
      "execution_count": 141,
      "outputs": [
        {
          "output_type": "execute_result",
          "data": {
            "text/plain": [
              "array([4], dtype=int32)"
            ]
          },
          "metadata": {
            "tags": []
          },
          "execution_count": 141
        }
      ]
    },
    {
      "cell_type": "code",
      "metadata": {
        "colab": {
          "base_uri": "https://localhost:8080/"
        },
        "id": "lwbMutfCvaL0",
        "outputId": "68392bcc-cabf-496b-9da9-30f2020911f9"
      },
      "source": [
        "t = tf.constant([[1,2],\r\n",
        "                 [3,4]])\r\n",
        "tf.shape(t).eval()"
      ],
      "execution_count": 142,
      "outputs": [
        {
          "output_type": "execute_result",
          "data": {
            "text/plain": [
              "array([2, 2], dtype=int32)"
            ]
          },
          "metadata": {
            "tags": []
          },
          "execution_count": 142
        }
      ]
    },
    {
      "cell_type": "code",
      "metadata": {
        "colab": {
          "base_uri": "https://localhost:8080/"
        },
        "id": "uLsLe8tEvcYj",
        "outputId": "873c5a77-db12-4cfa-f3d3-b4884311fde4"
      },
      "source": [
        "# n 차원을 확인할 때는 가장 안쪽의 차원부터 확인하면 쉽게 차원을 확인할 수 있음\r\n",
        "t = tf.constant([[[[1, 2, 3, 4], [5, 6, 7, 8], [9, 10, 11, 12]],[[13, 14, 15, 16], [17, 18, 19, 20], [21, 22, 23, 24]]]]) \r\n",
        "tf.shape(t).eval()"
      ],
      "execution_count": 144,
      "outputs": [
        {
          "output_type": "execute_result",
          "data": {
            "text/plain": [
              "array([1, 2, 3, 4], dtype=int32)"
            ]
          },
          "metadata": {
            "tags": []
          },
          "execution_count": 144
        }
      ]
    },
    {
      "cell_type": "code",
      "metadata": {
        "colab": {
          "base_uri": "https://localhost:8080/"
        },
        "id": "XmVLHjXLvewk",
        "outputId": "f7f6f9c3-07be-4685-9553-908951ecb30c"
      },
      "source": [
        "[\r\n",
        "    [\r\n",
        "        [\r\n",
        "            [1,2,3,4], \r\n",
        "            [5,6,7,8],\r\n",
        "            [9,10,11,12]\r\n",
        "        ],\r\n",
        "        [\r\n",
        "            [13,14,15,16],\r\n",
        "            [17,18,19,20], \r\n",
        "            [21,22,23,24]\r\n",
        "        ]\r\n",
        "    ]\r\n",
        "]"
      ],
      "execution_count": 146,
      "outputs": [
        {
          "output_type": "execute_result",
          "data": {
            "text/plain": [
              "[[[[1, 2, 3, 4], [5, 6, 7, 8], [9, 10, 11, 12]],\n",
              "  [[13, 14, 15, 16], [17, 18, 19, 20], [21, 22, 23, 24]]]]"
            ]
          },
          "metadata": {
            "tags": []
          },
          "execution_count": 146
        }
      ]
    },
    {
      "cell_type": "markdown",
      "metadata": {
        "id": "_Jb10UWgvtAA"
      },
      "source": [
        "### Matmul VS multiply"
      ]
    },
    {
      "cell_type": "code",
      "metadata": {
        "colab": {
          "base_uri": "https://localhost:8080/"
        },
        "id": "5x_xG_qRvqtU",
        "outputId": "49d80b14-6f36-40e2-ed61-459023c48d64"
      },
      "source": [
        "# [3, 3,] * [[2],\r\n",
        "#            [2]]\r\n",
        "matrix1 = tf.constant([[3., 3.]])\r\n",
        "matrix2 = tf.constant([[2.],[2.]])\r\n",
        "tf.matmul(matrix1, matrix2).eval()"
      ],
      "execution_count": 147,
      "outputs": [
        {
          "output_type": "execute_result",
          "data": {
            "text/plain": [
              "array([[12.]], dtype=float32)"
            ]
          },
          "metadata": {
            "tags": []
          },
          "execution_count": 147
        }
      ]
    },
    {
      "cell_type": "code",
      "metadata": {
        "colab": {
          "base_uri": "https://localhost:8080/"
        },
        "id": "wHS31XHdv0vL",
        "outputId": "dd94cd11-9f48-4693-afe7-c5f5c10f3b10"
      },
      "source": [
        "(matrix1*matrix2).eval() # 이는 일반적인 행렬 곱셈이 아니라 Broadcasting되어 원소끼리의 곱이 계산된 것"
      ],
      "execution_count": 149,
      "outputs": [
        {
          "output_type": "execute_result",
          "data": {
            "text/plain": [
              "array([[6., 6.],\n",
              "       [6., 6.]], dtype=float32)"
            ]
          },
          "metadata": {
            "tags": []
          },
          "execution_count": 149
        }
      ]
    },
    {
      "cell_type": "markdown",
      "metadata": {
        "id": "HvIzaD6AwTN1"
      },
      "source": [
        "### Watch out broadcasting"
      ]
    },
    {
      "cell_type": "code",
      "metadata": {
        "colab": {
          "base_uri": "https://localhost:8080/"
        },
        "id": "Yol51vWJwFeT",
        "outputId": "19457666-aed5-4d9a-8d00-4b8a76aede5a"
      },
      "source": [
        "# Broadcasting은 Tensor의 차원을 맞춰주는 역할을 함\r\n",
        "# [3, 3] + [[2], 였던 것이 [[3, 3], + [[2, 2],  로 변경됨\r\n",
        "#           [2]]            [3, 3]]    [2, 2]] \r\n",
        "matrix1 = tf.constant([[3., 3.]])\r\n",
        "matrix2 = tf.constant([[2.],[2.]])\r\n",
        "(matrix1+matrix2).eval()"
      ],
      "execution_count": 150,
      "outputs": [
        {
          "output_type": "execute_result",
          "data": {
            "text/plain": [
              "array([[5., 5.],\n",
              "       [5., 5.]], dtype=float32)"
            ]
          },
          "metadata": {
            "tags": []
          },
          "execution_count": 150
        }
      ]
    },
    {
      "cell_type": "code",
      "metadata": {
        "colab": {
          "base_uri": "https://localhost:8080/"
        },
        "id": "HcenTq3YwZeL",
        "outputId": "49e0af4a-ac20-484d-8ebc-75a50f9e8992"
      },
      "source": [
        "matrix1 = tf.constant([[3., 3.]])\r\n",
        "matrix2 = tf.constant([[2., 2.]])\r\n",
        "(matrix1+matrix2).eval()"
      ],
      "execution_count": 151,
      "outputs": [
        {
          "output_type": "execute_result",
          "data": {
            "text/plain": [
              "array([[5., 5.]], dtype=float32)"
            ]
          },
          "metadata": {
            "tags": []
          },
          "execution_count": 151
        }
      ]
    },
    {
      "cell_type": "markdown",
      "metadata": {
        "id": "9BJLocIdw6BV"
      },
      "source": [
        "### Random values for variable initialization"
      ]
    },
    {
      "cell_type": "code",
      "metadata": {
        "colab": {
          "base_uri": "https://localhost:8080/"
        },
        "id": "7rxi8vWSwcer",
        "outputId": "4fdef44b-c0fa-4ffa-94d8-796455e41a13"
      },
      "source": [
        "tf.random_normal([3]).eval() # 정규분포로 부터 받은 Tensor의 차원만큼 난수를 반환한다."
      ],
      "execution_count": 154,
      "outputs": [
        {
          "output_type": "execute_result",
          "data": {
            "text/plain": [
              "array([-0.8951637 ,  0.78747755, -0.12193232], dtype=float32)"
            ]
          },
          "metadata": {
            "tags": []
          },
          "execution_count": 154
        }
      ]
    },
    {
      "cell_type": "code",
      "metadata": {
        "colab": {
          "base_uri": "https://localhost:8080/"
        },
        "id": "m2VXhhJsxDi6",
        "outputId": "6b9354b0-8af3-4b2b-d2fc-9f0595d74fb8"
      },
      "source": [
        "tf.random_uniform([2]).eval() # 균등 분포로부터 받은 Tensor의 차원만큼 난수를 반환한다. \r\n",
        "# 이때 [minval, maxval) 사이의 균등한 난수 값을 반환"
      ],
      "execution_count": 155,
      "outputs": [
        {
          "output_type": "execute_result",
          "data": {
            "text/plain": [
              "array([0.57820594, 0.71260226], dtype=float32)"
            ]
          },
          "metadata": {
            "tags": []
          },
          "execution_count": 155
        }
      ]
    },
    {
      "cell_type": "code",
      "metadata": {
        "colab": {
          "base_uri": "https://localhost:8080/"
        },
        "id": "uEAtJyYVxN4L",
        "outputId": "b1372449-c2ec-4a0f-c76e-c2f302f0008c"
      },
      "source": [
        "tf.random_uniform([2, 3]).eval()"
      ],
      "execution_count": 156,
      "outputs": [
        {
          "output_type": "execute_result",
          "data": {
            "text/plain": [
              "array([[0.3132081 , 0.34272933, 0.4011165 ],\n",
              "       [0.37095654, 0.9770187 , 0.7233596 ]], dtype=float32)"
            ]
          },
          "metadata": {
            "tags": []
          },
          "execution_count": 156
        }
      ]
    },
    {
      "cell_type": "markdown",
      "metadata": {
        "id": "9uTv_TeVycCj"
      },
      "source": [
        "### Reduced Mean/Sum"
      ]
    },
    {
      "cell_type": "code",
      "metadata": {
        "colab": {
          "base_uri": "https://localhost:8080/"
        },
        "id": "l0BwCjf4xOpL",
        "outputId": "aa77b5b4-3c12-44b1-f1b6-bbbc2f0e80a0"
      },
      "source": [
        "tf.reduce_mean([1, 2], axis = 0).eval()"
      ],
      "execution_count": 159,
      "outputs": [
        {
          "output_type": "execute_result",
          "data": {
            "text/plain": [
              "1"
            ]
          },
          "metadata": {
            "tags": []
          },
          "execution_count": 159
        }
      ]
    },
    {
      "cell_type": "code",
      "metadata": {
        "colab": {
          "base_uri": "https://localhost:8080/"
        },
        "id": "mYBHJB4Py4Fs",
        "outputId": "97156394-db64-4a53-9033-dd4c64ab684a"
      },
      "source": [
        "x = [[1., 2.],\r\n",
        "     [3., 4.]]\r\n",
        "\r\n",
        "tf.reduce_mean(x).eval() # 축의 설정이 없으면 전체에 대한 값을 구함"
      ],
      "execution_count": 162,
      "outputs": [
        {
          "output_type": "execute_result",
          "data": {
            "text/plain": [
              "2.5"
            ]
          },
          "metadata": {
            "tags": []
          },
          "execution_count": 162
        }
      ]
    },
    {
      "cell_type": "code",
      "metadata": {
        "colab": {
          "base_uri": "https://localhost:8080/"
        },
        "id": "TTntdqWJzCAs",
        "outputId": "973a2ed8-a08e-4eb2-b855-578a1a518edf"
      },
      "source": [
        "tf.reduce_mean(x, axis=0).eval()"
      ],
      "execution_count": 163,
      "outputs": [
        {
          "output_type": "execute_result",
          "data": {
            "text/plain": [
              "array([2., 3.], dtype=float32)"
            ]
          },
          "metadata": {
            "tags": []
          },
          "execution_count": 163
        }
      ]
    },
    {
      "cell_type": "code",
      "metadata": {
        "colab": {
          "base_uri": "https://localhost:8080/"
        },
        "id": "ulcl840VzKXL",
        "outputId": "708686d4-2a10-4794-8cbf-e7930a761fe8"
      },
      "source": [
        "tf.reduce_mean(x, axis=1).eval()"
      ],
      "execution_count": 164,
      "outputs": [
        {
          "output_type": "execute_result",
          "data": {
            "text/plain": [
              "array([1.5, 3.5], dtype=float32)"
            ]
          },
          "metadata": {
            "tags": []
          },
          "execution_count": 164
        }
      ]
    },
    {
      "cell_type": "code",
      "metadata": {
        "colab": {
          "base_uri": "https://localhost:8080/"
        },
        "id": "a2m6EZIlzQy7",
        "outputId": "b59117cd-f0fe-4afa-95f2-5b1c8346011e"
      },
      "source": [
        "tf.reduce_mean(x, axis=-1).eval()"
      ],
      "execution_count": 165,
      "outputs": [
        {
          "output_type": "execute_result",
          "data": {
            "text/plain": [
              "array([1.5, 3.5], dtype=float32)"
            ]
          },
          "metadata": {
            "tags": []
          },
          "execution_count": 165
        }
      ]
    },
    {
      "cell_type": "code",
      "metadata": {
        "colab": {
          "base_uri": "https://localhost:8080/"
        },
        "id": "lQ9QenGRzSBE",
        "outputId": "4795e32b-195f-46e2-bb0c-1e450e98ee89"
      },
      "source": [
        "tf.reduce_sum(x).eval()"
      ],
      "execution_count": 166,
      "outputs": [
        {
          "output_type": "execute_result",
          "data": {
            "text/plain": [
              "10.0"
            ]
          },
          "metadata": {
            "tags": []
          },
          "execution_count": 166
        }
      ]
    },
    {
      "cell_type": "code",
      "metadata": {
        "colab": {
          "base_uri": "https://localhost:8080/"
        },
        "id": "o5OnYMmTzT6r",
        "outputId": "2d50ddf6-52ca-4707-80df-d9f1f3176fbf"
      },
      "source": [
        "tf.reduce_sum(x, axis=0).eval()"
      ],
      "execution_count": 167,
      "outputs": [
        {
          "output_type": "execute_result",
          "data": {
            "text/plain": [
              "array([4., 6.], dtype=float32)"
            ]
          },
          "metadata": {
            "tags": []
          },
          "execution_count": 167
        }
      ]
    },
    {
      "cell_type": "code",
      "metadata": {
        "colab": {
          "base_uri": "https://localhost:8080/"
        },
        "id": "Cq4SQuwhzWZr",
        "outputId": "5221ccad-d026-41b6-de03-c346b4a5691f"
      },
      "source": [
        "tf.reduce_sum(x, axis=-1).eval()"
      ],
      "execution_count": 168,
      "outputs": [
        {
          "output_type": "execute_result",
          "data": {
            "text/plain": [
              "array([3., 7.], dtype=float32)"
            ]
          },
          "metadata": {
            "tags": []
          },
          "execution_count": 168
        }
      ]
    },
    {
      "cell_type": "code",
      "metadata": {
        "colab": {
          "base_uri": "https://localhost:8080/"
        },
        "id": "eQ13VvyqzaJL",
        "outputId": "7e3e3a86-3d34-4828-ecdc-5f3f9f072fbd"
      },
      "source": [
        "tf.reduce_mean(tf.reduce_sum(x, axis=-1)).eval()"
      ],
      "execution_count": 169,
      "outputs": [
        {
          "output_type": "execute_result",
          "data": {
            "text/plain": [
              "5.0"
            ]
          },
          "metadata": {
            "tags": []
          },
          "execution_count": 169
        }
      ]
    },
    {
      "cell_type": "markdown",
      "metadata": {
        "id": "u67vd5fVznKS"
      },
      "source": [
        "### Argmax with axis"
      ]
    },
    {
      "cell_type": "code",
      "metadata": {
        "colab": {
          "base_uri": "https://localhost:8080/"
        },
        "id": "HXvJDMzGzb-r",
        "outputId": "b84e66f5-edfc-4dc6-ecbc-fb39a751da23"
      },
      "source": [
        "# argmax는 축을 기준으로 큰 값의 위치(index)를 구해줌\r\n",
        "x = [[0, 1, 2],\r\n",
        "     [2, 1, 0]]\r\n",
        "tf.argmax(x, axis=0).eval()"
      ],
      "execution_count": 170,
      "outputs": [
        {
          "output_type": "execute_result",
          "data": {
            "text/plain": [
              "array([1, 0, 0])"
            ]
          },
          "metadata": {
            "tags": []
          },
          "execution_count": 170
        }
      ]
    },
    {
      "cell_type": "code",
      "metadata": {
        "colab": {
          "base_uri": "https://localhost:8080/"
        },
        "id": "HB4dWKsYzsnr",
        "outputId": "d23022d1-4a06-4075-c8d0-bf32edf37eb9"
      },
      "source": [
        "tf.argmax(x, axis=1).eval()"
      ],
      "execution_count": 171,
      "outputs": [
        {
          "output_type": "execute_result",
          "data": {
            "text/plain": [
              "array([2, 0])"
            ]
          },
          "metadata": {
            "tags": []
          },
          "execution_count": 171
        }
      ]
    },
    {
      "cell_type": "code",
      "metadata": {
        "colab": {
          "base_uri": "https://localhost:8080/"
        },
        "id": "O0_W5Ex50GwT",
        "outputId": "e411e221-bf91-49ce-b080-d7b188be5eb0"
      },
      "source": [
        "tf.argmax(x, axis=-1).eval()"
      ],
      "execution_count": 172,
      "outputs": [
        {
          "output_type": "execute_result",
          "data": {
            "text/plain": [
              "array([2, 0])"
            ]
          },
          "metadata": {
            "tags": []
          },
          "execution_count": 172
        }
      ]
    },
    {
      "cell_type": "markdown",
      "metadata": {
        "id": "MmDiBWWq0Jkx"
      },
      "source": [
        "### Reshape, Squeeze, expand_dims"
      ]
    },
    {
      "cell_type": "code",
      "metadata": {
        "colab": {
          "base_uri": "https://localhost:8080/"
        },
        "id": "ahmOXWfH0I5b",
        "outputId": "ef5b66e4-b24b-4f0c-ae44-53ddb864508d"
      },
      "source": [
        "# reshape에서 가장 마지막 축은 통상적으로 변경하지 않고 나머지를 조정한다.\r\n",
        "t = np.array([[[0, 1, 2], \r\n",
        "               [3, 4, 5]],\r\n",
        "              \r\n",
        "              [[6, 7, 8], \r\n",
        "               [9, 10, 11]]])\r\n",
        "t.shape"
      ],
      "execution_count": 173,
      "outputs": [
        {
          "output_type": "execute_result",
          "data": {
            "text/plain": [
              "(2, 2, 3)"
            ]
          },
          "metadata": {
            "tags": []
          },
          "execution_count": 173
        }
      ]
    },
    {
      "cell_type": "code",
      "metadata": {
        "colab": {
          "base_uri": "https://localhost:8080/"
        },
        "id": "IpgZ1CIQ0XKd",
        "outputId": "ac5a5661-3917-4e17-a34c-4b9eec5b65f0"
      },
      "source": [
        "tf.reshape(t, shape=[-1, 3]).eval()"
      ],
      "execution_count": 174,
      "outputs": [
        {
          "output_type": "execute_result",
          "data": {
            "text/plain": [
              "array([[ 0,  1,  2],\n",
              "       [ 3,  4,  5],\n",
              "       [ 6,  7,  8],\n",
              "       [ 9, 10, 11]])"
            ]
          },
          "metadata": {
            "tags": []
          },
          "execution_count": 174
        }
      ]
    },
    {
      "cell_type": "code",
      "metadata": {
        "colab": {
          "base_uri": "https://localhost:8080/"
        },
        "id": "4SMsZ7aW0ZVb",
        "outputId": "18b5b5db-0e60-42d1-ed2e-a6a79356d222"
      },
      "source": [
        "tf.reshape(t, shape=[-1, 1, 3]).eval()"
      ],
      "execution_count": 175,
      "outputs": [
        {
          "output_type": "execute_result",
          "data": {
            "text/plain": [
              "array([[[ 0,  1,  2]],\n",
              "\n",
              "       [[ 3,  4,  5]],\n",
              "\n",
              "       [[ 6,  7,  8]],\n",
              "\n",
              "       [[ 9, 10, 11]]])"
            ]
          },
          "metadata": {
            "tags": []
          },
          "execution_count": 175
        }
      ]
    },
    {
      "cell_type": "code",
      "metadata": {
        "colab": {
          "base_uri": "https://localhost:8080/"
        },
        "id": "XoqJuijQ0dAz",
        "outputId": "1373bb69-1cfc-46bf-f937-e6143e66c28e"
      },
      "source": [
        "tf.squeeze([[0], [1], [2]]).eval() # Tensor에서 크기가 1인 차원을 없애줌"
      ],
      "execution_count": 177,
      "outputs": [
        {
          "output_type": "execute_result",
          "data": {
            "text/plain": [
              "array([0, 1, 2], dtype=int32)"
            ]
          },
          "metadata": {
            "tags": []
          },
          "execution_count": 177
        }
      ]
    },
    {
      "cell_type": "code",
      "metadata": {
        "colab": {
          "base_uri": "https://localhost:8080/"
        },
        "id": "bPAurH1T0fVS",
        "outputId": "95d3d118-a2bb-4b8c-fadf-fea5b57578ea"
      },
      "source": [
        "# 이는 크기가 1인 차원을 삽입한다.\r\n",
        "tf.expand_dims([0, 1, 2], 1).eval() # -1-input.dims() <= dim <= input.dims()안에서 확장가능"
      ],
      "execution_count": 185,
      "outputs": [
        {
          "output_type": "execute_result",
          "data": {
            "text/plain": [
              "array([[0],\n",
              "       [1],\n",
              "       [2]], dtype=int32)"
            ]
          },
          "metadata": {
            "tags": []
          },
          "execution_count": 185
        }
      ]
    },
    {
      "cell_type": "markdown",
      "metadata": {
        "id": "uL3XwE6916ox"
      },
      "source": [
        "### One hot"
      ]
    },
    {
      "cell_type": "code",
      "metadata": {
        "colab": {
          "base_uri": "https://localhost:8080/"
        },
        "id": "3xVv0ZDJ0r98",
        "outputId": "2331e94b-bd59-475c-ee85-44cb8a815d0f"
      },
      "source": [
        "# One hot encoding을 수행하면 차원이 1개 늘어남\r\n",
        "tf.one_hot([[0], [1], [2], [0]], depth=3).eval() # depth인자는 encoding의 길이를 결정 따라서 이는 Label의 수만큼 지정해주면 됨"
      ],
      "execution_count": 189,
      "outputs": [
        {
          "output_type": "execute_result",
          "data": {
            "text/plain": [
              "array([[[1., 0., 0.]],\n",
              "\n",
              "       [[0., 1., 0.]],\n",
              "\n",
              "       [[0., 0., 1.]],\n",
              "\n",
              "       [[1., 0., 0.]]], dtype=float32)"
            ]
          },
          "metadata": {
            "tags": []
          },
          "execution_count": 189
        }
      ]
    },
    {
      "cell_type": "code",
      "metadata": {
        "colab": {
          "base_uri": "https://localhost:8080/"
        },
        "id": "9AL6X5JQ1_DD",
        "outputId": "336dde36-96fe-4ee7-af4f-677e827bedd4"
      },
      "source": [
        "t = tf.one_hot([[0], [1], [2], [0]], depth=3)\r\n",
        "tf.reshape(t, shape=[-1, 3]).eval()"
      ],
      "execution_count": 190,
      "outputs": [
        {
          "output_type": "execute_result",
          "data": {
            "text/plain": [
              "array([[1., 0., 0.],\n",
              "       [0., 1., 0.],\n",
              "       [0., 0., 1.],\n",
              "       [1., 0., 0.]], dtype=float32)"
            ]
          },
          "metadata": {
            "tags": []
          },
          "execution_count": 190
        }
      ]
    },
    {
      "cell_type": "markdown",
      "metadata": {
        "id": "Kk_pdGvC2m6Y"
      },
      "source": [
        "### Casting"
      ]
    },
    {
      "cell_type": "code",
      "metadata": {
        "colab": {
          "base_uri": "https://localhost:8080/"
        },
        "id": "GL2xCRFp2drr",
        "outputId": "c42edee8-313e-4140-982c-95314dd1eed3"
      },
      "source": [
        "# casting은 데이터를 원하는 type으로 변경함\r\n",
        "tf.cast([1.8, 2.2, 3.3, 4.9], tf.int32).eval()"
      ],
      "execution_count": 192,
      "outputs": [
        {
          "output_type": "execute_result",
          "data": {
            "text/plain": [
              "array([1, 2, 3, 4], dtype=int32)"
            ]
          },
          "metadata": {
            "tags": []
          },
          "execution_count": 192
        }
      ]
    },
    {
      "cell_type": "code",
      "metadata": {
        "colab": {
          "base_uri": "https://localhost:8080/"
        },
        "id": "MN0piUjy2qXL",
        "outputId": "52cd592f-6d13-4032-e6ce-47cd4c5a4f86"
      },
      "source": [
        "tf.cast([True, False, 1 == 1, 0 == 1], tf.int32).eval()"
      ],
      "execution_count": 193,
      "outputs": [
        {
          "output_type": "execute_result",
          "data": {
            "text/plain": [
              "array([1, 0, 1, 0], dtype=int32)"
            ]
          },
          "metadata": {
            "tags": []
          },
          "execution_count": 193
        }
      ]
    },
    {
      "cell_type": "markdown",
      "metadata": {
        "id": "5Whut3t72yHK"
      },
      "source": [
        "### Stack"
      ]
    },
    {
      "cell_type": "code",
      "metadata": {
        "colab": {
          "base_uri": "https://localhost:8080/"
        },
        "id": "-PMjSmQp2xG7",
        "outputId": "97592209-7d05-4ce3-e90f-9aa806092db6"
      },
      "source": [
        "# stack은 축을 기준으로 stack을 한다. 축을 설정하지 않으면 변수의 순서대로 stack에 쌓인다.\r\n",
        "x = [1, 4]\r\n",
        "y = [2, 5]\r\n",
        "z = [3, 6]\r\n",
        "\r\n",
        "# Pack along first dim.\r\n",
        "tf.stack([x, y, z]).eval()"
      ],
      "execution_count": 194,
      "outputs": [
        {
          "output_type": "execute_result",
          "data": {
            "text/plain": [
              "array([[1, 4],\n",
              "       [2, 5],\n",
              "       [3, 6]], dtype=int32)"
            ]
          },
          "metadata": {
            "tags": []
          },
          "execution_count": 194
        }
      ]
    },
    {
      "cell_type": "code",
      "metadata": {
        "colab": {
          "base_uri": "https://localhost:8080/"
        },
        "id": "o-5-QvAO23Ja",
        "outputId": "a4f17da8-7d3a-465f-b3a1-4266ef45adf0"
      },
      "source": [
        "tf.stack([x, y, z], axis=1).eval()"
      ],
      "execution_count": 195,
      "outputs": [
        {
          "output_type": "execute_result",
          "data": {
            "text/plain": [
              "array([[1, 2, 3],\n",
              "       [4, 5, 6]], dtype=int32)"
            ]
          },
          "metadata": {
            "tags": []
          },
          "execution_count": 195
        }
      ]
    },
    {
      "cell_type": "markdown",
      "metadata": {
        "id": "U7N468zk3Kqa"
      },
      "source": [
        "### Ones like and Zeros like"
      ]
    },
    {
      "cell_type": "code",
      "metadata": {
        "colab": {
          "base_uri": "https://localhost:8080/"
        },
        "id": "X1MXM_TH25l7",
        "outputId": "6f462b94-009c-474c-e473-cc0b6be8c7e3"
      },
      "source": [
        "# 이는 인자로 받은 데이터의 차원과 똑같은 크기에 1 or 0을 삽입하여 생성한다.\r\n",
        "x = [[0, 1, 2],\r\n",
        "     [2, 1, 0]]\r\n",
        "\r\n",
        "tf.ones_like(x).eval()"
      ],
      "execution_count": 197,
      "outputs": [
        {
          "output_type": "execute_result",
          "data": {
            "text/plain": [
              "array([[1, 1, 1],\n",
              "       [1, 1, 1]], dtype=int32)"
            ]
          },
          "metadata": {
            "tags": []
          },
          "execution_count": 197
        }
      ]
    },
    {
      "cell_type": "code",
      "metadata": {
        "colab": {
          "base_uri": "https://localhost:8080/"
        },
        "id": "Nky9cZp53Z0T",
        "outputId": "c4905583-30a8-42a9-cfc5-9f2e887ebe4f"
      },
      "source": [
        "tf.zeros_like(x).eval()"
      ],
      "execution_count": 198,
      "outputs": [
        {
          "output_type": "execute_result",
          "data": {
            "text/plain": [
              "array([[0, 0, 0],\n",
              "       [0, 0, 0]], dtype=int32)"
            ]
          },
          "metadata": {
            "tags": []
          },
          "execution_count": 198
        }
      ]
    },
    {
      "cell_type": "markdown",
      "metadata": {
        "id": "0ZLbZYWT3ehz"
      },
      "source": [
        "### Zip"
      ]
    },
    {
      "cell_type": "code",
      "metadata": {
        "colab": {
          "base_uri": "https://localhost:8080/"
        },
        "id": "Gj55SURK3dgb",
        "outputId": "335db00a-0ae2-4c54-e32f-b3786e874e64"
      },
      "source": [
        "for x, y in zip([1, 2, 3], [4, 5, 6]):\r\n",
        "    print(x, y)"
      ],
      "execution_count": 200,
      "outputs": [
        {
          "output_type": "stream",
          "text": [
            "1 4\n",
            "2 5\n",
            "3 6\n"
          ],
          "name": "stdout"
        }
      ]
    },
    {
      "cell_type": "code",
      "metadata": {
        "colab": {
          "base_uri": "https://localhost:8080/"
        },
        "id": "ITOD2Sq13h4j",
        "outputId": "c333e400-e425-4afb-f82b-3db0e3d60812"
      },
      "source": [
        "for x, y, z in zip([1, 2, 3], [4, 5, 6], [7, 8, 9]):\r\n",
        "    print(x, y, z)"
      ],
      "execution_count": 202,
      "outputs": [
        {
          "output_type": "stream",
          "text": [
            "1 4 7\n",
            "2 5 8\n",
            "3 6 9\n"
          ],
          "name": "stdout"
        }
      ]
    },
    {
      "cell_type": "markdown",
      "metadata": {
        "id": "P9W4tL3a3nDX"
      },
      "source": [
        "### Transpose"
      ]
    },
    {
      "cell_type": "code",
      "metadata": {
        "colab": {
          "base_uri": "https://localhost:8080/"
        },
        "id": "UaE77K5p3k50",
        "outputId": "84aa22af-6a1d-40e0-cf31-c80c25d9417e"
      },
      "source": [
        "t = np.array([[[0, 1, 2], [3, 4, 5]], [[6, 7, 8], [9, 10, 11]]])\r\n",
        "pp.pprint(t.shape)\r\n",
        "pp.pprint(t)"
      ],
      "execution_count": 203,
      "outputs": [
        {
          "output_type": "stream",
          "text": [
            "(2, 2, 3)\n",
            "array([[[ 0,  1,  2],\n",
            "        [ 3,  4,  5]],\n",
            "\n",
            "       [[ 6,  7,  8],\n",
            "        [ 9, 10, 11]]])\n"
          ],
          "name": "stdout"
        }
      ]
    },
    {
      "cell_type": "code",
      "metadata": {
        "colab": {
          "base_uri": "https://localhost:8080/"
        },
        "id": "jPL0ryr13p3O",
        "outputId": "426c7b8d-2302-4642-eb3d-79988320c647"
      },
      "source": [
        "t1 = tf.transpose(t, [1, 0, 2]) # perm은 해당 Tensor의 차원만큼 생성하여 index 위치를 변경하면 된다. 이는 Permutation을 사용한다.\r\n",
        "pp.pprint(sess.run(t1).shape)\r\n",
        "pp.pprint(sess.run(t1))"
      ],
      "execution_count": 209,
      "outputs": [
        {
          "output_type": "stream",
          "text": [
            "(2, 2, 3)\n",
            "array([[[ 0,  1,  2],\n",
            "        [ 6,  7,  8]],\n",
            "\n",
            "       [[ 3,  4,  5],\n",
            "        [ 9, 10, 11]]])\n"
          ],
          "name": "stdout"
        }
      ]
    },
    {
      "cell_type": "code",
      "metadata": {
        "colab": {
          "base_uri": "https://localhost:8080/"
        },
        "id": "PxD-6MHB4crT",
        "outputId": "2707708e-ebab-4826-948c-25ce7b77d614"
      },
      "source": [
        "t2 = tf.transpose(t, [1, 2, 0])\r\n",
        "pp.pprint(sess.run(t2).shape)\r\n",
        "pp.pprint(sess.run(t2))"
      ],
      "execution_count": 208,
      "outputs": [
        {
          "output_type": "stream",
          "text": [
            "(2, 3, 2)\n",
            "array([[[ 0,  6],\n",
            "        [ 1,  7],\n",
            "        [ 2,  8]],\n",
            "\n",
            "       [[ 3,  9],\n",
            "        [ 4, 10],\n",
            "        [ 5, 11]]])\n"
          ],
          "name": "stdout"
        }
      ]
    },
    {
      "cell_type": "code",
      "metadata": {
        "colab": {
          "base_uri": "https://localhost:8080/"
        },
        "id": "FnVyHxr4659i",
        "outputId": "3d4283c0-4c3b-4f24-cd4a-4fec54425d53"
      },
      "source": [
        "t = tf.transpose(t2, [2, 0, 1])\r\n",
        "pp.pprint(sess.run(t).shape)\r\n",
        "pp.pprint(sess.run(t))"
      ],
      "execution_count": 210,
      "outputs": [
        {
          "output_type": "stream",
          "text": [
            "(2, 2, 3)\n",
            "array([[[ 0,  1,  2],\n",
            "        [ 3,  4,  5]],\n",
            "\n",
            "       [[ 6,  7,  8],\n",
            "        [ 9, 10, 11]]])\n"
          ],
          "name": "stdout"
        }
      ]
    },
    {
      "cell_type": "code",
      "metadata": {
        "id": "jvCMQWuC7DB7"
      },
      "source": [
        ""
      ],
      "execution_count": null,
      "outputs": []
    }
  ]
}